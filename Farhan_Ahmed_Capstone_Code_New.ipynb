{
 "cells": [
  {
   "cell_type": "markdown",
   "metadata": {},
   "source": [
    "## Initial Cleaning Steps"
   ]
  },
  {
   "cell_type": "markdown",
   "metadata": {},
   "source": [
    "I read this data in as string because it was difficult to do so otherwise"
   ]
  },
  {
   "cell_type": "code",
   "execution_count": 18,
   "metadata": {},
   "outputs": [],
   "source": [
    "# import data csv\n",
    "import pandas as pd\n",
    "df = pd.read_csv(\"loan.csv\", delimiter = \",\",index_col=False, dtype = \"str\")"
   ]
  },
  {
   "cell_type": "code",
   "execution_count": 19,
   "metadata": {},
   "outputs": [],
   "source": [
    "# Remove columns that represent information not necessary or not information available to lender while giving the loan\n",
    "df = df.drop(['total_pymnt_inv','total_pymnt','debt_settlement_flag','out_prncp','last_pymnt_d','last_pymnt_amnt','out_prncp_inv','total_rec_int','total_rec_late_fee','recoveries','collection_recovery_fee','total_rec_prncp','total_rev_hi_lim','total_rec_int'],axis = 1)"
   ]
  },
  {
   "cell_type": "code",
   "execution_count": 20,
   "metadata": {},
   "outputs": [
    {
     "data": {
      "text/html": [
       "<div>\n",
       "<style scoped>\n",
       "    .dataframe tbody tr th:only-of-type {\n",
       "        vertical-align: middle;\n",
       "    }\n",
       "\n",
       "    .dataframe tbody tr th {\n",
       "        vertical-align: top;\n",
       "    }\n",
       "\n",
       "    .dataframe thead th {\n",
       "        text-align: right;\n",
       "    }\n",
       "</style>\n",
       "<table border=\"1\" class=\"dataframe\">\n",
       "  <thead>\n",
       "    <tr style=\"text-align: right;\">\n",
       "      <th></th>\n",
       "      <th>NAs</th>\n",
       "    </tr>\n",
       "  </thead>\n",
       "  <tbody>\n",
       "    <tr>\n",
       "      <th>id</th>\n",
       "      <td>2260668</td>\n",
       "    </tr>\n",
       "    <tr>\n",
       "      <th>member_id</th>\n",
       "      <td>2260668</td>\n",
       "    </tr>\n",
       "    <tr>\n",
       "      <th>emp_title</th>\n",
       "      <td>166969</td>\n",
       "    </tr>\n",
       "    <tr>\n",
       "      <th>emp_length</th>\n",
       "      <td>146907</td>\n",
       "    </tr>\n",
       "    <tr>\n",
       "      <th>annual_inc</th>\n",
       "      <td>4</td>\n",
       "    </tr>\n",
       "  </tbody>\n",
       "</table>\n",
       "</div>"
      ],
      "text/plain": [
       "                NAs\n",
       "id          2260668\n",
       "member_id   2260668\n",
       "emp_title    166969\n",
       "emp_length   146907\n",
       "annual_inc        4"
      ]
     },
     "execution_count": 20,
     "metadata": {},
     "output_type": "execute_result"
    }
   ],
   "source": [
    "df_colnans = df.isna().sum()\n",
    "df_colnans.value_counts()\n",
    "nans = pd. DataFrame(df_colnans)\n",
    "nans.columns = nans.columns.astype(str)\n",
    "nans.rename(columns = {'0':'NAs'}, inplace = True)\n",
    "nans = nans[nans.NAs != 0]\n",
    "nans.head()\n"
   ]
  },
  {
   "cell_type": "code",
   "execution_count": 21,
   "metadata": {},
   "outputs": [
    {
     "data": {
      "text/html": [
       "<div>\n",
       "<style scoped>\n",
       "    .dataframe tbody tr th:only-of-type {\n",
       "        vertical-align: middle;\n",
       "    }\n",
       "\n",
       "    .dataframe tbody tr th {\n",
       "        vertical-align: top;\n",
       "    }\n",
       "\n",
       "    .dataframe thead th {\n",
       "        text-align: right;\n",
       "    }\n",
       "</style>\n",
       "<table border=\"1\" class=\"dataframe\">\n",
       "  <thead>\n",
       "    <tr style=\"text-align: right;\">\n",
       "      <th></th>\n",
       "      <th>NAs</th>\n",
       "    </tr>\n",
       "  </thead>\n",
       "  <tbody>\n",
       "    <tr>\n",
       "      <th>id</th>\n",
       "      <td>2260668</td>\n",
       "    </tr>\n",
       "    <tr>\n",
       "      <th>url</th>\n",
       "      <td>2260668</td>\n",
       "    </tr>\n",
       "    <tr>\n",
       "      <th>member_id</th>\n",
       "      <td>2260668</td>\n",
       "    </tr>\n",
       "    <tr>\n",
       "      <th>orig_projected_additional_accrued_interest</th>\n",
       "      <td>2252242</td>\n",
       "    </tr>\n",
       "    <tr>\n",
       "      <th>hardship_length</th>\n",
       "      <td>2250055</td>\n",
       "    </tr>\n",
       "    <tr>\n",
       "      <th>hardship_reason</th>\n",
       "      <td>2250055</td>\n",
       "    </tr>\n",
       "    <tr>\n",
       "      <th>hardship_status</th>\n",
       "      <td>2250055</td>\n",
       "    </tr>\n",
       "    <tr>\n",
       "      <th>deferral_term</th>\n",
       "      <td>2250055</td>\n",
       "    </tr>\n",
       "    <tr>\n",
       "      <th>hardship_amount</th>\n",
       "      <td>2250055</td>\n",
       "    </tr>\n",
       "    <tr>\n",
       "      <th>hardship_start_date</th>\n",
       "      <td>2250055</td>\n",
       "    </tr>\n",
       "    <tr>\n",
       "      <th>hardship_end_date</th>\n",
       "      <td>2250055</td>\n",
       "    </tr>\n",
       "    <tr>\n",
       "      <th>payment_plan_start_date</th>\n",
       "      <td>2250055</td>\n",
       "    </tr>\n",
       "    <tr>\n",
       "      <th>hardship_loan_status</th>\n",
       "      <td>2250055</td>\n",
       "    </tr>\n",
       "    <tr>\n",
       "      <th>hardship_dpd</th>\n",
       "      <td>2250055</td>\n",
       "    </tr>\n",
       "    <tr>\n",
       "      <th>hardship_payoff_balance_amount</th>\n",
       "      <td>2250055</td>\n",
       "    </tr>\n",
       "    <tr>\n",
       "      <th>hardship_last_payment_amount</th>\n",
       "      <td>2250055</td>\n",
       "    </tr>\n",
       "    <tr>\n",
       "      <th>hardship_type</th>\n",
       "      <td>2250055</td>\n",
       "    </tr>\n",
       "    <tr>\n",
       "      <th>debt_settlement_flag_date</th>\n",
       "      <td>2227612</td>\n",
       "    </tr>\n",
       "    <tr>\n",
       "      <th>settlement_status</th>\n",
       "      <td>2227612</td>\n",
       "    </tr>\n",
       "    <tr>\n",
       "      <th>settlement_date</th>\n",
       "      <td>2227612</td>\n",
       "    </tr>\n",
       "    <tr>\n",
       "      <th>settlement_amount</th>\n",
       "      <td>2227612</td>\n",
       "    </tr>\n",
       "    <tr>\n",
       "      <th>settlement_percentage</th>\n",
       "      <td>2227612</td>\n",
       "    </tr>\n",
       "    <tr>\n",
       "      <th>settlement_term</th>\n",
       "      <td>2227612</td>\n",
       "    </tr>\n",
       "    <tr>\n",
       "      <th>sec_app_mths_since_last_major_derog</th>\n",
       "      <td>2224726</td>\n",
       "    </tr>\n",
       "    <tr>\n",
       "      <th>sec_app_revol_util</th>\n",
       "      <td>2154484</td>\n",
       "    </tr>\n",
       "    <tr>\n",
       "      <th>revol_bal_joint</th>\n",
       "      <td>2152648</td>\n",
       "    </tr>\n",
       "    <tr>\n",
       "      <th>sec_app_collections_12_mths_ex_med</th>\n",
       "      <td>2152647</td>\n",
       "    </tr>\n",
       "    <tr>\n",
       "      <th>sec_app_chargeoff_within_12_mths</th>\n",
       "      <td>2152647</td>\n",
       "    </tr>\n",
       "    <tr>\n",
       "      <th>sec_app_num_rev_accts</th>\n",
       "      <td>2152647</td>\n",
       "    </tr>\n",
       "    <tr>\n",
       "      <th>sec_app_open_act_il</th>\n",
       "      <td>2152647</td>\n",
       "    </tr>\n",
       "    <tr>\n",
       "      <th>...</th>\n",
       "      <td>...</td>\n",
       "    </tr>\n",
       "    <tr>\n",
       "      <th>tot_coll_amt</th>\n",
       "      <td>70276</td>\n",
       "    </tr>\n",
       "    <tr>\n",
       "      <th>num_rev_tl_bal_gt_0</th>\n",
       "      <td>70276</td>\n",
       "    </tr>\n",
       "    <tr>\n",
       "      <th>num_op_rev_tl</th>\n",
       "      <td>70276</td>\n",
       "    </tr>\n",
       "    <tr>\n",
       "      <th>num_bc_tl</th>\n",
       "      <td>70276</td>\n",
       "    </tr>\n",
       "    <tr>\n",
       "      <th>num_actv_rev_tl</th>\n",
       "      <td>70276</td>\n",
       "    </tr>\n",
       "    <tr>\n",
       "      <th>num_il_tl</th>\n",
       "      <td>70276</td>\n",
       "    </tr>\n",
       "    <tr>\n",
       "      <th>num_sats</th>\n",
       "      <td>58590</td>\n",
       "    </tr>\n",
       "    <tr>\n",
       "      <th>num_bc_sats</th>\n",
       "      <td>58590</td>\n",
       "    </tr>\n",
       "    <tr>\n",
       "      <th>total_bc_limit</th>\n",
       "      <td>50030</td>\n",
       "    </tr>\n",
       "    <tr>\n",
       "      <th>total_bal_ex_mort</th>\n",
       "      <td>50030</td>\n",
       "    </tr>\n",
       "    <tr>\n",
       "      <th>acc_open_past_24mths</th>\n",
       "      <td>50030</td>\n",
       "    </tr>\n",
       "    <tr>\n",
       "      <th>mort_acc</th>\n",
       "      <td>50030</td>\n",
       "    </tr>\n",
       "    <tr>\n",
       "      <th>title</th>\n",
       "      <td>23325</td>\n",
       "    </tr>\n",
       "    <tr>\n",
       "      <th>revol_util</th>\n",
       "      <td>1802</td>\n",
       "    </tr>\n",
       "    <tr>\n",
       "      <th>dti</th>\n",
       "      <td>1711</td>\n",
       "    </tr>\n",
       "    <tr>\n",
       "      <th>pub_rec_bankruptcies</th>\n",
       "      <td>1365</td>\n",
       "    </tr>\n",
       "    <tr>\n",
       "      <th>collections_12_mths_ex_med</th>\n",
       "      <td>145</td>\n",
       "    </tr>\n",
       "    <tr>\n",
       "      <th>chargeoff_within_12_mths</th>\n",
       "      <td>145</td>\n",
       "    </tr>\n",
       "    <tr>\n",
       "      <th>tax_liens</th>\n",
       "      <td>105</td>\n",
       "    </tr>\n",
       "    <tr>\n",
       "      <th>last_credit_pull_d</th>\n",
       "      <td>73</td>\n",
       "    </tr>\n",
       "    <tr>\n",
       "      <th>inq_last_6mths</th>\n",
       "      <td>30</td>\n",
       "    </tr>\n",
       "    <tr>\n",
       "      <th>earliest_cr_line</th>\n",
       "      <td>29</td>\n",
       "    </tr>\n",
       "    <tr>\n",
       "      <th>delinq_2yrs</th>\n",
       "      <td>29</td>\n",
       "    </tr>\n",
       "    <tr>\n",
       "      <th>open_acc</th>\n",
       "      <td>29</td>\n",
       "    </tr>\n",
       "    <tr>\n",
       "      <th>pub_rec</th>\n",
       "      <td>29</td>\n",
       "    </tr>\n",
       "    <tr>\n",
       "      <th>acc_now_delinq</th>\n",
       "      <td>29</td>\n",
       "    </tr>\n",
       "    <tr>\n",
       "      <th>total_acc</th>\n",
       "      <td>29</td>\n",
       "    </tr>\n",
       "    <tr>\n",
       "      <th>delinq_amnt</th>\n",
       "      <td>29</td>\n",
       "    </tr>\n",
       "    <tr>\n",
       "      <th>annual_inc</th>\n",
       "      <td>4</td>\n",
       "    </tr>\n",
       "    <tr>\n",
       "      <th>zip_code</th>\n",
       "      <td>1</td>\n",
       "    </tr>\n",
       "  </tbody>\n",
       "</table>\n",
       "<p>111 rows × 1 columns</p>\n",
       "</div>"
      ],
      "text/plain": [
       "                                                NAs\n",
       "id                                          2260668\n",
       "url                                         2260668\n",
       "member_id                                   2260668\n",
       "orig_projected_additional_accrued_interest  2252242\n",
       "hardship_length                             2250055\n",
       "hardship_reason                             2250055\n",
       "hardship_status                             2250055\n",
       "deferral_term                               2250055\n",
       "hardship_amount                             2250055\n",
       "hardship_start_date                         2250055\n",
       "hardship_end_date                           2250055\n",
       "payment_plan_start_date                     2250055\n",
       "hardship_loan_status                        2250055\n",
       "hardship_dpd                                2250055\n",
       "hardship_payoff_balance_amount              2250055\n",
       "hardship_last_payment_amount                2250055\n",
       "hardship_type                               2250055\n",
       "debt_settlement_flag_date                   2227612\n",
       "settlement_status                           2227612\n",
       "settlement_date                             2227612\n",
       "settlement_amount                           2227612\n",
       "settlement_percentage                       2227612\n",
       "settlement_term                             2227612\n",
       "sec_app_mths_since_last_major_derog         2224726\n",
       "sec_app_revol_util                          2154484\n",
       "revol_bal_joint                             2152648\n",
       "sec_app_collections_12_mths_ex_med          2152647\n",
       "sec_app_chargeoff_within_12_mths            2152647\n",
       "sec_app_num_rev_accts                       2152647\n",
       "sec_app_open_act_il                         2152647\n",
       "...                                             ...\n",
       "tot_coll_amt                                  70276\n",
       "num_rev_tl_bal_gt_0                           70276\n",
       "num_op_rev_tl                                 70276\n",
       "num_bc_tl                                     70276\n",
       "num_actv_rev_tl                               70276\n",
       "num_il_tl                                     70276\n",
       "num_sats                                      58590\n",
       "num_bc_sats                                   58590\n",
       "total_bc_limit                                50030\n",
       "total_bal_ex_mort                             50030\n",
       "acc_open_past_24mths                          50030\n",
       "mort_acc                                      50030\n",
       "title                                         23325\n",
       "revol_util                                     1802\n",
       "dti                                            1711\n",
       "pub_rec_bankruptcies                           1365\n",
       "collections_12_mths_ex_med                      145\n",
       "chargeoff_within_12_mths                        145\n",
       "tax_liens                                       105\n",
       "last_credit_pull_d                               73\n",
       "inq_last_6mths                                   30\n",
       "earliest_cr_line                                 29\n",
       "delinq_2yrs                                      29\n",
       "open_acc                                         29\n",
       "pub_rec                                          29\n",
       "acc_now_delinq                                   29\n",
       "total_acc                                        29\n",
       "delinq_amnt                                      29\n",
       "annual_inc                                        4\n",
       "zip_code                                          1\n",
       "\n",
       "[111 rows x 1 columns]"
      ]
     },
     "execution_count": 21,
     "metadata": {},
     "output_type": "execute_result"
    }
   ],
   "source": [
    "nans.sort_values('NAs',ascending = False)"
   ]
  },
  {
   "cell_type": "code",
   "execution_count": 4,
   "metadata": {},
   "outputs": [],
   "source": [
    "import warnings\n",
    "warnings.filterwarnings(\"ignore\")"
   ]
  },
  {
   "cell_type": "code",
   "execution_count": 5,
   "metadata": {},
   "outputs": [
    {
     "data": {
      "text/plain": [
       "(2260668, 145)"
      ]
     },
     "execution_count": 5,
     "metadata": {},
     "output_type": "execute_result"
    }
   ],
   "source": [
    "#check shape to ensure data transferred as expected\n",
    "df.shape"
   ]
  },
  {
   "cell_type": "code",
   "execution_count": 9,
   "metadata": {},
   "outputs": [],
   "source": [
    "# remove any columns that have a huge no-value count \n",
    "df.dropna(thresh = 1500000, axis = 1, inplace = True)"
   ]
  },
  {
   "cell_type": "code",
   "execution_count": 10,
   "metadata": {},
   "outputs": [],
   "source": [
    "all_cols = df.columns\n",
    "\n"
   ]
  },
  {
   "cell_type": "code",
   "execution_count": 11,
   "metadata": {},
   "outputs": [
    {
     "data": {
      "text/plain": [
       "(2260668, 87)"
      ]
     },
     "execution_count": 11,
     "metadata": {},
     "output_type": "execute_result"
    }
   ],
   "source": [
    "df.shape"
   ]
  },
  {
   "cell_type": "code",
   "execution_count": 57,
   "metadata": {},
   "outputs": [
    {
     "name": "stdout",
     "output_type": "stream",
     "text": [
      "Fully Paid                                             1041952\n",
      "Current                                                 919695\n",
      "Charged Off                                             261655\n",
      "Late (31-120 days)                                       21897\n",
      "In Grace Period                                           8952\n",
      "Late (16-30 days)                                         3737\n",
      "Does not meet the credit policy. Status:Fully Paid        1988\n",
      "Does not meet the credit policy. Status:Charged Off        761\n",
      "Default                                                     31\n",
      "Name: loan_status, dtype: int64\n"
     ]
    }
   ],
   "source": [
    "# check dependent variable counts\n",
    "print(df[\"loan_status\"].value_counts())"
   ]
  },
  {
   "cell_type": "code",
   "execution_count": 12,
   "metadata": {},
   "outputs": [],
   "source": [
    "# remove unwanted categories from dependent variable\n",
    "df = df[df.loan_status != \"Current\"]\n",
    "df = df[df.loan_status != \"Late (31-120 days)\"]\n",
    "df = df[df.loan_status != \"Late (16-30 days)\"]\n",
    "df = df[df.loan_status != \"In Grace Period\"]\n",
    "df = df[df.loan_status != \"Default\"]\n",
    "df = df[df.loan_status != \"Does not meet the credit policy. Status:Fully Paid\"]\n",
    "df = df[df.loan_status != \"Does not meet the credit policy. Status:Charged Off\"]\n"
   ]
  },
  {
   "cell_type": "code",
   "execution_count": 13,
   "metadata": {},
   "outputs": [
    {
     "data": {
      "text/plain": [
       "(1303607, 87)"
      ]
     },
     "execution_count": 13,
     "metadata": {},
     "output_type": "execute_result"
    }
   ],
   "source": [
    "df.shape"
   ]
  },
  {
   "cell_type": "markdown",
   "metadata": {},
   "source": [
    "I removed certain columns from the analysis because this was information a lender would not have while giving a loan and so it was giving the model very high predictive powers. These columns were decided upon after I read up the description of each variable and decided upon which information would not be available at the time of lending. I also consulted the company website to study their model and make better judgements in choosing these variables."
   ]
  },
  {
   "cell_type": "code",
   "execution_count": 63,
   "metadata": {},
   "outputs": [
    {
     "data": {
      "text/plain": [
       "(1303607, 74)"
      ]
     },
     "execution_count": 63,
     "metadata": {},
     "output_type": "execute_result"
    }
   ],
   "source": [
    "df.shape"
   ]
  },
  {
   "cell_type": "code",
   "execution_count": 13,
   "metadata": {},
   "outputs": [],
   "source": [
    "pd.set_option('display.max_columns', None)"
   ]
  },
  {
   "cell_type": "code",
   "execution_count": 64,
   "metadata": {},
   "outputs": [
    {
     "data": {
      "text/plain": [
       "0         29\n",
       "67527     15\n",
       "47281      4\n",
       "67528      3\n",
       "1          2\n",
       "55841      2\n",
       "56         2\n",
       "67548      1\n",
       "54         1\n",
       "115570     1\n",
       "82579      1\n",
       "104295     1\n",
       "39         1\n",
       "810        1\n",
       "67681      1\n",
       "312        1\n",
       "169549     1\n",
       "697        1\n",
       "75454      1\n",
       "61047      1\n",
       "60639      1\n",
       "59741      1\n",
       "61386      1\n",
       "15426      1\n",
       "dtype: int64"
      ]
     },
     "execution_count": 64,
     "metadata": {},
     "output_type": "execute_result"
    }
   ],
   "source": [
    "df_colnans = df.isna().sum()\n",
    "df_colnans.value_counts()"
   ]
  },
  {
   "cell_type": "code",
   "execution_count": 67,
   "metadata": {},
   "outputs": [
    {
     "name": "stdout",
     "output_type": "stream",
     "text": [
      "0\n"
     ]
    }
   ],
   "source": [
    "for col in nans.columns:\n",
    "    print(col)"
   ]
  },
  {
   "cell_type": "code",
   "execution_count": 82,
   "metadata": {},
   "outputs": [
    {
     "data": {
      "text/plain": [
       "0"
      ]
     },
     "execution_count": 82,
     "metadata": {},
     "output_type": "execute_result"
    }
   ],
   "source": [
    "df.isna().sum().sum()"
   ]
  },
  {
   "cell_type": "code",
   "execution_count": 65,
   "metadata": {},
   "outputs": [],
   "source": [
    "# now remove all rows with any no-value cells in them\n",
    "df1 = df.dropna(axis = 0, how = 'any')"
   ]
  },
  {
   "cell_type": "code",
   "execution_count": 66,
   "metadata": {},
   "outputs": [
    {
     "data": {
      "text/plain": [
       "(956732, 74)"
      ]
     },
     "execution_count": 66,
     "metadata": {},
     "output_type": "execute_result"
    }
   ],
   "source": [
    "df1.shape"
   ]
  },
  {
   "cell_type": "code",
   "execution_count": null,
   "metadata": {},
   "outputs": [],
   "source": [
    "new_cols = df1.columns\n",
    "cat_cols = list(set(all_cols) - set(new_cols))"
   ]
  },
  {
   "cell_type": "code",
   "execution_count": 67,
   "metadata": {},
   "outputs": [],
   "source": [
    "#export to csv\n",
    "df.to_csv('Data_no_NAN.csv')"
   ]
  },
  {
   "cell_type": "markdown",
   "metadata": {},
   "source": [
    "Exported this to CSV as loading the full data again and again was becoming cumbersome. After this, I only work with the new CSV."
   ]
  },
  {
   "cell_type": "markdown",
   "metadata": {},
   "source": [
    "## Loading the Data\n"
   ]
  },
  {
   "cell_type": "code",
   "execution_count": 17,
   "metadata": {},
   "outputs": [],
   "source": [
    "# Read in the cleaned csv\n",
    "import pandas as pd\n",
    "final = pd.read_csv('Data_no_NAN.csv')\n",
    "\n",
    "pd.set_option('display.max_columns', None)"
   ]
  },
  {
   "cell_type": "code",
   "execution_count": 54,
   "metadata": {},
   "outputs": [],
   "source": [
    "# There is only instance of it in the data and it causes us dimension problems once we run get.dummies so removing it up-front\n",
    "final = final[final.purpose != 'educational']"
   ]
  },
  {
   "cell_type": "code",
   "execution_count": 55,
   "metadata": {},
   "outputs": [
    {
     "data": {
      "text/plain": [
       "(956731, 75)"
      ]
     },
     "execution_count": 55,
     "metadata": {},
     "output_type": "execute_result"
    }
   ],
   "source": [
    "# check shape\n",
    "final.shape"
   ]
  },
  {
   "cell_type": "code",
   "execution_count": 56,
   "metadata": {},
   "outputs": [
    {
     "name": "stdout",
     "output_type": "stream",
     "text": [
      "(55, 55)\n"
     ]
    },
    {
     "data": {
      "text/html": [
       "<div>\n",
       "<style scoped>\n",
       "    .dataframe tbody tr th:only-of-type {\n",
       "        vertical-align: middle;\n",
       "    }\n",
       "\n",
       "    .dataframe tbody tr th {\n",
       "        vertical-align: top;\n",
       "    }\n",
       "\n",
       "    .dataframe thead th {\n",
       "        text-align: right;\n",
       "    }\n",
       "</style>\n",
       "<table border=\"1\" class=\"dataframe\">\n",
       "  <thead>\n",
       "    <tr style=\"text-align: right;\">\n",
       "      <th></th>\n",
       "      <th>Unnamed: 0</th>\n",
       "      <th>loan_amnt</th>\n",
       "      <th>funded_amnt</th>\n",
       "      <th>funded_amnt_inv</th>\n",
       "      <th>int_rate</th>\n",
       "      <th>installment</th>\n",
       "      <th>annual_inc</th>\n",
       "      <th>dti</th>\n",
       "      <th>delinq_2yrs</th>\n",
       "      <th>inq_last_6mths</th>\n",
       "      <th>open_acc</th>\n",
       "      <th>pub_rec</th>\n",
       "      <th>revol_bal</th>\n",
       "      <th>revol_util</th>\n",
       "      <th>total_acc</th>\n",
       "      <th>collections_12_mths_ex_med</th>\n",
       "      <th>policy_code</th>\n",
       "      <th>acc_now_delinq</th>\n",
       "      <th>tot_coll_amt</th>\n",
       "      <th>tot_cur_bal</th>\n",
       "      <th>acc_open_past_24mths</th>\n",
       "      <th>avg_cur_bal</th>\n",
       "      <th>bc_open_to_buy</th>\n",
       "      <th>bc_util</th>\n",
       "      <th>chargeoff_within_12_mths</th>\n",
       "      <th>delinq_amnt</th>\n",
       "      <th>mo_sin_old_il_acct</th>\n",
       "      <th>mo_sin_old_rev_tl_op</th>\n",
       "      <th>mo_sin_rcnt_rev_tl_op</th>\n",
       "      <th>mo_sin_rcnt_tl</th>\n",
       "      <th>mort_acc</th>\n",
       "      <th>mths_since_recent_bc</th>\n",
       "      <th>mths_since_recent_inq</th>\n",
       "      <th>num_accts_ever_120_pd</th>\n",
       "      <th>num_actv_bc_tl</th>\n",
       "      <th>num_actv_rev_tl</th>\n",
       "      <th>num_bc_sats</th>\n",
       "      <th>num_bc_tl</th>\n",
       "      <th>num_il_tl</th>\n",
       "      <th>num_op_rev_tl</th>\n",
       "      <th>num_rev_accts</th>\n",
       "      <th>num_rev_tl_bal_gt_0</th>\n",
       "      <th>num_sats</th>\n",
       "      <th>num_tl_120dpd_2m</th>\n",
       "      <th>num_tl_30dpd</th>\n",
       "      <th>num_tl_90g_dpd_24m</th>\n",
       "      <th>num_tl_op_past_12m</th>\n",
       "      <th>pct_tl_nvr_dlq</th>\n",
       "      <th>percent_bc_gt_75</th>\n",
       "      <th>pub_rec_bankruptcies</th>\n",
       "      <th>tax_liens</th>\n",
       "      <th>tot_hi_cred_lim</th>\n",
       "      <th>total_bal_ex_mort</th>\n",
       "      <th>total_bc_limit</th>\n",
       "      <th>total_il_high_credit_limit</th>\n",
       "    </tr>\n",
       "  </thead>\n",
       "  <tbody>\n",
       "    <tr>\n",
       "      <th>Unnamed: 0</th>\n",
       "      <td>1.000000</td>\n",
       "      <td>0.002016</td>\n",
       "      <td>0.002016</td>\n",
       "      <td>0.002014</td>\n",
       "      <td>0.077925</td>\n",
       "      <td>0.000730</td>\n",
       "      <td>-0.023441</td>\n",
       "      <td>-0.030645</td>\n",
       "      <td>-0.008889</td>\n",
       "      <td>0.089405</td>\n",
       "      <td>-0.026225</td>\n",
       "      <td>-0.038218</td>\n",
       "      <td>0.009974</td>\n",
       "      <td>0.113283</td>\n",
       "      <td>0.015922</td>\n",
       "      <td>-0.017433</td>\n",
       "      <td>NaN</td>\n",
       "      <td>-0.004003</td>\n",
       "      <td>-0.002917</td>\n",
       "      <td>-0.006979</td>\n",
       "      <td>-0.087825</td>\n",
       "      <td>0.004185</td>\n",
       "      <td>-0.064394</td>\n",
       "      <td>0.109377</td>\n",
       "      <td>0.002394</td>\n",
       "      <td>-0.002863</td>\n",
       "      <td>0.011217</td>\n",
       "      <td>0.017643</td>\n",
       "      <td>0.013019</td>\n",
       "      <td>0.036369</td>\n",
       "      <td>0.047280</td>\n",
       "      <td>0.019901</td>\n",
       "      <td>0.019675</td>\n",
       "      <td>-0.030074</td>\n",
       "      <td>0.021879</td>\n",
       "      <td>0.028429</td>\n",
       "      <td>-0.006826</td>\n",
       "      <td>0.068190</td>\n",
       "      <td>-0.029064</td>\n",
       "      <td>-0.009867</td>\n",
       "      <td>0.037628</td>\n",
       "      <td>0.026433</td>\n",
       "      <td>-0.026417</td>\n",
       "      <td>0.000355</td>\n",
       "      <td>-0.004362</td>\n",
       "      <td>-0.003479</td>\n",
       "      <td>-0.085005</td>\n",
       "      <td>0.032433</td>\n",
       "      <td>0.104505</td>\n",
       "      <td>-0.031245</td>\n",
       "      <td>-0.017501</td>\n",
       "      <td>-0.016544</td>\n",
       "      <td>-0.042051</td>\n",
       "      <td>-0.034335</td>\n",
       "      <td>-0.058810</td>\n",
       "    </tr>\n",
       "    <tr>\n",
       "      <th>loan_amnt</th>\n",
       "      <td>0.002016</td>\n",
       "      <td>1.000000</td>\n",
       "      <td>1.000000</td>\n",
       "      <td>0.999994</td>\n",
       "      <td>0.145902</td>\n",
       "      <td>0.952008</td>\n",
       "      <td>0.290954</td>\n",
       "      <td>0.016153</td>\n",
       "      <td>-0.008781</td>\n",
       "      <td>-0.018227</td>\n",
       "      <td>0.165849</td>\n",
       "      <td>-0.065891</td>\n",
       "      <td>0.311699</td>\n",
       "      <td>0.103211</td>\n",
       "      <td>0.196749</td>\n",
       "      <td>-0.021910</td>\n",
       "      <td>NaN</td>\n",
       "      <td>-0.000761</td>\n",
       "      <td>-0.003112</td>\n",
       "      <td>0.305857</td>\n",
       "      <td>0.001925</td>\n",
       "      <td>0.225276</td>\n",
       "      <td>0.204029</td>\n",
       "      <td>0.047704</td>\n",
       "      <td>-0.000634</td>\n",
       "      <td>0.000061</td>\n",
       "      <td>0.129217</td>\n",
       "      <td>0.180136</td>\n",
       "      <td>0.054087</td>\n",
       "      <td>0.034059</td>\n",
       "      <td>0.224344</td>\n",
       "      <td>0.032595</td>\n",
       "      <td>0.003345</td>\n",
       "      <td>-0.056623</td>\n",
       "      <td>0.185913</td>\n",
       "      <td>0.142966</td>\n",
       "      <td>0.212852</td>\n",
       "      <td>0.197330</td>\n",
       "      <td>0.063766</td>\n",
       "      <td>0.160746</td>\n",
       "      <td>0.170454</td>\n",
       "      <td>0.143211</td>\n",
       "      <td>0.166776</td>\n",
       "      <td>-0.000679</td>\n",
       "      <td>0.001562</td>\n",
       "      <td>-0.021662</td>\n",
       "      <td>-0.028073</td>\n",
       "      <td>0.089323</td>\n",
       "      <td>0.017626</td>\n",
       "      <td>-0.091396</td>\n",
       "      <td>0.004204</td>\n",
       "      <td>0.328068</td>\n",
       "      <td>0.258561</td>\n",
       "      <td>0.365196</td>\n",
       "      <td>0.187638</td>\n",
       "    </tr>\n",
       "    <tr>\n",
       "      <th>funded_amnt</th>\n",
       "      <td>0.002016</td>\n",
       "      <td>1.000000</td>\n",
       "      <td>1.000000</td>\n",
       "      <td>0.999994</td>\n",
       "      <td>0.145902</td>\n",
       "      <td>0.952009</td>\n",
       "      <td>0.290954</td>\n",
       "      <td>0.016153</td>\n",
       "      <td>-0.008781</td>\n",
       "      <td>-0.018227</td>\n",
       "      <td>0.165848</td>\n",
       "      <td>-0.065891</td>\n",
       "      <td>0.311699</td>\n",
       "      <td>0.103212</td>\n",
       "      <td>0.196749</td>\n",
       "      <td>-0.021910</td>\n",
       "      <td>NaN</td>\n",
       "      <td>-0.000761</td>\n",
       "      <td>-0.003112</td>\n",
       "      <td>0.305856</td>\n",
       "      <td>0.001926</td>\n",
       "      <td>0.225276</td>\n",
       "      <td>0.204027</td>\n",
       "      <td>0.047705</td>\n",
       "      <td>-0.000634</td>\n",
       "      <td>0.000061</td>\n",
       "      <td>0.129217</td>\n",
       "      <td>0.180135</td>\n",
       "      <td>0.054086</td>\n",
       "      <td>0.034059</td>\n",
       "      <td>0.224344</td>\n",
       "      <td>0.032594</td>\n",
       "      <td>0.003346</td>\n",
       "      <td>-0.056623</td>\n",
       "      <td>0.185913</td>\n",
       "      <td>0.142966</td>\n",
       "      <td>0.212852</td>\n",
       "      <td>0.197330</td>\n",
       "      <td>0.063765</td>\n",
       "      <td>0.160746</td>\n",
       "      <td>0.170454</td>\n",
       "      <td>0.143211</td>\n",
       "      <td>0.166775</td>\n",
       "      <td>-0.000679</td>\n",
       "      <td>0.001562</td>\n",
       "      <td>-0.021662</td>\n",
       "      <td>-0.028072</td>\n",
       "      <td>0.089323</td>\n",
       "      <td>0.017627</td>\n",
       "      <td>-0.091395</td>\n",
       "      <td>0.004204</td>\n",
       "      <td>0.328067</td>\n",
       "      <td>0.258560</td>\n",
       "      <td>0.365195</td>\n",
       "      <td>0.187635</td>\n",
       "    </tr>\n",
       "    <tr>\n",
       "      <th>funded_amnt_inv</th>\n",
       "      <td>0.002014</td>\n",
       "      <td>0.999994</td>\n",
       "      <td>0.999994</td>\n",
       "      <td>1.000000</td>\n",
       "      <td>0.145874</td>\n",
       "      <td>0.951967</td>\n",
       "      <td>0.290986</td>\n",
       "      <td>0.016085</td>\n",
       "      <td>-0.008803</td>\n",
       "      <td>-0.018237</td>\n",
       "      <td>0.165842</td>\n",
       "      <td>-0.065895</td>\n",
       "      <td>0.311689</td>\n",
       "      <td>0.103157</td>\n",
       "      <td>0.196743</td>\n",
       "      <td>-0.021922</td>\n",
       "      <td>NaN</td>\n",
       "      <td>-0.000776</td>\n",
       "      <td>-0.003112</td>\n",
       "      <td>0.305884</td>\n",
       "      <td>0.001904</td>\n",
       "      <td>0.225303</td>\n",
       "      <td>0.204085</td>\n",
       "      <td>0.047650</td>\n",
       "      <td>-0.000649</td>\n",
       "      <td>0.000057</td>\n",
       "      <td>0.129230</td>\n",
       "      <td>0.180159</td>\n",
       "      <td>0.054097</td>\n",
       "      <td>0.034061</td>\n",
       "      <td>0.224364</td>\n",
       "      <td>0.032606</td>\n",
       "      <td>0.003331</td>\n",
       "      <td>-0.056642</td>\n",
       "      <td>0.185900</td>\n",
       "      <td>0.142941</td>\n",
       "      <td>0.212858</td>\n",
       "      <td>0.197317</td>\n",
       "      <td>0.063760</td>\n",
       "      <td>0.160741</td>\n",
       "      <td>0.170445</td>\n",
       "      <td>0.143186</td>\n",
       "      <td>0.166769</td>\n",
       "      <td>-0.000690</td>\n",
       "      <td>0.001549</td>\n",
       "      <td>-0.021676</td>\n",
       "      <td>-0.028091</td>\n",
       "      <td>0.089340</td>\n",
       "      <td>0.017582</td>\n",
       "      <td>-0.091386</td>\n",
       "      <td>0.004189</td>\n",
       "      <td>0.328100</td>\n",
       "      <td>0.258560</td>\n",
       "      <td>0.365234</td>\n",
       "      <td>0.187639</td>\n",
       "    </tr>\n",
       "    <tr>\n",
       "      <th>int_rate</th>\n",
       "      <td>0.077925</td>\n",
       "      <td>0.145902</td>\n",
       "      <td>0.145902</td>\n",
       "      <td>0.145874</td>\n",
       "      <td>1.000000</td>\n",
       "      <td>0.156567</td>\n",
       "      <td>-0.077694</td>\n",
       "      <td>0.172150</td>\n",
       "      <td>0.045248</td>\n",
       "      <td>0.217876</td>\n",
       "      <td>-0.013268</td>\n",
       "      <td>0.048596</td>\n",
       "      <td>-0.028109</td>\n",
       "      <td>0.238656</td>\n",
       "      <td>-0.052109</td>\n",
       "      <td>0.014522</td>\n",
       "      <td>NaN</td>\n",
       "      <td>0.016699</td>\n",
       "      <td>0.002499</td>\n",
       "      <td>-0.091606</td>\n",
       "      <td>0.181231</td>\n",
       "      <td>-0.090376</td>\n",
       "      <td>-0.281362</td>\n",
       "      <td>0.251711</td>\n",
       "      <td>0.010369</td>\n",
       "      <td>0.005107</td>\n",
       "      <td>-0.074434</td>\n",
       "      <td>-0.137277</td>\n",
       "      <td>-0.101106</td>\n",
       "      <td>-0.128666</td>\n",
       "      <td>-0.089226</td>\n",
       "      <td>-0.075694</td>\n",
       "      <td>-0.171957</td>\n",
       "      <td>0.043575</td>\n",
       "      <td>0.028081</td>\n",
       "      <td>0.089325</td>\n",
       "      <td>-0.059924</td>\n",
       "      <td>-0.084859</td>\n",
       "      <td>0.008695</td>\n",
       "      <td>-0.011317</td>\n",
       "      <td>-0.060884</td>\n",
       "      <td>0.088470</td>\n",
       "      <td>-0.013501</td>\n",
       "      <td>0.005252</td>\n",
       "      <td>0.014202</td>\n",
       "      <td>0.026450</td>\n",
       "      <td>0.199753</td>\n",
       "      <td>-0.061838</td>\n",
       "      <td>0.249373</td>\n",
       "      <td>0.054139</td>\n",
       "      <td>0.011529</td>\n",
       "      <td>-0.125266</td>\n",
       "      <td>0.002943</td>\n",
       "      <td>-0.228962</td>\n",
       "      <td>-0.006440</td>\n",
       "    </tr>\n",
       "  </tbody>\n",
       "</table>\n",
       "</div>"
      ],
      "text/plain": [
       "                 Unnamed: 0  loan_amnt  funded_amnt  funded_amnt_inv  \\\n",
       "Unnamed: 0         1.000000   0.002016     0.002016         0.002014   \n",
       "loan_amnt          0.002016   1.000000     1.000000         0.999994   \n",
       "funded_amnt        0.002016   1.000000     1.000000         0.999994   \n",
       "funded_amnt_inv    0.002014   0.999994     0.999994         1.000000   \n",
       "int_rate           0.077925   0.145902     0.145902         0.145874   \n",
       "\n",
       "                 int_rate  installment  annual_inc       dti  delinq_2yrs  \\\n",
       "Unnamed: 0       0.077925     0.000730   -0.023441 -0.030645    -0.008889   \n",
       "loan_amnt        0.145902     0.952008    0.290954  0.016153    -0.008781   \n",
       "funded_amnt      0.145902     0.952009    0.290954  0.016153    -0.008781   \n",
       "funded_amnt_inv  0.145874     0.951967    0.290986  0.016085    -0.008803   \n",
       "int_rate         1.000000     0.156567   -0.077694  0.172150     0.045248   \n",
       "\n",
       "                 inq_last_6mths  open_acc   pub_rec  revol_bal  revol_util  \\\n",
       "Unnamed: 0             0.089405 -0.026225 -0.038218   0.009974    0.113283   \n",
       "loan_amnt             -0.018227  0.165849 -0.065891   0.311699    0.103211   \n",
       "funded_amnt           -0.018227  0.165848 -0.065891   0.311699    0.103212   \n",
       "funded_amnt_inv       -0.018237  0.165842 -0.065895   0.311689    0.103157   \n",
       "int_rate               0.217876 -0.013268  0.048596  -0.028109    0.238656   \n",
       "\n",
       "                 total_acc  collections_12_mths_ex_med  policy_code  \\\n",
       "Unnamed: 0        0.015922                   -0.017433          NaN   \n",
       "loan_amnt         0.196749                   -0.021910          NaN   \n",
       "funded_amnt       0.196749                   -0.021910          NaN   \n",
       "funded_amnt_inv   0.196743                   -0.021922          NaN   \n",
       "int_rate         -0.052109                    0.014522          NaN   \n",
       "\n",
       "                 acc_now_delinq  tot_coll_amt  tot_cur_bal  \\\n",
       "Unnamed: 0            -0.004003     -0.002917    -0.006979   \n",
       "loan_amnt             -0.000761     -0.003112     0.305857   \n",
       "funded_amnt           -0.000761     -0.003112     0.305856   \n",
       "funded_amnt_inv       -0.000776     -0.003112     0.305884   \n",
       "int_rate               0.016699      0.002499    -0.091606   \n",
       "\n",
       "                 acc_open_past_24mths  avg_cur_bal  bc_open_to_buy   bc_util  \\\n",
       "Unnamed: 0                  -0.087825     0.004185       -0.064394  0.109377   \n",
       "loan_amnt                    0.001925     0.225276        0.204029  0.047704   \n",
       "funded_amnt                  0.001926     0.225276        0.204027  0.047705   \n",
       "funded_amnt_inv              0.001904     0.225303        0.204085  0.047650   \n",
       "int_rate                     0.181231    -0.090376       -0.281362  0.251711   \n",
       "\n",
       "                 chargeoff_within_12_mths  delinq_amnt  mo_sin_old_il_acct  \\\n",
       "Unnamed: 0                       0.002394    -0.002863            0.011217   \n",
       "loan_amnt                       -0.000634     0.000061            0.129217   \n",
       "funded_amnt                     -0.000634     0.000061            0.129217   \n",
       "funded_amnt_inv                 -0.000649     0.000057            0.129230   \n",
       "int_rate                         0.010369     0.005107           -0.074434   \n",
       "\n",
       "                 mo_sin_old_rev_tl_op  mo_sin_rcnt_rev_tl_op  mo_sin_rcnt_tl  \\\n",
       "Unnamed: 0                   0.017643               0.013019        0.036369   \n",
       "loan_amnt                    0.180136               0.054087        0.034059   \n",
       "funded_amnt                  0.180135               0.054086        0.034059   \n",
       "funded_amnt_inv              0.180159               0.054097        0.034061   \n",
       "int_rate                    -0.137277              -0.101106       -0.128666   \n",
       "\n",
       "                 mort_acc  mths_since_recent_bc  mths_since_recent_inq  \\\n",
       "Unnamed: 0       0.047280              0.019901               0.019675   \n",
       "loan_amnt        0.224344              0.032595               0.003345   \n",
       "funded_amnt      0.224344              0.032594               0.003346   \n",
       "funded_amnt_inv  0.224364              0.032606               0.003331   \n",
       "int_rate        -0.089226             -0.075694              -0.171957   \n",
       "\n",
       "                 num_accts_ever_120_pd  num_actv_bc_tl  num_actv_rev_tl  \\\n",
       "Unnamed: 0                   -0.030074        0.021879         0.028429   \n",
       "loan_amnt                    -0.056623        0.185913         0.142966   \n",
       "funded_amnt                  -0.056623        0.185913         0.142966   \n",
       "funded_amnt_inv              -0.056642        0.185900         0.142941   \n",
       "int_rate                      0.043575        0.028081         0.089325   \n",
       "\n",
       "                 num_bc_sats  num_bc_tl  num_il_tl  num_op_rev_tl  \\\n",
       "Unnamed: 0         -0.006826   0.068190  -0.029064      -0.009867   \n",
       "loan_amnt           0.212852   0.197330   0.063766       0.160746   \n",
       "funded_amnt         0.212852   0.197330   0.063765       0.160746   \n",
       "funded_amnt_inv     0.212858   0.197317   0.063760       0.160741   \n",
       "int_rate           -0.059924  -0.084859   0.008695      -0.011317   \n",
       "\n",
       "                 num_rev_accts  num_rev_tl_bal_gt_0  num_sats  \\\n",
       "Unnamed: 0            0.037628             0.026433 -0.026417   \n",
       "loan_amnt             0.170454             0.143211  0.166776   \n",
       "funded_amnt           0.170454             0.143211  0.166775   \n",
       "funded_amnt_inv       0.170445             0.143186  0.166769   \n",
       "int_rate             -0.060884             0.088470 -0.013501   \n",
       "\n",
       "                 num_tl_120dpd_2m  num_tl_30dpd  num_tl_90g_dpd_24m  \\\n",
       "Unnamed: 0               0.000355     -0.004362           -0.003479   \n",
       "loan_amnt               -0.000679      0.001562           -0.021662   \n",
       "funded_amnt             -0.000679      0.001562           -0.021662   \n",
       "funded_amnt_inv         -0.000690      0.001549           -0.021676   \n",
       "int_rate                 0.005252      0.014202            0.026450   \n",
       "\n",
       "                 num_tl_op_past_12m  pct_tl_nvr_dlq  percent_bc_gt_75  \\\n",
       "Unnamed: 0                -0.085005        0.032433          0.104505   \n",
       "loan_amnt                 -0.028073        0.089323          0.017626   \n",
       "funded_amnt               -0.028072        0.089323          0.017627   \n",
       "funded_amnt_inv           -0.028091        0.089340          0.017582   \n",
       "int_rate                   0.199753       -0.061838          0.249373   \n",
       "\n",
       "                 pub_rec_bankruptcies  tax_liens  tot_hi_cred_lim  \\\n",
       "Unnamed: 0                  -0.031245  -0.017501        -0.016544   \n",
       "loan_amnt                   -0.091396   0.004204         0.328068   \n",
       "funded_amnt                 -0.091395   0.004204         0.328067   \n",
       "funded_amnt_inv             -0.091386   0.004189         0.328100   \n",
       "int_rate                     0.054139   0.011529        -0.125266   \n",
       "\n",
       "                 total_bal_ex_mort  total_bc_limit  total_il_high_credit_limit  \n",
       "Unnamed: 0               -0.042051       -0.034335                   -0.058810  \n",
       "loan_amnt                 0.258561        0.365196                    0.187638  \n",
       "funded_amnt               0.258560        0.365195                    0.187635  \n",
       "funded_amnt_inv           0.258560        0.365234                    0.187639  \n",
       "int_rate                  0.002943       -0.228962                   -0.006440  "
      ]
     },
     "execution_count": 56,
     "metadata": {},
     "output_type": "execute_result"
    }
   ],
   "source": [
    "final_num = final._get_numeric_data()\n",
    "corr = final_num.corr()\n",
    "print(corr.shape)\n",
    "corr.head()"
   ]
  },
  {
   "cell_type": "code",
   "execution_count": 57,
   "metadata": {},
   "outputs": [
    {
     "data": {
      "image/png": "[encoded data removed]",
      "text/plain": [
       "<Figure size 1152x1152 with 2 Axes>"
      ]
     },
     "metadata": {
      "needs_background": "light"
     },
     "output_type": "display_data"
    }
   ],
   "source": [
    "import matplotlib.pyplot as plt\n",
    "import seaborn as sns\n",
    "\n",
    "plt.figure(figsize = (16,16))\n",
    "sns.heatmap(corr, \n",
    "        xticklabels=corr.columns,\n",
    "        yticklabels=corr.columns)\n",
    "plt.show()\n"
   ]
  },
  {
   "cell_type": "markdown",
   "metadata": {},
   "source": [
    "## Feature Selection Process"
   ]
  },
  {
   "cell_type": "code",
   "execution_count": 58,
   "metadata": {},
   "outputs": [],
   "source": [
    "# set the data up to do the train-test split to calculate mutual info scores\n",
    "from sklearn.model_selection import train_test_split\n",
    "\n",
    "\n",
    "df_y = final['loan_status']\n",
    "df_x = final.drop(['loan_status'],axis = 1)\n",
    "\n",
    "X = df_x\n",
    "y = df_y"
   ]
  },
  {
   "cell_type": "code",
   "execution_count": 59,
   "metadata": {},
   "outputs": [],
   "source": [
    "# train-test split\n",
    "X_train, X_test, y_train, y_test = train_test_split(X, y, test_size=0.4, stratify = y)"
   ]
  },
  {
   "cell_type": "code",
   "execution_count": 60,
   "metadata": {},
   "outputs": [
    {
     "name": "stderr",
     "output_type": "stream",
     "text": [
      "/Users/farhanahmed/anaconda3/lib/python3.7/site-packages/sklearn/metrics/cluster/supervised.py:732: FutureWarning: The behavior of AMI will change in version 0.22. To match the behavior of 'v_measure_score', AMI will use average_method='arithmetic' by default.\n",
      "  FutureWarning)\n"
     ]
    },
    {
     "data": {
      "text/plain": [
       "[]"
      ]
     },
     "execution_count": 60,
     "metadata": {},
     "output_type": "execute_result"
    },
    {
     "data": {
      "image/png": "[encoded data removed]",
      "text/plain": [
       "<Figure size 1152x1152 with 1 Axes>"
      ]
     },
     "metadata": {
      "needs_background": "light"
     },
     "output_type": "display_data"
    }
   ],
   "source": [
    "# take a look at the mutual info scores to select which features will be part of the model\n",
    "from sklearn.metrics.cluster import adjusted_mutual_info_score\n",
    "from sklearn.metrics import mutual_info_score\n",
    "import matplotlib.pyplot as plt\n",
    "\n",
    "adjusted_mutual_info_scores = []\n",
    "\n",
    "for feature in X_train.columns:\n",
    "    # Calculate the mutual info score\n",
    "    m_info = adjusted_mutual_info_score(X_train[feature], y_train)\n",
    "    # Append it to our list\n",
    "    adjusted_mutual_info_scores.append(m_info)\n",
    "\n",
    "plt.figure(figsize = (16,16))\n",
    "plt.bar(X_train.columns, adjusted_mutual_info_scores)\n",
    "plt.ylabel('Mutual info shared with Target')\n",
    "plt.xticks(rotation=90)\n",
    "plt.plot()"
   ]
  },
  {
   "cell_type": "code",
   "execution_count": 61,
   "metadata": {},
   "outputs": [],
   "source": [
    "#Select the top 35 features in terms of MIS\n",
    "MIS = pd.DataFrame({'Features' : X_train.columns, 'Info Scores' : adjusted_mutual_info_scores}, dtype = float)\n",
    "MIS = MIS.sort_values('Info Scores', ascending = False)\n",
    "MIS_65 = pd.DataFrame(MIS.head(65))\n",
    "MIS_65 = MIS_65.set_index('Features')\n"
   ]
  },
  {
   "cell_type": "code",
   "execution_count": 62,
   "metadata": {},
   "outputs": [],
   "source": [
    "cols = MIS_65.index"
   ]
  },
  {
   "cell_type": "code",
   "execution_count": 29,
   "metadata": {},
   "outputs": [
    {
     "data": {
      "text/plain": [
       "(65,)"
      ]
     },
     "execution_count": 29,
     "metadata": {},
     "output_type": "execute_result"
    }
   ],
   "source": [
    "cols.shape"
   ]
  },
  {
   "cell_type": "code",
   "execution_count": 63,
   "metadata": {},
   "outputs": [],
   "source": [
    "final = final[cols]"
   ]
  },
  {
   "cell_type": "code",
   "execution_count": 64,
   "metadata": {},
   "outputs": [
    {
     "data": {
      "text/plain": [
       "(48,)"
      ]
     },
     "execution_count": 64,
     "metadata": {},
     "output_type": "execute_result"
    }
   ],
   "source": [
    "num_cols = final._get_numeric_data().columns\n",
    "num_cols.shape\n"
   ]
  },
  {
   "cell_type": "code",
   "execution_count": 65,
   "metadata": {},
   "outputs": [
    {
     "data": {
      "text/plain": [
       "['last_credit_pull_d',\n",
       " 'grade',\n",
       " 'home_ownership',\n",
       " 'title',\n",
       " 'sub_grade',\n",
       " 'emp_length',\n",
       " 'emp_title',\n",
       " 'verification_status',\n",
       " 'addr_state',\n",
       " 'pymnt_plan',\n",
       " 'earliest_cr_line',\n",
       " 'application_type',\n",
       " 'zip_code',\n",
       " 'purpose',\n",
       " 'hardship_flag',\n",
       " 'issue_d',\n",
       " 'term']"
      ]
     },
     "execution_count": 65,
     "metadata": {},
     "output_type": "execute_result"
    }
   ],
   "source": [
    "#Finding the categorical columns in the top 35\n",
    "cat_cols = list(set(cols) - set(num_cols))\n",
    "cat_cols"
   ]
  },
  {
   "cell_type": "code",
   "execution_count": 66,
   "metadata": {},
   "outputs": [
    {
     "data": {
      "text/plain": [
       "(956731, 65)"
      ]
     },
     "execution_count": 66,
     "metadata": {},
     "output_type": "execute_result"
    }
   ],
   "source": [
    "final.shape"
   ]
  },
  {
   "cell_type": "code",
   "execution_count": 34,
   "metadata": {},
   "outputs": [
    {
     "name": "stdout",
     "output_type": "stream",
     "text": [
      "last_credit_pull_d ['Jan-2019' 'Feb-2019' 'Dec-2018' 'Nov-2018' 'Oct-2018' 'Sep-2018'\n",
      " 'Aug-2018' 'Jul-2018' 'Jun-2018' 'May-2018' 'Apr-2018' 'Mar-2018'\n",
      " 'Feb-2018' 'Jan-2018' 'Dec-2017' 'Nov-2017' 'Aug-2017' 'Jul-2017'\n",
      " 'Jun-2017' 'Mar-2017' 'Sep-2016' 'May-2017' 'Jan-2017' 'Feb-2017'\n",
      " 'Oct-2017' 'Oct-2016' 'Sep-2017' 'Apr-2017' 'Dec-2016' 'Nov-2016'\n",
      " 'Aug-2016' 'Jul-2016' 'Jun-2016' 'May-2016' 'Apr-2016' 'Mar-2016'\n",
      " 'Mar-2019' 'Feb-2016' 'Jan-2016' 'Dec-2015' 'Nov-2015' 'Oct-2015'\n",
      " 'Sep-2015' 'Aug-2015' 'Jul-2015' 'Jun-2015' 'May-2015' 'Apr-2015'\n",
      " 'Mar-2015' 'Feb-2015' 'Jan-2015' 'Dec-2014' 'Aug-2014' 'Mar-2014'\n",
      " 'Sep-2014' 'May-2014' 'Jan-2014' 'Jul-2014' 'Feb-2014' 'Nov-2014'\n",
      " 'Jun-2014' 'Apr-2014' 'Oct-2014' 'Nov-2013' 'Dec-2013' 'Oct-2013'\n",
      " 'Sep-2013' 'Aug-2013' 'Jun-2013' 'Jul-2013' 'May-2013' 'Apr-2013'\n",
      " 'Mar-2013' 'Jan-2013' 'Dec-2012' 'Feb-2013' 'Nov-2012' 'Oct-2012'\n",
      " 'Sep-2012' 'Aug-2012']\n",
      "grade ['D' 'C' 'A' 'B' 'E' 'G' 'F']\n",
      "home_ownership ['MORTGAGE' 'RENT' 'OWN' 'ANY' 'NONE' 'OTHER']\n",
      "title ['Debt consolidation' 'Credit card refinancing' 'Other' ...\n",
      " 'Consolidation 01' 'Financial Loan' 'Paying off the car and some bills']\n",
      "sub_grade ['D5' 'C4' 'A3' 'B3' 'E5' 'D1' 'C1' 'A4' 'E1' 'B5' 'E4' 'B1' 'B4' 'B2'\n",
      " 'D2' 'A5' 'C2' 'C5' 'A2' 'D3' 'C3' 'D4' 'A1' 'E3' 'E2' 'G2' 'F1' 'F2'\n",
      " 'F4' 'F3' 'G1' 'F5' 'G3' 'G4' 'G5']\n",
      "emp_length ['5 years' '< 1 year' '10+ years' '3 years' '4 years' '1 year' '8 years'\n",
      " '2 years' '6 years' '9 years' '7 years']\n",
      "emp_title ['Supervisor ' 'Assistant to the Treasurer (Payroll)' 'Teacher' ...\n",
      " 'Office Manager / Exec. Assistant' 'Onsite Operations Manager'\n",
      " 'Sr. Principal IT Archtiect']\n",
      "verification_status ['Source Verified' 'Verified' 'Not Verified']\n",
      "addr_state ['CA' 'OH' 'WA' 'TX' 'MA' 'PA' 'MI' 'ID' 'AZ' 'NY' 'LA' 'RI' 'IL' 'TN'\n",
      " 'MN' 'NM' 'VA' 'NC' 'FL' 'CO' 'KY' 'OK' 'CT' 'NH' 'IN' 'NJ' 'GA' 'SC'\n",
      " 'OR' 'NE' 'KS' 'AL' 'HI' 'AK' 'NV' 'MO' 'AR' 'VT' 'MD' 'MS' 'WI' 'UT'\n",
      " 'DC' 'WV' 'ND' 'DE' 'MT' 'SD' 'ME' 'WY' 'IA']\n",
      "pymnt_plan ['n']\n",
      "earliest_cr_line ['Jan-2012' 'Jun-2009' 'Feb-1999' 'Dec-2003' 'Oct-1997' 'Apr-1995'\n",
      " 'Mar-2004' 'Jun-2007' 'Oct-2002' 'Sep-2007' 'Feb-2006' 'Jan-1987'\n",
      " 'Mar-2008' 'Dec-2005' 'May-2003' 'Jun-2005' 'Aug-1995' 'Jan-2009'\n",
      " 'Mar-2003' 'Jun-1982' 'Feb-2002' 'Dec-2014' 'Mar-2001' 'Dec-1999'\n",
      " 'Nov-2010' 'Dec-2002' 'Jul-2004' 'Oct-1993' 'Jul-2015' 'Feb-2007'\n",
      " 'May-2004' 'Dec-1989' 'Apr-2005' 'Mar-2007' 'Jun-1993' 'Aug-2008'\n",
      " 'Aug-2012' 'Mar-2014' 'Jan-2008' 'Sep-2010' 'Apr-2003' 'Mar-2002'\n",
      " 'Jun-2003' 'Jul-2003' 'Jun-2002' 'Aug-1999' 'May-2005' 'May-2007'\n",
      " 'Nov-2007' 'Sep-2001' 'Apr-2009' 'Oct-1994' 'Nov-2002' 'Jun-1989'\n",
      " 'Jan-2002' 'Jun-2004' 'Aug-2002' 'Jul-2006' 'Aug-2009' 'Dec-2012'\n",
      " 'May-2000' 'Oct-2006' 'Sep-2002' 'Dec-2011' 'Sep-2006' 'Mar-2013'\n",
      " 'May-2002' 'Sep-2013' 'Sep-2000' 'Apr-1988' 'Nov-2005' 'May-2006'\n",
      " 'Jun-1984' 'Sep-1992' 'Dec-2004' 'Jan-2005' 'Aug-2007' 'Jul-2011'\n",
      " 'Sep-2011' 'Apr-2004' 'Mar-2005' 'Mar-2012' 'Jul-2014' 'Aug-2004'\n",
      " 'Jul-1999' 'Aug-2005' 'Nov-1994' 'Oct-2004' 'Oct-2009' 'Nov-1988'\n",
      " 'Dec-2006' 'Dec-1996' 'Aug-2006' 'Aug-2014' 'Aug-1985' 'Jun-1990'\n",
      " 'Jul-2009' 'Nov-1991' 'Aug-1997' 'Jan-2007' 'Oct-2012' 'Jan-2001'\n",
      " 'Jun-2008' 'May-1999' 'Jul-1995' 'Feb-2005' 'Jan-1995' 'Feb-2003'\n",
      " 'Feb-1995' 'Aug-1988' 'Aug-1990' 'Jul-2008' 'Jul-2007' 'Feb-2001'\n",
      " 'Dec-2007' 'Dec-1991' 'Dec-1994' 'Oct-2007' 'Jun-1996' 'Jul-1987'\n",
      " 'Jan-1996' 'Mar-1994' 'Dec-2000' 'Jun-2001' 'Oct-1999' 'Sep-2004'\n",
      " 'Oct-1986' 'Jan-2013' 'Jun-1998' 'Sep-2015' 'Jan-1999' 'Feb-2008'\n",
      " 'Sep-1991' 'Aug-1996' 'Jul-2002' 'Jun-1994' 'Jul-1994' 'Aug-1998'\n",
      " 'May-1997' 'Feb-2004' 'Aug-2010' 'Feb-2012' 'Jul-1996' 'Nov-1998'\n",
      " 'Apr-2010' 'May-2013' 'Sep-1996' 'Oct-2008' 'Apr-2014' 'Oct-2005'\n",
      " 'Jan-2006' 'Apr-2000' 'Feb-1992' 'Aug-2003' 'Feb-2010' 'Oct-1995'\n",
      " 'Oct-2001' 'Dec-2001' 'Jun-1999' 'Jan-2004' 'Jun-2010' 'Dec-2009'\n",
      " 'Mar-2000' 'Dec-1986' 'May-1996' 'Jun-2012' 'Jun-2013' 'May-1998'\n",
      " 'May-2001' 'Aug-2000' 'Jun-1995' 'Dec-1992' 'Feb-2000' 'Nov-2009'\n",
      " 'Nov-2014' 'Sep-2005' 'Jul-1993' 'Jul-2010' 'Apr-2007' 'Nov-1996'\n",
      " 'Sep-2003' 'Oct-1990' 'May-2008' 'Mar-2006' 'Mar-1997' 'Jul-1998'\n",
      " 'Apr-2008' 'Nov-1997' 'Feb-1996' 'Nov-2006' 'Jan-2015' 'May-1987'\n",
      " 'Apr-2002' 'Sep-2014' 'Jun-2006' 'Aug-1983' 'Apr-1993' 'Feb-2009'\n",
      " 'Aug-1981' 'Mar-1995' 'Nov-2008' 'Aug-1986' 'Jun-2011' 'Jul-2000'\n",
      " 'May-2012' 'Aug-2011' 'Oct-1996' 'Oct-2000' 'Sep-1998' 'Mar-2010'\n",
      " 'Nov-2011' 'Sep-1999' 'Nov-1992' 'Nov-1999' 'Mar-2011' 'Oct-2003'\n",
      " 'Feb-1998' 'Apr-2006' 'Aug-2001' 'Dec-1993' 'Sep-1980' 'Mar-1998'\n",
      " 'May-1995' 'Mar-1999' 'Sep-1995' 'Sep-2008' 'Nov-2001' 'Dec-2008'\n",
      " 'Nov-2000' 'May-2009' 'Feb-2014' 'Aug-1993' 'Jun-2000' 'Jan-2011'\n",
      " 'Aug-1994' 'Nov-2004' 'Jan-1980' 'Apr-2001' 'Feb-1967' 'Mar-1996'\n",
      " 'Feb-1990' 'Dec-1998' 'May-2010' 'Apr-1996' 'Jul-2001' 'Apr-1969'\n",
      " 'Nov-1993' 'Sep-2009' 'Sep-1993' 'Aug-1987' 'Feb-2011' 'May-2011'\n",
      " 'Feb-1997' 'Oct-1961' 'Jul-2005' 'Dec-1977' 'Nov-2003' 'Sep-1994'\n",
      " 'Sep-2012' 'Aug-1989' 'Apr-1983' 'Apr-1999' 'Jan-2014' 'Jan-2003'\n",
      " 'Mar-2009' 'Jul-2012' 'May-1988' 'Feb-1991' 'Oct-1977' 'Jul-2013'\n",
      " 'Jul-1989' 'Jul-1982' 'Sep-1983' 'Feb-1989' 'Dec-1997' 'Nov-1995'\n",
      " 'Mar-1991' 'May-2014' 'Mar-1992' 'Jun-1992' 'Nov-2013' 'Dec-2010'\n",
      " 'Apr-2015' 'Sep-1982' 'Aug-2013' 'Oct-2011' 'Aug-1977' 'Jul-1991'\n",
      " 'Jan-1994' 'Oct-1979' 'Jul-1997' 'Feb-2015' 'Jan-1997' 'Nov-1986'\n",
      " 'Apr-1994' 'Oct-1998' 'Dec-2013' 'Apr-1997' 'Aug-1992' 'Jan-1992'\n",
      " 'Oct-1992' 'Sep-1997' 'Oct-2014' 'Apr-1985' 'Feb-1987' 'Mar-2015'\n",
      " 'Aug-1991' 'Apr-1978' 'Dec-1995' 'Mar-1982' 'Jul-1986' 'May-1994'\n",
      " 'Jan-1998' 'Jan-1983' 'Jul-1990' 'Feb-1994' 'Jun-1997' 'Jun-2014'\n",
      " 'Apr-2012' 'Jun-1991' 'Feb-2013' 'Apr-1992' 'Apr-1986' 'Jan-1993'\n",
      " 'Apr-1984' 'Dec-1984' 'Mar-1993' 'May-2015' 'Oct-2010' 'Nov-1987'\n",
      " 'Aug-2015' 'Jun-2015' 'Apr-1991' 'Jan-2010' 'May-1992' 'Feb-1988'\n",
      " 'Mar-1989' 'Oct-1981' 'Jan-2000' 'Oct-1988' 'Dec-1985' 'Oct-1982'\n",
      " 'Jun-1987' 'Apr-1990' 'May-1991' 'Oct-1991' 'Apr-1998' 'Feb-1982'\n",
      " 'Apr-1970' 'Oct-1989' 'Sep-1986' 'Apr-2011' 'Mar-1987' 'Nov-1982'\n",
      " 'Jun-1988' 'Apr-2013' 'May-1989' 'Feb-1980' 'Oct-2013' 'May-1986'\n",
      " 'Sep-1984' 'May-1983' 'Dec-1988' 'Mar-1990' 'Sep-1981' 'Nov-2012'\n",
      " 'Dec-1987' 'May-1984' 'May-1976' 'Jul-1984' 'Feb-1985' 'Sep-1990'\n",
      " 'Dec-1981' 'Jun-1979' 'Apr-1982' 'Sep-1976' 'Feb-1993' 'Jun-1981'\n",
      " 'Jun-1985' 'Jan-1991' 'Oct-1983' 'Mar-1969' 'Aug-1978' 'Jul-1992'\n",
      " 'Apr-1981' 'Dec-1990' 'Mar-1983' 'Oct-1984' 'Sep-1987' 'Mar-1984'\n",
      " 'Oct-1985' 'Feb-1986' 'May-1993' 'Nov-1989' 'Jul-1975' 'Jan-1985'\n",
      " 'Mar-1981' 'Nov-1984' 'Jan-1988' 'Jul-1983' 'Mar-1972' 'Dec-1976'\n",
      " 'Jan-1970' 'Jun-1983' 'Nov-1976' 'Jan-1990' 'Nov-1983' 'Oct-1980'\n",
      " 'Jan-1982' 'Sep-1989' 'Dec-1979' 'Jan-1984' 'Nov-1981' 'Nov-1985'\n",
      " 'Jan-1976' 'Dec-1982' 'Nov-1973' 'Dec-1970' 'Jan-1989' 'Sep-1988'\n",
      " 'Jan-1973' 'Mar-1975' 'May-1990' 'Mar-1988' 'Apr-1977' 'Apr-1989'\n",
      " 'Jun-1986' 'Nov-1980' 'Nov-1975' 'Nov-1978' 'Apr-1975' 'Oct-1973'\n",
      " 'Nov-1990' 'Feb-1983' 'Feb-1981' 'Jun-1973' 'Oct-1987' 'Dec-1969'\n",
      " 'Oct-1978' 'Feb-1984' 'Dec-1978' 'Jul-1969' 'May-1982' 'Aug-1982'\n",
      " 'Feb-1964' 'Jul-1978' 'Nov-1979' 'May-1979' 'Dec-1980' 'Jan-1986'\n",
      " 'Apr-1987' 'Jul-1985' 'Oct-1974' 'Aug-1969' 'Jan-1950' 'Jan-1981'\n",
      " 'Jul-1988' 'Mar-1985' 'Apr-1980' 'Aug-1975' 'Oct-1976' 'May-1980'\n",
      " 'May-1985' 'Aug-1979' 'Dec-1972' 'Jul-1974' 'Jun-1975' 'Jun-1978'\n",
      " 'Mar-1986' 'Mar-1977' 'Dec-1973' 'Sep-1978' 'Sep-1977' 'May-1977'\n",
      " 'Mar-1979' 'Sep-1975' 'Jan-1972' 'Jan-1977' 'Jul-1977' 'May-1964'\n",
      " 'Aug-1984' 'Jul-1981' 'May-1973' 'Jun-1976' 'Feb-1979' 'Aug-1974'\n",
      " 'May-1978' 'Apr-1979' 'May-1969' 'Dec-1967' 'Sep-1985' 'Jul-1979'\n",
      " 'Dec-1974' 'Dec-1983' 'Sep-1979' 'Jan-1975' 'Nov-1974' 'Jul-1972'\n",
      " 'Sep-1969' 'Feb-1975' 'Jul-1968' 'Dec-1968' 'Aug-1972' 'Feb-1969'\n",
      " 'Jun-1965' 'Nov-1977' 'Feb-1978' 'Apr-1972' 'May-1968' 'Mar-1976'\n",
      " 'Jan-1978' 'Jan-1979' 'Feb-1976' 'Aug-1970' 'Jul-1976' 'Feb-1974'\n",
      " 'Apr-1973' 'Jun-1971' 'Aug-1980' 'Oct-1968' 'Jun-1977' 'Oct-1971'\n",
      " 'Jul-1973' 'Jan-1974' 'Oct-1975' 'Mar-1980' 'Oct-1969' 'Jul-1980'\n",
      " 'Jul-1964' 'Apr-1974' 'Sep-1972' 'Apr-1976' 'May-1981' 'May-1974'\n",
      " 'Jul-1970' 'Jun-1980' 'Sep-1973' 'Mar-1973' 'Dec-1975' 'Jan-1971'\n",
      " 'Jan-1967' 'Aug-1976' 'Feb-1961' 'Jun-1961' 'Jun-1966' 'Dec-1966'\n",
      " 'Feb-1973' 'Aug-1968' 'Oct-1967' 'Aug-1973' 'Apr-1971' 'Feb-1972'\n",
      " 'Mar-1968' 'Mar-1970' 'Apr-1968' 'Feb-1977' 'Jan-1963' 'Jun-1963'\n",
      " 'Jan-1968' 'May-1975' 'Mar-1978' 'Oct-1972' 'Jul-1967' 'Aug-1971'\n",
      " 'Sep-1974' 'Nov-1967' 'Apr-1965' 'Apr-1963' 'Aug-1964' 'Oct-1970'\n",
      " 'Nov-1972' 'May-1970' 'Oct-1964' 'May-1972' 'Mar-1974' 'May-1967'\n",
      " 'Jun-1974' 'Mar-1967' 'Mar-1971' 'Oct-1965' 'Jan-1969' 'Jun-1972'\n",
      " 'Feb-1968' 'Jun-1970' 'Mar-1965' 'Jan-1966' 'Nov-1970' 'Sep-1967'\n",
      " 'Nov-1966' 'Apr-1966' 'Sep-1971' 'Nov-1961' 'Apr-1967' 'Sep-1968'\n",
      " 'Aug-1966' 'Jun-1960' 'Mar-1964' 'Jun-1964' 'Apr-1964' 'Sep-1970'\n",
      " 'Feb-1970' 'Mar-1961' 'Aug-1967' 'Jan-1965' 'Sep-1966' 'Dec-1971'\n",
      " 'Sep-1965' 'Mar-1966' 'Jun-1969' 'Jul-1971' 'Nov-1971' 'Feb-1965'\n",
      " 'Jun-1968' 'May-1971' 'Jan-1964' 'Mar-1954' 'Nov-1969' 'Jun-1952'\n",
      " 'Jul-1962' 'Jan-1960' 'Jan-1962' 'May-1965' 'Oct-1966' 'Jun-1957'\n",
      " 'Apr-1955' 'Aug-1963' 'May-1958' 'Feb-1971' 'Mar-1963' 'Jul-1966'\n",
      " 'Aug-1960' 'Nov-1965' 'Jun-1962' 'Oct-1963' 'Jun-1967' 'Feb-1945'\n",
      " 'Nov-1968' 'Feb-1963' 'Mar-1959' 'Nov-1963' 'Feb-1966' 'Jan-1957'\n",
      " 'Nov-1960' 'Mar-1957' 'Aug-1961' 'Jul-1951' 'Jul-1965' 'Aug-1965'\n",
      " 'Aug-1958' 'Jan-1959' 'May-1966' 'Nov-1964' 'Dec-1965' 'Dec-1958'\n",
      " 'Jul-1963' 'Feb-1959' 'Sep-1961' 'Dec-1963' 'Jan-1956' 'Sep-1963'\n",
      " 'Aug-1959' 'May-1963' 'Jun-1958' 'Jan-1955' 'Mar-1958' 'Dec-1959'\n",
      " 'Jan-1958' 'Apr-1962' 'Nov-1957' 'Sep-1959' 'Nov-1959' 'Jan-1961'\n",
      " 'Dec-1964' 'Mar-1960' 'May-1962' 'Mar-1962' 'Sep-1964' 'Dec-1956'\n",
      " 'Jan-1952' 'Dec-1961' 'Mar-1955' 'Jul-1958' 'May-1959' 'Oct-1959'\n",
      " 'Dec-1960' 'Sep-1962' 'Aug-1950' 'Jun-1959' 'Apr-1958' 'Oct-1962'\n",
      " 'Apr-1961' 'Apr-1934' 'Jul-1960' 'Feb-1962' 'Aug-1962' 'Oct-1960'\n",
      " 'Oct-1957' 'May-1960' 'Nov-1953' 'Nov-1950' 'Feb-1960' 'Sep-1960'\n",
      " 'Nov-1958' 'Jul-1959' 'Aug-1946' 'Jan-1951' 'Dec-1962' 'Nov-1954'\n",
      " 'Sep-1957' 'Jun-1949' 'Jan-1944' 'Oct-1950' 'Jan-1948' 'May-1950'\n",
      " 'Nov-1956']\n",
      "application_type ['Joint App' 'Individual']\n",
      "zip_code ['917xx' '456xx' '982xx' '786xx' '020xx' '981xx' '194xx' '760xx' '481xx'\n",
      " '435xx' '836xx' '920xx' '775xx' '850xx' '145xx' '712xx' '028xx' '605xx'\n",
      " '370xx' '600xx' '750xx' '551xx' '958xx' '871xx' '232xx' '272xx' '751xx'\n",
      " '320xx' '801xx' '791xx' '427xx' '740xx' '066xx' '141xx' '781xx' '480xx'\n",
      " '805xx' '952xx' '945xx' '328xx' '330xx' '038xx' '021xx' '168xx' '460xx'\n",
      " '756xx' '993xx' '349xx' '347xx' '988xx' '100xx' '230xx' '900xx' '373xx'\n",
      " '940xx' '487xx' '706xx' '107xx' '327xx' '033xx' '464xx' '234xx' '906xx'\n",
      " '951xx' '338xx' '073xx' '303xx' '984xx' '290xx' '482xx' '238xx' '604xx'\n",
      " '060xx' '852xx' '973xx' '191xx' '606xx' '452xx' '686xx' '913xx' '660xx'\n",
      " '430xx' '492xx' '802xx' '923xx' '930xx' '122xx' '611xx' '117xx' '352xx'\n",
      " '280xx' '010xx' '731xx' '957xx' '967xx' '997xx' '083xx' '368xx' '310xx'\n",
      " '891xx' '631xx' '752xx' '114xx' '080xx' '727xx' '863xx' '939xx' '560xx'\n",
      " '087xx' '402xx' '925xx' '919xx' '070xx' '730xx' '074xx' '054xx' '701xx'\n",
      " '567xx' '337xx' '928xx' '908xx' '601xx' '231xx' '121xx' '212xx' '125xx'\n",
      " '325xx' '980xx' '017xx' '064xx' '335xx' '018xx' '297xx' '992xx' '065xx'\n",
      " '354xx' '773xx' '640xx' '797xx' '483xx' '902xx' '391xx' '985xx' '936xx'\n",
      " '926xx' '118xx' '975xx' '380xx' '326xx' '284xx' '544xx' '113xx' '853xx'\n",
      " '559xx' '270xx' '322xx' '187xx' '953xx' '166xx' '657xx' '182xx' '431xx'\n",
      " '467xx' '333xx' '300xx' '329xx' '240xx' '846xx' '334xx' '207xx' '190xx'\n",
      " '471xx' '770xx' '341xx' '079xx' '441xx' '662xx' '432xx' '130xx' '622xx'\n",
      " '104xx' '553xx' '898xx' '233xx' '120xx' '112xx' '450xx' '151xx' '385xx'\n",
      " '530xx' '225xx' '658xx' '315xx' '890xx' '294xx' '088xx' '493xx' '785xx'\n",
      " '763xx' '473xx' '972xx' '816xx' '950xx' '531xx' '472xx' '339xx' '995xx'\n",
      " '086xx' '838xx' '356xx' '184xx' '282xx' '302xx' '721xx' '463xx' '082xx'\n",
      " '613xx' '937xx' '067xx' '907xx' '479xx' '394xx' '983xx' '301xx' '162xx'\n",
      " '539xx' '275xx' '319xx' '780xx' '346xx' '461xx' '200xx' '085xx' '371xx'\n",
      " '491xx' '626xx' '630xx' '173xx' '170xx' '490xx' '253xx' '276xx' '800xx'\n",
      " '933xx' '331xx' '851xx' '590xx' '841xx' '541xx' '412xx' '220xx' '336xx'\n",
      " '434xx' '563xx' '996xx' '136xx' '746xx' '475xx' '296xx' '779xx' '227xx'\n",
      " '255xx' '754xx' '217xx' '921xx' '321xx' '489xx' '546xx' '700xx' '351xx'\n",
      " '870xx' '146xx' '201xx' '989xx' '222xx' '941xx' '782xx' '034xx' '071xx'\n",
      " '062xx' '537xx' '774xx' '856xx' '935xx' '075xx' '705xx' '808xx' '027xx'\n",
      " '030xx' '443xx' '152xx' '278xx' '633xx' '317xx' '499xx' '208xx' '804xx'\n",
      " '803xx' '210xx' '554xx' '974xx' '761xx' '197xx' '211xx' '193xx' '221xx'\n",
      " '451xx' '961xx' '956xx' '180xx' '594xx' '787xx' '295xx' '400xx' '442xx'\n",
      " '927xx' '707xx' '077xx' '023xx' '293xx' '176xx' '174xx' '757xx' '498xx'\n",
      " '666xx' '179xx' '549xx' '806xx' '410xx' '195xx' '968xx' '061xx' '799xx'\n",
      " '581xx' '124xx' '762xx' '714xx' '924xx' '448xx' '584xx' '840xx' '224xx'\n",
      " '031xx' '645xx' '922xx' '134xx' '159xx' '186xx' '144xx' '875xx' '946xx'\n",
      " '912xx' '970xx' '708xx' '855xx' '685xx' '558xx' '680xx' '245xx' '420xx'\n",
      " '540xx' '116xx' '306xx' '026xx' '571xx' '271xx' '462xx' '833xx' '142xx'\n",
      " '395xx' '076xx' '591xx' '810xx' '494xx' '015xx' '140xx' '561xx' '895xx'\n",
      " '880xx' '268xx' '844xx' '046xx' '743xx' '287xx' '954xx' '934xx' '468xx'\n",
      " '175xx' '894xx' '809xx' '986xx' '612xx' '877xx' '019xx' '236xx' '864xx'\n",
      " '454xx' '794xx' '042xx' '405xx' '068xx' '105xx' '628xx' '959xx' '016xx'\n",
      " '677xx' '652xx' '283xx' '837xx' '206xx' '977xx' '183xx' '376xx' '198xx'\n",
      " '154xx' '147xx' '847xx' '138xx' '178xx' '444xx' '624xx' '035xx' '357xx'\n",
      " '496xx' '014xx' '040xx' '160xx' '106xx' '199xx' '620xx' '372xx' '313xx'\n",
      " '641xx' '286xx' '914xx' '672xx' '254xx' '103xx' '149xx' '960xx' '324xx'\n",
      " '535xx' '342xx' '653xx' '827xx' '814xx' '565xx' '258xx' '381xx' '078xx'\n",
      " '013xx' '281xx' '291xx' '465xx' '991xx' '793xx' '916xx' '115xx' '979xx'\n",
      " '784xx' '637xx' '123xx' '795xx' '279xx' '308xx' '029xx' '615xx' '759xx'\n",
      " '724xx' '223xx' '229xx' '052xx' '720xx' '585xx' '729xx' '383xx' '318xx'\n",
      " '241xx' '486xx' '599xx' '133xx' '860xx' '758xx' '903xx' '143xx' '932xx'\n",
      " '789xx' '109xx' '765xx' '273xx' '421xx' '574xx' '148xx' '128xx' '292xx'\n",
      " '235xx' '548xx' '910xx' '181xx' '048xx' '532xx' '704xx' '150xx' '488xx'\n",
      " '344xx' '012xx' '741xx' '815xx' '586xx' '609xx' '722xx' '403xx' '651xx'\n",
      " '209xx' '171xx' '882xx' '728xx' '857xx' '716xx' '247xx' '365xx' '274xx'\n",
      " '453xx' '971xx' '155xx' '156xx' '550xx' '675xx' '625xx' '239xx' '711xx'\n",
      " '557xx' '495xx' '665xx' '289xx' '664xx' '277xx' '379xx' '049xx' '769xx'\n",
      " '564xx' '767xx' '081xx' '948xx' '362xx' '534xx' '834xx' '447xx' '189xx'\n",
      " '497xx' '132xx' '025xx' '610xx' '485xx' '667xx' '360xx' '776xx' '110xx'\n",
      " '215xx' '734xx' '439xx' '440xx' '778xx' '748xx' '358xx' '393xx' '603xx'\n",
      " '911xx' '397xx' '299xx' '990xx' '618xx' '747xx' '474xx' '683xx' '111xx'\n",
      " '063xx' '636xx' '949xx' '466xx' '185xx' '196xx' '305xx' '824xx' '484xx'\n",
      " '249xx' '226xx' '172xx' '129xx' '119xx' '904xx' '820xx' '790xx' '650xx'\n",
      " '401xx' '163xx' '538xx' '158xx' '575xx' '656xx' '398xx' '655xx' '668xx'\n",
      " '623xx' '307xx' '446xx' '807xx' '688xx' '469xx' '629xx' '458xx' '374xx'\n",
      " '897xx' '265xx' '764xx' '766xx' '681xx' '378xx' '639xx' '218xx' '169xx'\n",
      " '363xx' '547xx' '423xx' '135xx' '678xx' '556xx' '032xx' '359xx' '905xx'\n",
      " '323xx' '737xx' '735xx' '161xx' '723xx' '404xx' '039xx' '024xx' '366xx'\n",
      " '436xx' '607xx' '298xx' '703xx' '177xx' '056xx' '414xx' '718xx' '826xx'\n",
      " '879xx' '679xx' '392xx' '069xx' '011xx' '617xx' '312xx' '978xx' '671xx'\n",
      " '470xx' '588xx' '644xx' '157xx' '843xx' '646xx' '634xx' '597xx' '377xx'\n",
      " '261xx' '050xx' '433xx' '976xx' '562xx' '361xx' '874xx' '796xx' '413xx'\n",
      " '139xx' '364xx' '676xx' '350xx' '476xx' '219xx' '285xx' '943xx' '108xx'\n",
      " '745xx' '580xx' '772xx' '367xx' '931xx' '783xx' '832xx' '478xx' '713xx'\n",
      " '684xx' '570xx' '692xx' '244xx' '137xx' '648xx' '457xx' '596xx' '396xx'\n",
      " '216xx' '388xx' '314xx' '072xx' '309xx' '386xx' '755xx' '449xx' '545xx'\n",
      " '813xx' '126xx' '598xx' '041xx' '811xx' '251xx' '788xx' '608xx' '693xx'\n",
      " '389xx' '674xx' '382xx' '153xx' '577xx' '101xx' '228xx' '812xx' '593xx'\n",
      " '944xx' '661xx' '587xx' '051xx' '915xx' '426xx' '242xx' '918xx' '627xx'\n",
      " '717xx' '738xx' '411xx' '127xx' '828xx' '829xx' '687xx' '131xx' '252xx'\n",
      " '057xx' '250xx' '045xx' '437xx' '614xx' '690xx' '883xx' '602xx' '859xx'\n",
      " '455xx' '263xx' '736xx' '881xx' '316xx' '654xx' '583xx' '044xx' '845xx'\n",
      " '422xx' '670xx' '037xx' '822xx' '884xx' '616xx' '243xx' '053xx' '725xx'\n",
      " '638xx' '424xx' '260xx' '825xx' '043xx' '407xx' '647xx' '264xx' '477xx'\n",
      " '390xx' '058xx' '304xx' '619xx' '999xx' '749xx' '542xx' '691xx' '673xx'\n",
      " '387xx' '257xx' '262xx' '592xx' '726xx' '167xx' '689xx' '572xx' '089xx'\n",
      " '635xx' '288xx' '582xx' '237xx' '744xx' '188xx' '543xx' '102xx' '092xx'\n",
      " '777xx' '094xx' '998xx' '425xx' '739xx' '406xx' '266xx' '384xx' '165xx'\n",
      " '719xx' '710xx' '947xx' '893xx' '214xx' '831xx' '963xx' '259xx' '955xx'\n",
      " '821xx' '445xx' '798xx' '164xx' '022xx' '267xx' '256xx' '873xx' '438xx'\n",
      " '246xx' '084xx' '355xx' '823xx' '595xx' '994xx' '573xx' '768xx' '830xx'\n",
      " '792xx' '348xx' '090xx' '047xx' '669xx' '415xx' '566xx' '865xx' '409xx'\n",
      " '742xx' '036xx' '408xx' '621xx' '096xx' '878xx' '345xx' '343xx' '552xx'\n",
      " '097xx' '569xx' '203xx' '417xx' '416xx' '753xx' '835xx' '091xx' '698xx'\n",
      " '962xx' '418xx' '576xx' '311xx' '500xx' '502xx' '369xx' '248xx' '555xx'\n",
      " '059xx' '861xx' '008xx' '098xx' '332xx' '702xx' '007xx' '510xx' '942xx'\n",
      " '528xx' '966xx' '901xx' '965xx' '009xx' '872xx' '987xx' '506xx' '854xx'\n",
      " '204xx' '525xx' '819xx' '509xx' '522xx' '269xx' '892xx' '929xx' '504xx'\n",
      " '709xx' '969xx' '849xx' '694xx' '501xx' '520xx' '817xx' '771xx' '527xx'\n",
      " '568xx' '862xx' '507xx' '964xx' '340xx' '643xx' '663xx' '513xx' '429xx'\n",
      " '523xx' '938xx' '888xx' '353xx' '524xx' '889xx' '909xx' '516xx' '511xx'\n",
      " '896xx' '205xx']\n",
      "purpose ['debt_consolidation' 'credit_card' 'other' 'house' 'car'\n",
      " 'home_improvement' 'moving' 'medical' 'major_purchase' 'vacation'\n",
      " 'small_business' 'renewable_energy' 'wedding']\n",
      "hardship_flag ['N' 'Y']\n",
      "issue_d ['Dec-2018' 'Nov-2018' 'Oct-2018' 'Sep-2018' 'Aug-2018' 'Jul-2018'\n",
      " 'Jun-2018' 'May-2018' 'Apr-2018' 'Mar-2018' 'Feb-2018' 'Jan-2018'\n",
      " 'Sep-2016' 'Aug-2016' 'Jul-2016' 'Jun-2016' 'May-2016' 'Apr-2016'\n",
      " 'Mar-2016' 'Feb-2016' 'Jan-2016' 'Dec-2016' 'Nov-2016' 'Oct-2016'\n",
      " 'Dec-2015' 'Nov-2015' 'Oct-2015' 'Sep-2015' 'Aug-2015' 'Jul-2015'\n",
      " 'Jun-2015' 'May-2015' 'Apr-2015' 'Mar-2015' 'Feb-2015' 'Jan-2015'\n",
      " 'Mar-2017' 'Feb-2017' 'Jan-2017' 'Sep-2017' 'Aug-2017' 'Jul-2017'\n",
      " 'Jun-2017' 'May-2017' 'Apr-2017' 'Dec-2013' 'Nov-2013' 'Oct-2013'\n",
      " 'Sep-2013' 'Aug-2013' 'Jul-2013' 'Jun-2013' 'May-2013' 'Apr-2013'\n",
      " 'Mar-2013' 'Feb-2013' 'Jan-2013' 'Dec-2012' 'Nov-2012' 'Oct-2012'\n",
      " 'Sep-2012' 'Aug-2012' 'Dec-2014' 'Nov-2014' 'Oct-2014' 'Sep-2014'\n",
      " 'Aug-2014' 'Jul-2014' 'Jun-2014' 'May-2014' 'Apr-2014' 'Mar-2014'\n",
      " 'Feb-2014' 'Jan-2014' 'Dec-2017' 'Nov-2017' 'Oct-2017']\n",
      "term [' 36 months' ' 60 months']\n"
     ]
    }
   ],
   "source": [
    "for i in cat_cols:\n",
    "    print(i, final[i].unique())"
   ]
  },
  {
   "cell_type": "code",
   "execution_count": 67,
   "metadata": {},
   "outputs": [
    {
     "data": {
      "text/plain": [
       "debt_consolidation    565023\n",
       "credit_card           208787\n",
       "home_improvement       63071\n",
       "other                  52116\n",
       "major_purchase         19687\n",
       "medical                10523\n",
       "small_business          9428\n",
       "car                     9127\n",
       "moving                  6373\n",
       "vacation                6207\n",
       "house                   5094\n",
       "wedding                  697\n",
       "renewable_energy         598\n",
       "Name: purpose, dtype: int64"
      ]
     },
     "execution_count": 67,
     "metadata": {},
     "output_type": "execute_result"
    }
   ],
   "source": [
    "final['purpose'].value_counts()"
   ]
  },
  {
   "cell_type": "code",
   "execution_count": 68,
   "metadata": {},
   "outputs": [
    {
     "ename": "KeyError",
     "evalue": "\"['hardship_flag_Y'] not found in axis\"",
     "output_type": "error",
     "traceback": [
      "\u001b[0;31m---------------------------------------------------------------------------\u001b[0m",
      "\u001b[0;31mKeyError\u001b[0m                                  Traceback (most recent call last)",
      "\u001b[0;32m<ipython-input-68-b129c6b4eb33>\u001b[0m in \u001b[0;36m<module>\u001b[0;34m\u001b[0m\n\u001b[1;32m      1\u001b[0m \u001b[0;31m# remove un-manageable categorical data points\u001b[0m\u001b[0;34m\u001b[0m\u001b[0;34m\u001b[0m\u001b[0;34m\u001b[0m\u001b[0m\n\u001b[0;32m----> 2\u001b[0;31m \u001b[0mfinal\u001b[0m\u001b[0;34m.\u001b[0m\u001b[0mdrop\u001b[0m\u001b[0;34m(\u001b[0m\u001b[0mcolumns\u001b[0m \u001b[0;34m=\u001b[0m \u001b[0;34m[\u001b[0m\u001b[0;34m'hardship_flag_Y'\u001b[0m\u001b[0;34m,\u001b[0m\u001b[0;34m'title'\u001b[0m\u001b[0;34m,\u001b[0m\u001b[0;34m'earliest_cr_line'\u001b[0m\u001b[0;34m,\u001b[0m\u001b[0;34m'last_credit_pull_d'\u001b[0m\u001b[0;34m,\u001b[0m\u001b[0;34m'issue_d'\u001b[0m\u001b[0;34m,\u001b[0m\u001b[0;34m'zip_code'\u001b[0m\u001b[0;34m,\u001b[0m\u001b[0;34m'emp_title'\u001b[0m\u001b[0;34m,\u001b[0m\u001b[0;34m'addr_state'\u001b[0m\u001b[0;34m]\u001b[0m\u001b[0;34m,\u001b[0m \u001b[0minplace\u001b[0m \u001b[0;34m=\u001b[0m \u001b[0;32mTrue\u001b[0m\u001b[0;34m)\u001b[0m\u001b[0;34m\u001b[0m\u001b[0;34m\u001b[0m\u001b[0m\n\u001b[0m\u001b[1;32m      3\u001b[0m \u001b[0mfinal\u001b[0m\u001b[0;34m.\u001b[0m\u001b[0mshape\u001b[0m\u001b[0;34m\u001b[0m\u001b[0;34m\u001b[0m\u001b[0m\n",
      "\u001b[0;32m~/anaconda3/lib/python3.7/site-packages/pandas/core/frame.py\u001b[0m in \u001b[0;36mdrop\u001b[0;34m(self, labels, axis, index, columns, level, inplace, errors)\u001b[0m\n\u001b[1;32m   3938\u001b[0m                                            \u001b[0mindex\u001b[0m\u001b[0;34m=\u001b[0m\u001b[0mindex\u001b[0m\u001b[0;34m,\u001b[0m \u001b[0mcolumns\u001b[0m\u001b[0;34m=\u001b[0m\u001b[0mcolumns\u001b[0m\u001b[0;34m,\u001b[0m\u001b[0;34m\u001b[0m\u001b[0;34m\u001b[0m\u001b[0m\n\u001b[1;32m   3939\u001b[0m                                            \u001b[0mlevel\u001b[0m\u001b[0;34m=\u001b[0m\u001b[0mlevel\u001b[0m\u001b[0;34m,\u001b[0m \u001b[0minplace\u001b[0m\u001b[0;34m=\u001b[0m\u001b[0minplace\u001b[0m\u001b[0;34m,\u001b[0m\u001b[0;34m\u001b[0m\u001b[0;34m\u001b[0m\u001b[0m\n\u001b[0;32m-> 3940\u001b[0;31m                                            errors=errors)\n\u001b[0m\u001b[1;32m   3941\u001b[0m \u001b[0;34m\u001b[0m\u001b[0m\n\u001b[1;32m   3942\u001b[0m     @rewrite_axis_style_signature('mapper', [('copy', True),\n",
      "\u001b[0;32m~/anaconda3/lib/python3.7/site-packages/pandas/core/generic.py\u001b[0m in \u001b[0;36mdrop\u001b[0;34m(self, labels, axis, index, columns, level, inplace, errors)\u001b[0m\n\u001b[1;32m   3778\u001b[0m         \u001b[0;32mfor\u001b[0m \u001b[0maxis\u001b[0m\u001b[0;34m,\u001b[0m \u001b[0mlabels\u001b[0m \u001b[0;32min\u001b[0m \u001b[0maxes\u001b[0m\u001b[0;34m.\u001b[0m\u001b[0mitems\u001b[0m\u001b[0;34m(\u001b[0m\u001b[0;34m)\u001b[0m\u001b[0;34m:\u001b[0m\u001b[0;34m\u001b[0m\u001b[0;34m\u001b[0m\u001b[0m\n\u001b[1;32m   3779\u001b[0m             \u001b[0;32mif\u001b[0m \u001b[0mlabels\u001b[0m \u001b[0;32mis\u001b[0m \u001b[0;32mnot\u001b[0m \u001b[0;32mNone\u001b[0m\u001b[0;34m:\u001b[0m\u001b[0;34m\u001b[0m\u001b[0;34m\u001b[0m\u001b[0m\n\u001b[0;32m-> 3780\u001b[0;31m                 \u001b[0mobj\u001b[0m \u001b[0;34m=\u001b[0m \u001b[0mobj\u001b[0m\u001b[0;34m.\u001b[0m\u001b[0m_drop_axis\u001b[0m\u001b[0;34m(\u001b[0m\u001b[0mlabels\u001b[0m\u001b[0;34m,\u001b[0m \u001b[0maxis\u001b[0m\u001b[0;34m,\u001b[0m \u001b[0mlevel\u001b[0m\u001b[0;34m=\u001b[0m\u001b[0mlevel\u001b[0m\u001b[0;34m,\u001b[0m \u001b[0merrors\u001b[0m\u001b[0;34m=\u001b[0m\u001b[0merrors\u001b[0m\u001b[0;34m)\u001b[0m\u001b[0;34m\u001b[0m\u001b[0;34m\u001b[0m\u001b[0m\n\u001b[0m\u001b[1;32m   3781\u001b[0m \u001b[0;34m\u001b[0m\u001b[0m\n\u001b[1;32m   3782\u001b[0m         \u001b[0;32mif\u001b[0m \u001b[0minplace\u001b[0m\u001b[0;34m:\u001b[0m\u001b[0;34m\u001b[0m\u001b[0;34m\u001b[0m\u001b[0m\n",
      "\u001b[0;32m~/anaconda3/lib/python3.7/site-packages/pandas/core/generic.py\u001b[0m in \u001b[0;36m_drop_axis\u001b[0;34m(self, labels, axis, level, errors)\u001b[0m\n\u001b[1;32m   3810\u001b[0m                 \u001b[0mnew_axis\u001b[0m \u001b[0;34m=\u001b[0m \u001b[0maxis\u001b[0m\u001b[0;34m.\u001b[0m\u001b[0mdrop\u001b[0m\u001b[0;34m(\u001b[0m\u001b[0mlabels\u001b[0m\u001b[0;34m,\u001b[0m \u001b[0mlevel\u001b[0m\u001b[0;34m=\u001b[0m\u001b[0mlevel\u001b[0m\u001b[0;34m,\u001b[0m \u001b[0merrors\u001b[0m\u001b[0;34m=\u001b[0m\u001b[0merrors\u001b[0m\u001b[0;34m)\u001b[0m\u001b[0;34m\u001b[0m\u001b[0;34m\u001b[0m\u001b[0m\n\u001b[1;32m   3811\u001b[0m             \u001b[0;32melse\u001b[0m\u001b[0;34m:\u001b[0m\u001b[0;34m\u001b[0m\u001b[0;34m\u001b[0m\u001b[0m\n\u001b[0;32m-> 3812\u001b[0;31m                 \u001b[0mnew_axis\u001b[0m \u001b[0;34m=\u001b[0m \u001b[0maxis\u001b[0m\u001b[0;34m.\u001b[0m\u001b[0mdrop\u001b[0m\u001b[0;34m(\u001b[0m\u001b[0mlabels\u001b[0m\u001b[0;34m,\u001b[0m \u001b[0merrors\u001b[0m\u001b[0;34m=\u001b[0m\u001b[0merrors\u001b[0m\u001b[0;34m)\u001b[0m\u001b[0;34m\u001b[0m\u001b[0;34m\u001b[0m\u001b[0m\n\u001b[0m\u001b[1;32m   3813\u001b[0m             \u001b[0mresult\u001b[0m \u001b[0;34m=\u001b[0m \u001b[0mself\u001b[0m\u001b[0;34m.\u001b[0m\u001b[0mreindex\u001b[0m\u001b[0;34m(\u001b[0m\u001b[0;34m**\u001b[0m\u001b[0;34m{\u001b[0m\u001b[0maxis_name\u001b[0m\u001b[0;34m:\u001b[0m \u001b[0mnew_axis\u001b[0m\u001b[0;34m}\u001b[0m\u001b[0;34m)\u001b[0m\u001b[0;34m\u001b[0m\u001b[0;34m\u001b[0m\u001b[0m\n\u001b[1;32m   3814\u001b[0m \u001b[0;34m\u001b[0m\u001b[0m\n",
      "\u001b[0;32m~/anaconda3/lib/python3.7/site-packages/pandas/core/indexes/base.py\u001b[0m in \u001b[0;36mdrop\u001b[0;34m(self, labels, errors)\u001b[0m\n\u001b[1;32m   4963\u001b[0m             \u001b[0;32mif\u001b[0m \u001b[0merrors\u001b[0m \u001b[0;34m!=\u001b[0m \u001b[0;34m'ignore'\u001b[0m\u001b[0;34m:\u001b[0m\u001b[0;34m\u001b[0m\u001b[0;34m\u001b[0m\u001b[0m\n\u001b[1;32m   4964\u001b[0m                 raise KeyError(\n\u001b[0;32m-> 4965\u001b[0;31m                     '{} not found in axis'.format(labels[mask]))\n\u001b[0m\u001b[1;32m   4966\u001b[0m             \u001b[0mindexer\u001b[0m \u001b[0;34m=\u001b[0m \u001b[0mindexer\u001b[0m\u001b[0;34m[\u001b[0m\u001b[0;34m~\u001b[0m\u001b[0mmask\u001b[0m\u001b[0;34m]\u001b[0m\u001b[0;34m\u001b[0m\u001b[0;34m\u001b[0m\u001b[0m\n\u001b[1;32m   4967\u001b[0m         \u001b[0;32mreturn\u001b[0m \u001b[0mself\u001b[0m\u001b[0;34m.\u001b[0m\u001b[0mdelete\u001b[0m\u001b[0;34m(\u001b[0m\u001b[0mindexer\u001b[0m\u001b[0;34m)\u001b[0m\u001b[0;34m\u001b[0m\u001b[0;34m\u001b[0m\u001b[0m\n",
      "\u001b[0;31mKeyError\u001b[0m: \"['hardship_flag_Y'] not found in axis\""
     ]
    }
   ],
   "source": [
    "# remove un-manageable categorical data points\n",
    "final.drop(columns = ['hardship_flag_Y','title','earliest_cr_line','last_credit_pull_d','issue_d','zip_code','emp_title','addr_state'], inplace = True)\n",
    "final.shape\n"
   ]
  },
  {
   "cell_type": "code",
   "execution_count": 69,
   "metadata": {},
   "outputs": [
    {
     "data": {
      "text/plain": [
       "Index(['term', 'grade', 'last_credit_pull_d', 'sub_grade', 'int_rate',\n",
       "       'verification_status', 'installment', 'home_ownership', 'mort_acc',\n",
       "       'acc_open_past_24mths', 'num_tl_op_past_12m', 'inq_last_6mths',\n",
       "       'loan_amnt', 'funded_amnt', 'funded_amnt_inv', 'purpose',\n",
       "       'num_actv_rev_tl', 'num_rev_tl_bal_gt_0', 'percent_bc_gt_75', 'issue_d',\n",
       "       'dti', 'mo_sin_rcnt_tl', 'pub_rec', 'emp_title',\n",
       "       'mths_since_recent_inq', 'mo_sin_rcnt_rev_tl_op',\n",
       "       'pub_rec_bankruptcies', 'annual_inc', 'num_actv_bc_tl',\n",
       "       'total_bc_limit', 'mo_sin_old_rev_tl_op', 'mths_since_recent_bc',\n",
       "       'tot_coll_amt', 'addr_state', 'zip_code', 'bc_util',\n",
       "       'num_accts_ever_120_pd', 'revol_util', 'earliest_cr_line',\n",
       "       'delinq_amnt', 'delinq_2yrs', 'collections_12_mths_ex_med',\n",
       "       'num_op_rev_tl', 'title', 'tax_liens', 'num_tl_90g_dpd_24m', 'num_sats',\n",
       "       'open_acc', 'mo_sin_old_il_acct', 'application_type', 'pct_tl_nvr_dlq',\n",
       "       'emp_length', 'num_bc_tl', 'total_il_high_credit_limit', 'total_acc',\n",
       "       'num_il_tl', 'num_bc_sats', 'num_rev_accts', 'chargeoff_within_12_mths',\n",
       "       'num_tl_120dpd_2m', 'acc_now_delinq', 'hardship_flag', 'pymnt_plan',\n",
       "       'policy_code', 'Unnamed: 0'],\n",
       "      dtype='object')"
      ]
     },
     "execution_count": 69,
     "metadata": {},
     "output_type": "execute_result"
    }
   ],
   "source": [
    "final.columns"
   ]
  },
  {
   "cell_type": "code",
   "execution_count": 37,
   "metadata": {},
   "outputs": [
    {
     "data": {
      "text/plain": [
       "(74, 2)"
      ]
     },
     "execution_count": 37,
     "metadata": {},
     "output_type": "execute_result"
    }
   ],
   "source": [
    "MIS.shape\n"
   ]
  },
  {
   "cell_type": "code",
   "execution_count": 9,
   "metadata": {},
   "outputs": [],
   "source": [
    "# Select the columns with highest mutual information scores\n",
    "#col_list =['loan_status','anjnual_inc','loan_amnt','term','pub_rec','chargeoff_within_12_mths', 'int_rate', 'installment','grade', 'home_ownership', 'verification_status','purpose','dti','inq_last_6mths','acc_open_past_24mths','mort_acc','num_actv_rev_tl','num_rev_tl_bal_gt_0','num_tl_op_past_12m','percent_bc_gt_75','tot_hi_cred_lim','total_il_high_credit_limit']"
   ]
  },
  {
   "cell_type": "code",
   "execution_count": 80,
   "metadata": {},
   "outputs": [],
   "source": [
    "# include only the columns selected\n",
    "#final = final[num_cols]\n"
   ]
  },
  {
   "cell_type": "markdown",
   "metadata": {},
   "source": [
    "Since assigning positive label to one class was still leading to confusion, I decided to convert the dependent variable to a binary 0 and 1 for the two classes."
   ]
  },
  {
   "cell_type": "code",
   "execution_count": 70,
   "metadata": {},
   "outputs": [
    {
     "data": {
      "text/plain": [
       "array(['Fully Paid', 'Fully Paid', 'Fully Paid', ..., 'Fully Paid',\n",
       "       'Fully Paid', 'Fully Paid'], dtype=object)"
      ]
     },
     "execution_count": 70,
     "metadata": {},
     "output_type": "execute_result"
    }
   ],
   "source": [
    "df_y.values"
   ]
  },
  {
   "cell_type": "code",
   "execution_count": 71,
   "metadata": {},
   "outputs": [],
   "source": [
    "import numpy as np\n",
    "# convert y variable to 0/1 binary\n",
    "df_y = np.where(df_y.values=='Charged Off',1,0)"
   ]
  },
  {
   "cell_type": "code",
   "execution_count": 72,
   "metadata": {},
   "outputs": [
    {
     "data": {
      "text/plain": [
       "(956731, 65)"
      ]
     },
     "execution_count": 72,
     "metadata": {},
     "output_type": "execute_result"
    }
   ],
   "source": [
    "# check final shape of data\n",
    "final.shape\n",
    "\n"
   ]
  },
  {
   "cell_type": "code",
   "execution_count": 73,
   "metadata": {},
   "outputs": [
    {
     "name": "stdout",
     "output_type": "stream",
     "text": [
      "(956731,)\n",
      "(956731, 74)\n",
      "(956731,)\n"
     ]
    }
   ],
   "source": [
    "print(df_y.shape)\n",
    "print(df_x.shape)\n",
    "print(df_y.shape)\n"
   ]
  },
  {
   "cell_type": "code",
   "execution_count": 74,
   "metadata": {},
   "outputs": [],
   "source": [
    "# re-do after changes\n",
    "from sklearn.model_selection import train_test_split\n",
    "\n",
    "\n",
    "df_x = final\n",
    "\n",
    "X = df_x\n",
    "y = df_y"
   ]
  },
  {
   "cell_type": "code",
   "execution_count": 75,
   "metadata": {},
   "outputs": [],
   "source": [
    "# do the train-test split\n",
    "X_train, X_test, y_train, y_test = train_test_split(X, y, test_size=0.4, stratify = y)"
   ]
  },
  {
   "cell_type": "code",
   "execution_count": 1,
   "metadata": {},
   "outputs": [
    {
     "ename": "NameError",
     "evalue": "name 'pd' is not defined",
     "output_type": "error",
     "traceback": [
      "\u001b[0;31m---------------------------------------------------------------------------\u001b[0m",
      "\u001b[0;31mNameError\u001b[0m                                 Traceback (most recent call last)",
      "\u001b[0;32m<ipython-input-1-835fa18a42f2>\u001b[0m in \u001b[0;36m<module>\u001b[0;34m\u001b[0m\n\u001b[1;32m      1\u001b[0m \u001b[0;31m# One-hot encode categorical variables\u001b[0m\u001b[0;34m\u001b[0m\u001b[0;34m\u001b[0m\u001b[0;34m\u001b[0m\u001b[0m\n\u001b[0;32m----> 2\u001b[0;31m \u001b[0mX_train\u001b[0m \u001b[0;34m=\u001b[0m \u001b[0mpd\u001b[0m\u001b[0;34m.\u001b[0m\u001b[0mget_dummies\u001b[0m\u001b[0;34m(\u001b[0m\u001b[0mX_train\u001b[0m\u001b[0;34m)\u001b[0m\u001b[0;34m\u001b[0m\u001b[0;34m\u001b[0m\u001b[0m\n\u001b[0m\u001b[1;32m      3\u001b[0m \u001b[0mX_test\u001b[0m \u001b[0;34m=\u001b[0m \u001b[0mpd\u001b[0m\u001b[0;34m.\u001b[0m\u001b[0mget_dummies\u001b[0m\u001b[0;34m(\u001b[0m\u001b[0mX_test\u001b[0m\u001b[0;34m)\u001b[0m\u001b[0;34m\u001b[0m\u001b[0;34m\u001b[0m\u001b[0m\n\u001b[1;32m      4\u001b[0m \u001b[0;34m\u001b[0m\u001b[0m\n",
      "\u001b[0;31mNameError\u001b[0m: name 'pd' is not defined"
     ]
    }
   ],
   "source": [
    "# One-hot encode categorical variables\n",
    "X_train = pd.get_dummies(X_train)\n",
    "X_test = pd.get_dummies(X_test)\n",
    "\n"
   ]
  },
  {
   "cell_type": "code",
   "execution_count": null,
   "metadata": {},
   "outputs": [],
   "source": [
    "# Take a look at the data\n",
    "X_test.head()\n",
    "\n"
   ]
  },
  {
   "cell_type": "markdown",
   "metadata": {},
   "source": [
    "## Let's now scale data"
   ]
  },
  {
   "cell_type": "code",
   "execution_count": null,
   "metadata": {},
   "outputs": [],
   "source": [
    "print(X_train.shape)\n",
    "print(X_test.shape)"
   ]
  },
  {
   "cell_type": "code",
   "execution_count": 48,
   "metadata": {},
   "outputs": [
    {
     "data": {
      "text/plain": [
       "['hardship_flag_Y']"
      ]
     },
     "execution_count": 48,
     "metadata": {},
     "output_type": "execute_result"
    }
   ],
   "source": [
    "XT_cols = X_train.columns\n",
    "Xtt_cols = X_test.columns\n",
    "ans = list(set(XT_cols) - set(Xtt_cols))\n",
    "ans"
   ]
  },
  {
   "cell_type": "code",
   "execution_count": 49,
   "metadata": {},
   "outputs": [
    {
     "ename": "TypeError",
     "evalue": "'method' object is not subscriptable",
     "output_type": "error",
     "traceback": [
      "\u001b[0;31m---------------------------------------------------------------------------\u001b[0m",
      "\u001b[0;31mTypeError\u001b[0m                                 Traceback (most recent call last)",
      "\u001b[0;32m<ipython-input-49-e9a6b14ffa55>\u001b[0m in \u001b[0;36m<module>\u001b[0;34m\u001b[0m\n\u001b[0;32m----> 1\u001b[0;31m \u001b[0mfinal\u001b[0m\u001b[0;34m.\u001b[0m\u001b[0mdrop\u001b[0m\u001b[0;34m[\u001b[0m\u001b[0;34m'hardship_flag_Y'\u001b[0m\u001b[0;34m]\u001b[0m\u001b[0;34m\u001b[0m\u001b[0;34m\u001b[0m\u001b[0m\n\u001b[0m",
      "\u001b[0;31mTypeError\u001b[0m: 'method' object is not subscriptable"
     ]
    }
   ],
   "source": [
    "final.drop['hardship_flag_Y']"
   ]
  },
  {
   "cell_type": "code",
   "execution_count": 29,
   "metadata": {},
   "outputs": [
    {
     "name": "stderr",
     "output_type": "stream",
     "text": [
      "/Users/farhanahmed/anaconda3/lib/python3.7/site-packages/sklearn/preprocessing/data.py:645: DataConversionWarning: Data with input dtype uint8, int64, float64 were all converted to float64 by StandardScaler.\n",
      "  return self.partial_fit(X, y)\n",
      "/Users/farhanahmed/anaconda3/lib/python3.7/site-packages/ipykernel_launcher.py:6: DataConversionWarning: Data with input dtype uint8, int64, float64 were all converted to float64 by StandardScaler.\n",
      "  \n",
      "/Users/farhanahmed/anaconda3/lib/python3.7/site-packages/ipykernel_launcher.py:7: DataConversionWarning: Data with input dtype uint8, int64, float64 were all converted to float64 by StandardScaler.\n",
      "  import sys\n"
     ]
    }
   ],
   "source": [
    "from sklearn import preprocessing\n",
    "scaler = preprocessing.StandardScaler()\n",
    "# Instantiate\n",
    "scaler.fit(X_train)\n",
    "# Transform the data\n",
    "X_train_scaled = scaler.transform(X_train)\n",
    "X_test_scaled = scaler.transform(X_test)"
   ]
  },
  {
   "cell_type": "markdown",
   "metadata": {},
   "source": [
    "For evaluation purposes, we will not look at just accuracy because data imbalance means the data is already almost 80% of one class. We will try to achieve the highest possible recall so predicting as many of the charged-off class with the highest f1 score."
   ]
  },
  {
   "cell_type": "markdown",
   "metadata": {},
   "source": [
    "## Logistic Model"
   ]
  },
  {
   "cell_type": "markdown",
   "metadata": {},
   "source": [
    "Let's use cross-validation to optimize our hyperparameter for the Logistic regression C. "
   ]
  },
  {
   "cell_type": "code",
   "execution_count": 46,
   "metadata": {},
   "outputs": [
    {
     "data": {
      "image/png": "[encoded data removed]",
      "text/plain": [
       "<Figure size 432x288 with 1 Axes>"
      ]
     },
     "metadata": {
      "needs_background": "light"
     },
     "output_type": "display_data"
    }
   ],
   "source": [
    "import matplotlib.pyplot as plt\n",
    "import numpy as np\n",
    "from sklearn import linear_model\n",
    "from sklearn.linear_model import LogisticRegression\n",
    "from sklearn.metrics import confusion_matrix\n",
    "from sklearn.metrics import accuracy_score, f1_score, precision_score, recall_score, classification_report, confusion_matrix\n",
    "from sklearn.model_selection import cross_val_score\n",
    "import warnings\n",
    "warnings.filterwarnings('ignore')\n",
    "\n",
    "# Lets plot out different parameters with 5-fold cross validation\n",
    "validation_score_list = []\n",
    "sample_range = [.00000001,.0000001,.000001,.00001,.0001,0.001,0.01,0.1,1]\n",
    "recall_list = []\n",
    "precision_list = []\n",
    "f1score_list = []\n",
    "\n",
    "for c in sample_range:\n",
    "    # Instantiate\n",
    "    LR_model = LogisticRegression(C=c, class_weight = 'balanced')\n",
    "    validation_score = np.mean(cross_val_score(LR_model, X_train_scaled, y_train, cv = 5))\n",
    "    validation_score_list.append(validation_score)\n",
    "    \n",
    "    # Fit\n",
    "    LR_model.fit(X_train_scaled, y_train)\n",
    "\n",
    "    # predict\n",
    "    pred_train = LR_model.predict(X_train_scaled)\n",
    "    pred_test = LR_model.predict(X_test_scaled)\n",
    "    \n",
    "    recall_list.append(recall_score(y_test, pred_test))\n",
    "    precision_list.append(precision_score(y_test, pred_test))\n",
    "    f1score_list.append(f1_score(y_test, pred_test))\n",
    "\n",
    "\n",
    "%matplotlib inline\n",
    "plt.plot(np.log10(sample_range), validation_score_list,label=\"Validation Score\",marker='o')\n",
    "plt.plot(np.log10(sample_range), recall_list,label=\"Recall Score\",marker='o')\n",
    "plt.plot(np.log10(sample_range), precision_list,label=\"Precision Score\",marker='o')\n",
    "plt.plot(np.log10(sample_range), f1score_list,label=\"F1 Score\",marker='o')\n",
    "plt.legend()\n",
    "plt.xlabel('Regularization Parameter: C')\n",
    "plt.ylabel('Cross-Validation Score (Average Scores)')\n",
    "plt.show();\n",
    "\n",
    "    \n",
    "    "
   ]
  },
  {
   "cell_type": "markdown",
   "metadata": {},
   "source": [
    "## Decision Tree "
   ]
  },
  {
   "cell_type": "code",
   "execution_count": 36,
   "metadata": {},
   "outputs": [
    {
     "data": {
      "image/png": "[encoded data removed]",
      "text/plain": [
       "<Figure size 432x288 with 1 Axes>"
      ]
     },
     "metadata": {
      "needs_background": "light"
     },
     "output_type": "display_data"
    }
   ],
   "source": [
    "import numpy as np\n",
    "from sklearn.tree import DecisionTreeClassifier\n",
    "    \n",
    "validation_score_list = []\n",
    "recall_list = []\n",
    "precision_list = []\n",
    "f1score_list = []\n",
    "\n",
    "sample_range = np.arange(1,50,10)\n",
    "\n",
    "    \n",
    "for i in sample_range:\n",
    "    # Lets plot out different parameters with 5-fold cross validation\n",
    "\n",
    "\n",
    "    # Instantiate\n",
    "    my_tree = DecisionTreeClassifier(max_depth = i, class_weight = 'balanced')\n",
    "\n",
    "    validation_score = np.mean(cross_val_score(my_tree, X_train_scaled, y_train, cv = 5))\n",
    "    validation_score_list.append(validation_score)\n",
    "    \n",
    "    # Fit\n",
    "    my_tree.fit(X_train_scaled, y_train)\n",
    "\n",
    "    # predict\n",
    "    pred_train = my_tree.predict(X_train_scaled)\n",
    "    pred_test = my_tree.predict(X_test_scaled)\n",
    "    \n",
    "    recall_list.append(recall_score(y_test, pred_test))\n",
    "    precision_list.append(precision_score(y_test, pred_test))\n",
    "    f1score_list.append(f1_score(y_test, pred_test))\n",
    "\n",
    "\n",
    "    \n",
    "%matplotlib inline\n",
    "plt.plot(sample_range, validation_score_list,label=\"Validation Score\",marker='o')\n",
    "plt.plot(sample_range, recall_list,label=\"Recall Score\",marker='o')\n",
    "plt.plot(sample_range, precision_list,label=\"Precision Score\",marker='o')\n",
    "plt.plot(sample_range, f1score_list,label=\"F1 Score\",marker='o')\n",
    "plt.legend()\n",
    "plt.xlabel('max_depth: i')\n",
    "plt.ylabel('Cross-Validation Score (Average Scores)')\n",
    "plt.show();\n",
    "    \n",
    "    \n",
    "    \n",
    "    "
   ]
  },
  {
   "cell_type": "code",
   "execution_count": null,
   "metadata": {},
   "outputs": [],
   "source": [
    "# Instantiate\n",
    "    my_tree = DecisionTreeClassifier(max_depth = i, class_weight = 'balanced')\n",
    "\n",
    "    # Fit\n",
    "    my_tree.fit(X_train_scaled, y_train)\n",
    "\n",
    "    # predict\n",
    "    pred_train = my_tree.predict(X_train_scaled)\n",
    "    pred_test = my_tree.predict(X_test_scaled)\n",
    "\n",
    "    # Score\n",
    "    Train_score = my_tree.score(X_train_scaled, y_train)\n",
    "    Accuracy = my_tree.score(X_test_scaled, y_test)\n",
    "    recall = recall_score(y_test, pred_test)\n",
    "    precision = precision_score(y_test, pred_test)\n",
    "    f1score = f1_score(y_test, pred_test)\n",
    "    cmat = confusion_matrix(y_test, pred_test)\n",
    "    \n",
    "    \n",
    "    print('C =', i)\n",
    "    print('Accuracy =', Accuracy)\n",
    "    print('Recall =', recall)\n",
    "    print('Precision =', precision)\n",
    "    print('f1 score =', f1score)\n",
    "    print('Confusion matrix:\\n', cmat)\n",
    "    print('\\n')\n",
    "    \n",
    "\n",
    "\n"
   ]
  },
  {
   "cell_type": "markdown",
   "metadata": {},
   "source": [
    "## Random Forest"
   ]
  },
  {
   "cell_type": "code",
   "execution_count": 47,
   "metadata": {},
   "outputs": [
    {
     "ename": "ValueError",
     "evalue": "x and y must have same first dimension, but have shapes (6,) and (15,)",
     "output_type": "error",
     "traceback": [
      "\u001b[0;31m---------------------------------------------------------------------------\u001b[0m",
      "\u001b[0;31mValueError\u001b[0m                                Traceback (most recent call last)",
      "\u001b[0;32m<ipython-input-47-4f7c4fccd765>\u001b[0m in \u001b[0;36m<module>\u001b[0;34m\u001b[0m\n\u001b[1;32m     21\u001b[0m \u001b[0;34m\u001b[0m\u001b[0m\n\u001b[1;32m     22\u001b[0m \u001b[0mget_ipython\u001b[0m\u001b[0;34m(\u001b[0m\u001b[0;34m)\u001b[0m\u001b[0;34m.\u001b[0m\u001b[0mrun_line_magic\u001b[0m\u001b[0;34m(\u001b[0m\u001b[0;34m'matplotlib'\u001b[0m\u001b[0;34m,\u001b[0m \u001b[0;34m'inline'\u001b[0m\u001b[0;34m)\u001b[0m\u001b[0;34m\u001b[0m\u001b[0;34m\u001b[0m\u001b[0m\n\u001b[0;32m---> 23\u001b[0;31m \u001b[0mplt\u001b[0m\u001b[0;34m.\u001b[0m\u001b[0mplot\u001b[0m\u001b[0;34m(\u001b[0m\u001b[0msample_range\u001b[0m\u001b[0;34m,\u001b[0m \u001b[0mvalidation_score_list\u001b[0m\u001b[0;34m,\u001b[0m\u001b[0mlabel\u001b[0m\u001b[0;34m=\u001b[0m\u001b[0;34m\"Validation Score\"\u001b[0m\u001b[0;34m,\u001b[0m\u001b[0mmarker\u001b[0m\u001b[0;34m=\u001b[0m\u001b[0;34m'o'\u001b[0m\u001b[0;34m)\u001b[0m\u001b[0;34m\u001b[0m\u001b[0;34m\u001b[0m\u001b[0m\n\u001b[0m\u001b[1;32m     24\u001b[0m \u001b[0mplt\u001b[0m\u001b[0;34m.\u001b[0m\u001b[0mplot\u001b[0m\u001b[0;34m(\u001b[0m\u001b[0msample_range\u001b[0m\u001b[0;34m,\u001b[0m \u001b[0mrecall_list\u001b[0m\u001b[0;34m,\u001b[0m\u001b[0mlabel\u001b[0m\u001b[0;34m=\u001b[0m\u001b[0;34m\"Recall Score\"\u001b[0m\u001b[0;34m,\u001b[0m\u001b[0mmarker\u001b[0m\u001b[0;34m=\u001b[0m\u001b[0;34m'o'\u001b[0m\u001b[0;34m)\u001b[0m\u001b[0;34m\u001b[0m\u001b[0;34m\u001b[0m\u001b[0m\n\u001b[1;32m     25\u001b[0m \u001b[0mplt\u001b[0m\u001b[0;34m.\u001b[0m\u001b[0mplot\u001b[0m\u001b[0;34m(\u001b[0m\u001b[0msample_range\u001b[0m\u001b[0;34m,\u001b[0m \u001b[0mprecision_list\u001b[0m\u001b[0;34m,\u001b[0m\u001b[0mlabel\u001b[0m\u001b[0;34m=\u001b[0m\u001b[0;34m\"Precision Score\"\u001b[0m\u001b[0;34m,\u001b[0m\u001b[0mmarker\u001b[0m\u001b[0;34m=\u001b[0m\u001b[0;34m'o'\u001b[0m\u001b[0;34m)\u001b[0m\u001b[0;34m\u001b[0m\u001b[0;34m\u001b[0m\u001b[0m\n",
      "\u001b[0;32m~/anaconda3/lib/python3.7/site-packages/matplotlib/pyplot.py\u001b[0m in \u001b[0;36mplot\u001b[0;34m(scalex, scaley, data, *args, **kwargs)\u001b[0m\n\u001b[1;32m   2809\u001b[0m     return gca().plot(\n\u001b[1;32m   2810\u001b[0m         *args, scalex=scalex, scaley=scaley, **({\"data\": data} if data\n\u001b[0;32m-> 2811\u001b[0;31m         is not None else {}), **kwargs)\n\u001b[0m\u001b[1;32m   2812\u001b[0m \u001b[0;34m\u001b[0m\u001b[0m\n\u001b[1;32m   2813\u001b[0m \u001b[0;34m\u001b[0m\u001b[0m\n",
      "\u001b[0;32m~/anaconda3/lib/python3.7/site-packages/matplotlib/__init__.py\u001b[0m in \u001b[0;36minner\u001b[0;34m(ax, data, *args, **kwargs)\u001b[0m\n\u001b[1;32m   1808\u001b[0m                         \u001b[0;34m\"the Matplotlib list!)\"\u001b[0m \u001b[0;34m%\u001b[0m \u001b[0;34m(\u001b[0m\u001b[0mlabel_namer\u001b[0m\u001b[0;34m,\u001b[0m \u001b[0mfunc\u001b[0m\u001b[0;34m.\u001b[0m\u001b[0m__name__\u001b[0m\u001b[0;34m)\u001b[0m\u001b[0;34m,\u001b[0m\u001b[0;34m\u001b[0m\u001b[0;34m\u001b[0m\u001b[0m\n\u001b[1;32m   1809\u001b[0m                         RuntimeWarning, stacklevel=2)\n\u001b[0;32m-> 1810\u001b[0;31m             \u001b[0;32mreturn\u001b[0m \u001b[0mfunc\u001b[0m\u001b[0;34m(\u001b[0m\u001b[0max\u001b[0m\u001b[0;34m,\u001b[0m \u001b[0;34m*\u001b[0m\u001b[0margs\u001b[0m\u001b[0;34m,\u001b[0m \u001b[0;34m**\u001b[0m\u001b[0mkwargs\u001b[0m\u001b[0;34m)\u001b[0m\u001b[0;34m\u001b[0m\u001b[0;34m\u001b[0m\u001b[0m\n\u001b[0m\u001b[1;32m   1811\u001b[0m \u001b[0;34m\u001b[0m\u001b[0m\n\u001b[1;32m   1812\u001b[0m         inner.__doc__ = _add_data_doc(inner.__doc__,\n",
      "\u001b[0;32m~/anaconda3/lib/python3.7/site-packages/matplotlib/axes/_axes.py\u001b[0m in \u001b[0;36mplot\u001b[0;34m(self, scalex, scaley, *args, **kwargs)\u001b[0m\n\u001b[1;32m   1609\u001b[0m         \u001b[0mkwargs\u001b[0m \u001b[0;34m=\u001b[0m \u001b[0mcbook\u001b[0m\u001b[0;34m.\u001b[0m\u001b[0mnormalize_kwargs\u001b[0m\u001b[0;34m(\u001b[0m\u001b[0mkwargs\u001b[0m\u001b[0;34m,\u001b[0m \u001b[0mmlines\u001b[0m\u001b[0;34m.\u001b[0m\u001b[0mLine2D\u001b[0m\u001b[0;34m.\u001b[0m\u001b[0m_alias_map\u001b[0m\u001b[0;34m)\u001b[0m\u001b[0;34m\u001b[0m\u001b[0;34m\u001b[0m\u001b[0m\n\u001b[1;32m   1610\u001b[0m \u001b[0;34m\u001b[0m\u001b[0m\n\u001b[0;32m-> 1611\u001b[0;31m         \u001b[0;32mfor\u001b[0m \u001b[0mline\u001b[0m \u001b[0;32min\u001b[0m \u001b[0mself\u001b[0m\u001b[0;34m.\u001b[0m\u001b[0m_get_lines\u001b[0m\u001b[0;34m(\u001b[0m\u001b[0;34m*\u001b[0m\u001b[0margs\u001b[0m\u001b[0;34m,\u001b[0m \u001b[0;34m**\u001b[0m\u001b[0mkwargs\u001b[0m\u001b[0;34m)\u001b[0m\u001b[0;34m:\u001b[0m\u001b[0;34m\u001b[0m\u001b[0;34m\u001b[0m\u001b[0m\n\u001b[0m\u001b[1;32m   1612\u001b[0m             \u001b[0mself\u001b[0m\u001b[0;34m.\u001b[0m\u001b[0madd_line\u001b[0m\u001b[0;34m(\u001b[0m\u001b[0mline\u001b[0m\u001b[0;34m)\u001b[0m\u001b[0;34m\u001b[0m\u001b[0;34m\u001b[0m\u001b[0m\n\u001b[1;32m   1613\u001b[0m             \u001b[0mlines\u001b[0m\u001b[0;34m.\u001b[0m\u001b[0mappend\u001b[0m\u001b[0;34m(\u001b[0m\u001b[0mline\u001b[0m\u001b[0;34m)\u001b[0m\u001b[0;34m\u001b[0m\u001b[0;34m\u001b[0m\u001b[0m\n",
      "\u001b[0;32m~/anaconda3/lib/python3.7/site-packages/matplotlib/axes/_base.py\u001b[0m in \u001b[0;36m_grab_next_args\u001b[0;34m(self, *args, **kwargs)\u001b[0m\n\u001b[1;32m    391\u001b[0m                 \u001b[0mthis\u001b[0m \u001b[0;34m+=\u001b[0m \u001b[0margs\u001b[0m\u001b[0;34m[\u001b[0m\u001b[0;36m0\u001b[0m\u001b[0;34m]\u001b[0m\u001b[0;34m,\u001b[0m\u001b[0;34m\u001b[0m\u001b[0;34m\u001b[0m\u001b[0m\n\u001b[1;32m    392\u001b[0m                 \u001b[0margs\u001b[0m \u001b[0;34m=\u001b[0m \u001b[0margs\u001b[0m\u001b[0;34m[\u001b[0m\u001b[0;36m1\u001b[0m\u001b[0;34m:\u001b[0m\u001b[0;34m]\u001b[0m\u001b[0;34m\u001b[0m\u001b[0;34m\u001b[0m\u001b[0m\n\u001b[0;32m--> 393\u001b[0;31m             \u001b[0;32myield\u001b[0m \u001b[0;32mfrom\u001b[0m \u001b[0mself\u001b[0m\u001b[0;34m.\u001b[0m\u001b[0m_plot_args\u001b[0m\u001b[0;34m(\u001b[0m\u001b[0mthis\u001b[0m\u001b[0;34m,\u001b[0m \u001b[0mkwargs\u001b[0m\u001b[0;34m)\u001b[0m\u001b[0;34m\u001b[0m\u001b[0;34m\u001b[0m\u001b[0m\n\u001b[0m\u001b[1;32m    394\u001b[0m \u001b[0;34m\u001b[0m\u001b[0m\n\u001b[1;32m    395\u001b[0m \u001b[0;34m\u001b[0m\u001b[0m\n",
      "\u001b[0;32m~/anaconda3/lib/python3.7/site-packages/matplotlib/axes/_base.py\u001b[0m in \u001b[0;36m_plot_args\u001b[0;34m(self, tup, kwargs)\u001b[0m\n\u001b[1;32m    368\u001b[0m             \u001b[0mx\u001b[0m\u001b[0;34m,\u001b[0m \u001b[0my\u001b[0m \u001b[0;34m=\u001b[0m \u001b[0mindex_of\u001b[0m\u001b[0;34m(\u001b[0m\u001b[0mtup\u001b[0m\u001b[0;34m[\u001b[0m\u001b[0;34m-\u001b[0m\u001b[0;36m1\u001b[0m\u001b[0;34m]\u001b[0m\u001b[0;34m)\u001b[0m\u001b[0;34m\u001b[0m\u001b[0;34m\u001b[0m\u001b[0m\n\u001b[1;32m    369\u001b[0m \u001b[0;34m\u001b[0m\u001b[0m\n\u001b[0;32m--> 370\u001b[0;31m         \u001b[0mx\u001b[0m\u001b[0;34m,\u001b[0m \u001b[0my\u001b[0m \u001b[0;34m=\u001b[0m \u001b[0mself\u001b[0m\u001b[0;34m.\u001b[0m\u001b[0m_xy_from_xy\u001b[0m\u001b[0;34m(\u001b[0m\u001b[0mx\u001b[0m\u001b[0;34m,\u001b[0m \u001b[0my\u001b[0m\u001b[0;34m)\u001b[0m\u001b[0;34m\u001b[0m\u001b[0;34m\u001b[0m\u001b[0m\n\u001b[0m\u001b[1;32m    371\u001b[0m \u001b[0;34m\u001b[0m\u001b[0m\n\u001b[1;32m    372\u001b[0m         \u001b[0;32mif\u001b[0m \u001b[0mself\u001b[0m\u001b[0;34m.\u001b[0m\u001b[0mcommand\u001b[0m \u001b[0;34m==\u001b[0m \u001b[0;34m'plot'\u001b[0m\u001b[0;34m:\u001b[0m\u001b[0;34m\u001b[0m\u001b[0;34m\u001b[0m\u001b[0m\n",
      "\u001b[0;32m~/anaconda3/lib/python3.7/site-packages/matplotlib/axes/_base.py\u001b[0m in \u001b[0;36m_xy_from_xy\u001b[0;34m(self, x, y)\u001b[0m\n\u001b[1;32m    229\u001b[0m         \u001b[0;32mif\u001b[0m \u001b[0mx\u001b[0m\u001b[0;34m.\u001b[0m\u001b[0mshape\u001b[0m\u001b[0;34m[\u001b[0m\u001b[0;36m0\u001b[0m\u001b[0;34m]\u001b[0m \u001b[0;34m!=\u001b[0m \u001b[0my\u001b[0m\u001b[0;34m.\u001b[0m\u001b[0mshape\u001b[0m\u001b[0;34m[\u001b[0m\u001b[0;36m0\u001b[0m\u001b[0;34m]\u001b[0m\u001b[0;34m:\u001b[0m\u001b[0;34m\u001b[0m\u001b[0;34m\u001b[0m\u001b[0m\n\u001b[1;32m    230\u001b[0m             raise ValueError(\"x and y must have same first dimension, but \"\n\u001b[0;32m--> 231\u001b[0;31m                              \"have shapes {} and {}\".format(x.shape, y.shape))\n\u001b[0m\u001b[1;32m    232\u001b[0m         \u001b[0;32mif\u001b[0m \u001b[0mx\u001b[0m\u001b[0;34m.\u001b[0m\u001b[0mndim\u001b[0m \u001b[0;34m>\u001b[0m \u001b[0;36m2\u001b[0m \u001b[0;32mor\u001b[0m \u001b[0my\u001b[0m\u001b[0;34m.\u001b[0m\u001b[0mndim\u001b[0m \u001b[0;34m>\u001b[0m \u001b[0;36m2\u001b[0m\u001b[0;34m:\u001b[0m\u001b[0;34m\u001b[0m\u001b[0;34m\u001b[0m\u001b[0m\n\u001b[1;32m    233\u001b[0m             raise ValueError(\"x and y can be no greater than 2-D, but have \"\n",
      "\u001b[0;31mValueError\u001b[0m: x and y must have same first dimension, but have shapes (6,) and (15,)"
     ]
    },
    {
     "data": {
      "image/png": "[encoded data removed]",
      "text/plain": [
       "<Figure size 432x288 with 1 Axes>"
      ]
     },
     "metadata": {
      "needs_background": "light"
     },
     "output_type": "display_data"
    }
   ],
   "source": [
    "from sklearn.ensemble import RandomForestClassifier\n",
    "sample_range = np.arange(1,60,10) \n",
    "validation_score_list_new = []\n",
    "for i in sample_range:\n",
    "    my_random_forest = RandomForestClassifier(n_estimators=i, class_weight = 'balanced')\n",
    "    validation_score = np.mean(cross_val_score(my_random_forest, X_train_scaled, y_train, cv = 5))\n",
    "    validation_score_list.append(validation_score)\n",
    "    \n",
    "    # Fit\n",
    "    my_random_forest.fit(X_train_scaled, y_train)\n",
    "\n",
    "    # predict\n",
    "    pred_train = my_random_forest.predict(X_train_scaled)\n",
    "    pred_test = my_random_forest.predict(X_test_scaled)\n",
    "    \n",
    "    recall_list.append(recall_score(y_test, pred_test))\n",
    "    precision_list.append(precision_score(y_test, pred_test))\n",
    "    f1score_list.append(f1_score(y_test, pred_test))\n",
    "\n",
    "\n",
    "    \n",
    "%matplotlib inline\n",
    "plt.plot(sample_range, validation_score_list,label=\"Validation Score\",marker='o')\n",
    "plt.plot(sample_range, recall_list,label=\"Recall Score\",marker='o')\n",
    "plt.plot(sample_range, precision_list,label=\"Precision Score\",marker='o')\n",
    "plt.plot(sample_range, f1score_list,label=\"F1 Score\",marker='o')\n",
    "plt.legend()\n",
    "plt.xlabel('max_depth: i')\n",
    "plt.ylabel('Cross-Validation Score (Average Scores)')\n",
    "plt.show();\n",
    "    \n",
    "\n",
    "    \n",
    "\n"
   ]
  },
  {
   "cell_type": "code",
   "execution_count": 30,
   "metadata": {},
   "outputs": [
    {
     "ename": "NameError",
     "evalue": "name 'StandardScaler' is not defined",
     "output_type": "error",
     "traceback": [
      "\u001b[0;31m---------------------------------------------------------------------------\u001b[0m",
      "\u001b[0;31mNameError\u001b[0m                                 Traceback (most recent call last)",
      "\u001b[0;32m<ipython-input-30-2cd0c287a96f>\u001b[0m in \u001b[0;36m<module>\u001b[0;34m\u001b[0m\n\u001b[1;32m      1\u001b[0m \u001b[0;32mfrom\u001b[0m \u001b[0msklearn\u001b[0m\u001b[0;34m.\u001b[0m\u001b[0mensemble\u001b[0m \u001b[0;32mimport\u001b[0m \u001b[0mRandomForestClassifier\u001b[0m\u001b[0;34m\u001b[0m\u001b[0;34m\u001b[0m\u001b[0m\n\u001b[1;32m      2\u001b[0m \u001b[0;31m# Building a final pipeline\u001b[0m\u001b[0;34m\u001b[0m\u001b[0;34m\u001b[0m\u001b[0;34m\u001b[0m\u001b[0m\n\u001b[0;32m----> 3\u001b[0;31m \u001b[0mestimators\u001b[0m \u001b[0;34m=\u001b[0m \u001b[0;34m[\u001b[0m\u001b[0;34m(\u001b[0m\u001b[0;34m'scaler'\u001b[0m\u001b[0;34m,\u001b[0m \u001b[0mStandardScaler\u001b[0m\u001b[0;34m(\u001b[0m\u001b[0;34m)\u001b[0m\u001b[0;34m)\u001b[0m\u001b[0;34m,\u001b[0m \u001b[0;34m(\u001b[0m\u001b[0;34m'model'\u001b[0m\u001b[0;34m,\u001b[0m\u001b[0mRandomForestClassifier\u001b[0m\u001b[0;34m(\u001b[0m\u001b[0mclass_weight\u001b[0m \u001b[0;34m=\u001b[0m \u001b[0;34m'balanced'\u001b[0m\u001b[0;34m)\u001b[0m\u001b[0;34m)\u001b[0m\u001b[0;34m]\u001b[0m\u001b[0;34m\u001b[0m\u001b[0;34m\u001b[0m\u001b[0m\n\u001b[0m\u001b[1;32m      4\u001b[0m \u001b[0;34m\u001b[0m\u001b[0m\n\u001b[1;32m      5\u001b[0m \u001b[0mpipe\u001b[0m \u001b[0;34m=\u001b[0m \u001b[0mPipeline\u001b[0m\u001b[0;34m(\u001b[0m\u001b[0mestimators\u001b[0m\u001b[0;34m)\u001b[0m\u001b[0;34m\u001b[0m\u001b[0;34m\u001b[0m\u001b[0m\n",
      "\u001b[0;31mNameError\u001b[0m: name 'StandardScaler' is not defined"
     ]
    }
   ],
   "source": [
    "from sklearn.ensemble import RandomForestClassifier\n",
    "# Building a final pipeline\n",
    "param_grid = [{'model': [RandomForestClassifier(class_weight = 'balanced')], 'normalize': [StandardScaler(), None],\n",
    "'model__C': np.arange(1,60,10)},]\n",
    "\n",
    "estimators = [('normalize', StandardScaler()), ('model',RandomForestClassifier(class_weight = 'balanced'))]\n",
    "\n",
    "pipe = Pipeline(estimators)\n",
    "\n",
    "grid = GridSearchCV(pipe, param_grid, cv=5)\n",
    "fittedgrid = grid.fit(X_train, y_train)"
   ]
  },
  {
   "cell_type": "markdown",
   "metadata": {},
   "source": [
    "Both random forest and decision trees give lower f1 scores that logistical regressions. I decided to go with a regularization of 0.01 as it gives me the highest f1 scores but also a high accuracy. I used class weights as balanced to account for class imbalance."
   ]
  },
  {
   "cell_type": "code",
   "execution_count": null,
   "metadata": {},
   "outputs": [],
   "source": [
    "# check for value counts of y labels to determine data class imbalance\n",
    "import numpy as np\n",
    "np.unique(y_test, return_counts=True)"
   ]
  },
  {
   "cell_type": "markdown",
   "metadata": {},
   "source": [
    "### Final Model"
   ]
  },
  {
   "cell_type": "code",
   "execution_count": 51,
   "metadata": {
    "scrolled": true
   },
   "outputs": [
    {
     "name": "stdout",
     "output_type": "stream",
     "text": [
      "Accuracy = 0.6115763810678534\n",
      "Recall = 0.7203709975770524\n",
      "Precision = 0.303045248546424\n",
      "f1 score = 0.42662017303961086\n",
      "Confusion matrix:\n",
      " [[178746 127181]\n",
      " [ 21466  55300]]\n",
      "\n",
      "\n"
     ]
    }
   ],
   "source": [
    "import numpy as np\n",
    "from sklearn import metrics\n",
    "# Instantiate using balanced class weights to account for class-imbalance\n",
    "LR_model = LogisticRegression(C=0.000001, class_weight = 'balanced')\n",
    "# Fit\n",
    "LR_model.fit(X_train_scaled, y_train)\n",
    "\n",
    "# predict\n",
    "pred_train = LR_model.predict(X_train_scaled)\n",
    "pred_test = LR_model.predict(X_test_scaled)\n",
    "\n",
    "# Score\n",
    "Train_score = LR_model.score(X_train_scaled, y_train)\n",
    "Accuracy = LR_model.score(X_test_scaled, y_test)\n",
    "recall = recall_score(y_test, pred_test)\n",
    "precision = precision_score(y_test, pred_test)\n",
    "f1score = f1_score(y_test, pred_test)\n",
    "cmat = confusion_matrix(y_test, pred_test)\n",
    "\n",
    "\n",
    "print('Accuracy =', Accuracy)\n",
    "print('Recall =', recall)\n",
    "print('Precision =', precision)\n",
    "print('f1 score =', f1score)\n",
    "print('Confusion matrix:\\n', cmat)\n",
    "print('\\n')\n",
    "\n",
    "\n",
    "    "
   ]
  },
  {
   "cell_type": "code",
   "execution_count": 104,
   "metadata": {},
   "outputs": [],
   "source": [
    "# Calculate Probability for ROC curve\n",
    "pred_test_proba = LR_model.predict_proba(X_test_scaled)[:,1]\n"
   ]
  },
  {
   "cell_type": "code",
   "execution_count": 70,
   "metadata": {},
   "outputs": [
    {
     "data": {
      "text/plain": [
       "(382693,)"
      ]
     },
     "execution_count": 70,
     "metadata": {},
     "output_type": "execute_result"
    }
   ],
   "source": [
    "pred_test_proba.shape"
   ]
  },
  {
   "cell_type": "code",
   "execution_count": 71,
   "metadata": {},
   "outputs": [
    {
     "data": {
      "text/plain": [
       "(382693,)"
      ]
     },
     "execution_count": 71,
     "metadata": {},
     "output_type": "execute_result"
    }
   ],
   "source": [
    "pred_test.shape"
   ]
  },
  {
   "cell_type": "code",
   "execution_count": 72,
   "metadata": {},
   "outputs": [
    {
     "data": {
      "text/plain": [
       "(382693,)"
      ]
     },
     "execution_count": 72,
     "metadata": {},
     "output_type": "execute_result"
    }
   ],
   "source": [
    "y_test.shape"
   ]
  },
  {
   "cell_type": "markdown",
   "metadata": {},
   "source": [
    "### Challenges and improvements\n",
    "\n",
    "- While I tried SMOTE in some previous iterations (not doumented here) I didn't test random forest and decision trees with class_weights given time constraints. I would like to see the difference in results if the model has a similar function.\n",
    "\n",
    "- Add more features into the model to see if the f1 score can be boosted overall across different types of models. \n",
    "\n",
    "  "
   ]
  },
  {
   "cell_type": "code",
   "execution_count": 73,
   "metadata": {},
   "outputs": [
    {
     "data": {
      "image/png": "[encoded data removed]",
      "text/plain": [
       "<Figure size 432x288 with 1 Axes>"
      ]
     },
     "metadata": {
      "needs_background": "light"
     },
     "output_type": "display_data"
    },
    {
     "name": "stdout",
     "output_type": "stream",
     "text": [
      "AUC score: 0.717\n"
     ]
    }
   ],
   "source": [
    "# model evaluation\n",
    "from sklearn.metrics import roc_curve, auc    \n",
    "\n",
    "fpr, tpr, _ = roc_curve(y_test, pred_test_proba)\n",
    "roc_auc = auc(fpr, tpr)\n",
    "\n",
    "plt.figure()\n",
    "lw = 2\n",
    "plt.plot(fpr, tpr, color='darkorange',\n",
    "         lw=lw, label='AUC = %0.2f' % roc_auc)\n",
    "plt.plot([0, 1], [0, 1], color='navy', lw=lw, linestyle='--')\n",
    "plt.xlabel('False Positive Rate')\n",
    "plt.ylabel('True Positive Rate')\n",
    "plt.title('ROC and AUC')\n",
    "plt.legend(loc=\"best\")\n",
    "plt.show()\n",
    "print(\"AUC score: %3.3f\" % roc_auc)"
   ]
  },
  {
   "cell_type": "code",
   "execution_count": null,
   "metadata": {},
   "outputs": [],
   "source": [
    "columns = (list(X_train))"
   ]
  },
  {
   "cell_type": "code",
   "execution_count": null,
   "metadata": {},
   "outputs": [],
   "source": [
    "a = (LR_model.coef_)\n"
   ]
  },
  {
   "cell_type": "code",
   "execution_count": null,
   "metadata": {
    "scrolled": false
   },
   "outputs": [],
   "source": [
    "# print out column names as columns and coefficients as values\n",
    "col3= df = pd.DataFrame(a,columns=columns)\n",
    "col3.head()"
   ]
  },
  {
   "cell_type": "code",
   "execution_count": null,
   "metadata": {},
   "outputs": [],
   "source": [
    "#export to csv\n",
    "col3.to_csv('C:/Users/Farhan/Documents/Capstone/coefficients.csv')"
   ]
  }
 ],
 "metadata": {
  "kernelspec": {
   "display_name": "Python 3",
   "language": "python",
   "name": "python3"
  },
  "language_info": {
   "codemirror_mode": {
    "name": "ipython",
    "version": 3
   },
   "file_extension": ".py",
   "mimetype": "text/x-python",
   "name": "python",
   "nbconvert_exporter": "python",
   "pygments_lexer": "ipython3",
   "version": "3.7.3"
  }
 },
 "nbformat": 4,
 "nbformat_minor": 2
}
