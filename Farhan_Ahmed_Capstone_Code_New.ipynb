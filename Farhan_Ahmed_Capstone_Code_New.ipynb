{
 "cells": [
  {
   "cell_type": "markdown",
   "metadata": {},
   "source": [
    "## Initial Cleaning Steps"
   ]
  },
  {
   "cell_type": "markdown",
   "metadata": {},
   "source": [
    "I read this data in as string because it was difficult to do so otherwise"
   ]
  },
  {
   "cell_type": "code",
   "execution_count": 52,
   "metadata": {},
   "outputs": [],
   "source": [
    "# import data csv\n",
    "import pandas as pd\n",
    "df = pd.read_csv(\"loan.csv\", delimiter = \",\",index_col=False, dtype = \"str\")"
   ]
  },
  {
   "cell_type": "code",
   "execution_count": 53,
   "metadata": {},
   "outputs": [],
   "source": [
    "import warnings\n",
    "warnings.filterwarnings(\"ignore\")"
   ]
  },
  {
   "cell_type": "code",
   "execution_count": 54,
   "metadata": {},
   "outputs": [
    {
     "data": {
      "text/plain": [
       "(2260668, 145)"
      ]
     },
     "execution_count": 54,
     "metadata": {},
     "output_type": "execute_result"
    }
   ],
   "source": [
    "#check shape to ensure data transferred as expected\n",
    "df.shape"
   ]
  },
  {
   "cell_type": "code",
   "execution_count": 55,
   "metadata": {},
   "outputs": [],
   "source": [
    "# remove any columns that have a huge no-value count \n",
    "df.dropna(thresh = 1500000, axis = 1, inplace = True)"
   ]
  },
  {
   "cell_type": "code",
   "execution_count": 59,
   "metadata": {},
   "outputs": [
    {
     "data": {
      "text/plain": [
       "(1303607, 87)"
      ]
     },
     "execution_count": 59,
     "metadata": {},
     "output_type": "execute_result"
    }
   ],
   "source": [
    "df.shape"
   ]
  },
  {
   "cell_type": "code",
   "execution_count": 57,
   "metadata": {},
   "outputs": [
    {
     "name": "stdout",
     "output_type": "stream",
     "text": [
      "Fully Paid                                             1041952\n",
      "Current                                                 919695\n",
      "Charged Off                                             261655\n",
      "Late (31-120 days)                                       21897\n",
      "In Grace Period                                           8952\n",
      "Late (16-30 days)                                         3737\n",
      "Does not meet the credit policy. Status:Fully Paid        1988\n",
      "Does not meet the credit policy. Status:Charged Off        761\n",
      "Default                                                     31\n",
      "Name: loan_status, dtype: int64\n"
     ]
    }
   ],
   "source": [
    "# check dependent variable counts\n",
    "print(df[\"loan_status\"].value_counts())"
   ]
  },
  {
   "cell_type": "code",
   "execution_count": 60,
   "metadata": {},
   "outputs": [],
   "source": [
    "# remove unwanted categories from dependent variable\n",
    "df = df[df.loan_status != \"Current\"]\n",
    "df = df[df.loan_status != \"Late (31-120 days)\"]\n",
    "df = df[df.loan_status != \"Late (16-30 days)\"]\n",
    "df = df[df.loan_status != \"In Grace Period\"]\n",
    "df = df[df.loan_status != \"Default\"]\n",
    "df = df[df.loan_status != \"Does not meet the credit policy. Status:Fully Paid\"]\n",
    "df = df[df.loan_status != \"Does not meet the credit policy. Status:Charged Off\"]\n"
   ]
  },
  {
   "cell_type": "code",
   "execution_count": 61,
   "metadata": {},
   "outputs": [
    {
     "data": {
      "text/plain": [
       "(1303607, 87)"
      ]
     },
     "execution_count": 61,
     "metadata": {},
     "output_type": "execute_result"
    }
   ],
   "source": [
    "df.shape"
   ]
  },
  {
   "cell_type": "markdown",
   "metadata": {},
   "source": [
    "I removed certain columns from the analysis because this was information a lender would not have while giving a loan and so it was giving the model very high predictive powers. These columns were decided upon after I read up the description of each variable and decided upon which information would not be available at the time of lending. I also consulted the company website to study their model and make better judgements in choosing these variables."
   ]
  },
  {
   "cell_type": "code",
   "execution_count": 62,
   "metadata": {},
   "outputs": [],
   "source": [
    "# Remove columns that represent information not necessary or not information available to lender while giving the loan\n",
    "df = df.drop(['total_pymnt_inv','total_pymnt','debt_settlement_flag','out_prncp','last_pymnt_d','last_pymnt_amnt','out_prncp_inv','total_rec_int','total_rec_late_fee','recoveries','collection_recovery_fee','total_rec_prncp','total_rev_hi_lim','total_rec_int'],axis = 1)"
   ]
  },
  {
   "cell_type": "code",
   "execution_count": 63,
   "metadata": {},
   "outputs": [
    {
     "data": {
      "text/plain": [
       "(1303607, 74)"
      ]
     },
     "execution_count": 63,
     "metadata": {},
     "output_type": "execute_result"
    }
   ],
   "source": [
    "df.shape"
   ]
  },
  {
   "cell_type": "code",
   "execution_count": 13,
   "metadata": {},
   "outputs": [],
   "source": [
    "pd.set_option('display.max_columns', None)"
   ]
  },
  {
   "cell_type": "code",
   "execution_count": 64,
   "metadata": {},
   "outputs": [
    {
     "data": {
      "text/plain": [
       "0         29\n",
       "67527     15\n",
       "47281      4\n",
       "67528      3\n",
       "1          2\n",
       "55841      2\n",
       "56         2\n",
       "67548      1\n",
       "54         1\n",
       "115570     1\n",
       "82579      1\n",
       "104295     1\n",
       "39         1\n",
       "810        1\n",
       "67681      1\n",
       "312        1\n",
       "169549     1\n",
       "697        1\n",
       "75454      1\n",
       "61047      1\n",
       "60639      1\n",
       "59741      1\n",
       "61386      1\n",
       "15426      1\n",
       "dtype: int64"
      ]
     },
     "execution_count": 64,
     "metadata": {},
     "output_type": "execute_result"
    }
   ],
   "source": [
    "df_colnans = df.isna().sum()\n",
    "df_colnans.value_counts()"
   ]
  },
  {
   "cell_type": "code",
   "execution_count": 65,
   "metadata": {},
   "outputs": [],
   "source": [
    "nans = pd. DataFrame(df_colnans)\n",
    "nans.columns = nans.columns.astype(str)\n"
   ]
  },
  {
   "cell_type": "code",
   "execution_count": 66,
   "metadata": {},
   "outputs": [
    {
     "data": {
      "text/html": [
       "<div>\n",
       "<style scoped>\n",
       "    .dataframe tbody tr th:only-of-type {\n",
       "        vertical-align: middle;\n",
       "    }\n",
       "\n",
       "    .dataframe tbody tr th {\n",
       "        vertical-align: top;\n",
       "    }\n",
       "\n",
       "    .dataframe thead th {\n",
       "        text-align: right;\n",
       "    }\n",
       "</style>\n",
       "<table border=\"1\" class=\"dataframe\">\n",
       "  <thead>\n",
       "    <tr style=\"text-align: right;\">\n",
       "      <th></th>\n",
       "      <th>0</th>\n",
       "    </tr>\n",
       "  </thead>\n",
       "  <tbody>\n",
       "    <tr>\n",
       "      <th>loan_amnt</th>\n",
       "      <td>0</td>\n",
       "    </tr>\n",
       "    <tr>\n",
       "      <th>funded_amnt</th>\n",
       "      <td>0</td>\n",
       "    </tr>\n",
       "    <tr>\n",
       "      <th>funded_amnt_inv</th>\n",
       "      <td>0</td>\n",
       "    </tr>\n",
       "    <tr>\n",
       "      <th>term</th>\n",
       "      <td>0</td>\n",
       "    </tr>\n",
       "    <tr>\n",
       "      <th>int_rate</th>\n",
       "      <td>0</td>\n",
       "    </tr>\n",
       "  </tbody>\n",
       "</table>\n",
       "</div>"
      ],
      "text/plain": [
       "                 0\n",
       "loan_amnt        0\n",
       "funded_amnt      0\n",
       "funded_amnt_inv  0\n",
       "term             0\n",
       "int_rate         0"
      ]
     },
     "execution_count": 66,
     "metadata": {},
     "output_type": "execute_result"
    }
   ],
   "source": [
    "nans.head()\n"
   ]
  },
  {
   "cell_type": "code",
   "execution_count": 67,
   "metadata": {},
   "outputs": [
    {
     "name": "stdout",
     "output_type": "stream",
     "text": [
      "0\n"
     ]
    }
   ],
   "source": [
    "for col in nans.columns:\n",
    "    print(col)"
   ]
  },
  {
   "cell_type": "code",
   "execution_count": 68,
   "metadata": {},
   "outputs": [],
   "source": [
    "nans.rename(columns = {'0':'NAs'}, inplace = True)"
   ]
  },
  {
   "cell_type": "code",
   "execution_count": 76,
   "metadata": {},
   "outputs": [
    {
     "data": {
      "text/plain": [
       "(45, 1)"
      ]
     },
     "execution_count": 76,
     "metadata": {},
     "output_type": "execute_result"
    }
   ],
   "source": [
    "nans.shape"
   ]
  },
  {
   "cell_type": "code",
   "execution_count": 70,
   "metadata": {},
   "outputs": [],
   "source": [
    "nans = nans[nans.NAs != 0]"
   ]
  },
  {
   "cell_type": "code",
   "execution_count": 75,
   "metadata": {},
   "outputs": [
    {
     "data": {
      "text/html": [
       "<div>\n",
       "<style scoped>\n",
       "    .dataframe tbody tr th:only-of-type {\n",
       "        vertical-align: middle;\n",
       "    }\n",
       "\n",
       "    .dataframe tbody tr th {\n",
       "        vertical-align: top;\n",
       "    }\n",
       "\n",
       "    .dataframe thead th {\n",
       "        text-align: right;\n",
       "    }\n",
       "</style>\n",
       "<table border=\"1\" class=\"dataframe\">\n",
       "  <thead>\n",
       "    <tr style=\"text-align: right;\">\n",
       "      <th></th>\n",
       "      <th>NAs</th>\n",
       "    </tr>\n",
       "  </thead>\n",
       "  <tbody>\n",
       "    <tr>\n",
       "      <th>mths_since_recent_inq</th>\n",
       "      <td>169549</td>\n",
       "    </tr>\n",
       "    <tr>\n",
       "      <th>num_tl_120dpd_2m</th>\n",
       "      <td>115570</td>\n",
       "    </tr>\n",
       "    <tr>\n",
       "      <th>mo_sin_old_il_acct</th>\n",
       "      <td>104295</td>\n",
       "    </tr>\n",
       "    <tr>\n",
       "      <th>emp_title</th>\n",
       "      <td>82579</td>\n",
       "    </tr>\n",
       "    <tr>\n",
       "      <th>emp_length</th>\n",
       "      <td>75454</td>\n",
       "    </tr>\n",
       "    <tr>\n",
       "      <th>pct_tl_nvr_dlq</th>\n",
       "      <td>67681</td>\n",
       "    </tr>\n",
       "    <tr>\n",
       "      <th>avg_cur_bal</th>\n",
       "      <td>67548</td>\n",
       "    </tr>\n",
       "    <tr>\n",
       "      <th>mo_sin_rcnt_rev_tl_op</th>\n",
       "      <td>67528</td>\n",
       "    </tr>\n",
       "    <tr>\n",
       "      <th>mo_sin_old_rev_tl_op</th>\n",
       "      <td>67528</td>\n",
       "    </tr>\n",
       "    <tr>\n",
       "      <th>num_rev_accts</th>\n",
       "      <td>67528</td>\n",
       "    </tr>\n",
       "    <tr>\n",
       "      <th>num_op_rev_tl</th>\n",
       "      <td>67527</td>\n",
       "    </tr>\n",
       "    <tr>\n",
       "      <th>num_actv_rev_tl</th>\n",
       "      <td>67527</td>\n",
       "    </tr>\n",
       "    <tr>\n",
       "      <th>num_bc_tl</th>\n",
       "      <td>67527</td>\n",
       "    </tr>\n",
       "    <tr>\n",
       "      <th>num_il_tl</th>\n",
       "      <td>67527</td>\n",
       "    </tr>\n",
       "    <tr>\n",
       "      <th>num_actv_bc_tl</th>\n",
       "      <td>67527</td>\n",
       "    </tr>\n",
       "    <tr>\n",
       "      <th>num_rev_tl_bal_gt_0</th>\n",
       "      <td>67527</td>\n",
       "    </tr>\n",
       "    <tr>\n",
       "      <th>num_tl_30dpd</th>\n",
       "      <td>67527</td>\n",
       "    </tr>\n",
       "    <tr>\n",
       "      <th>num_tl_90g_dpd_24m</th>\n",
       "      <td>67527</td>\n",
       "    </tr>\n",
       "    <tr>\n",
       "      <th>num_tl_op_past_12m</th>\n",
       "      <td>67527</td>\n",
       "    </tr>\n",
       "    <tr>\n",
       "      <th>tot_hi_cred_lim</th>\n",
       "      <td>67527</td>\n",
       "    </tr>\n",
       "    <tr>\n",
       "      <th>num_accts_ever_120_pd</th>\n",
       "      <td>67527</td>\n",
       "    </tr>\n",
       "    <tr>\n",
       "      <th>total_il_high_credit_limit</th>\n",
       "      <td>67527</td>\n",
       "    </tr>\n",
       "    <tr>\n",
       "      <th>tot_coll_amt</th>\n",
       "      <td>67527</td>\n",
       "    </tr>\n",
       "    <tr>\n",
       "      <th>mo_sin_rcnt_tl</th>\n",
       "      <td>67527</td>\n",
       "    </tr>\n",
       "    <tr>\n",
       "      <th>tot_cur_bal</th>\n",
       "      <td>67527</td>\n",
       "    </tr>\n",
       "    <tr>\n",
       "      <th>bc_util</th>\n",
       "      <td>61386</td>\n",
       "    </tr>\n",
       "    <tr>\n",
       "      <th>percent_bc_gt_75</th>\n",
       "      <td>61047</td>\n",
       "    </tr>\n",
       "    <tr>\n",
       "      <th>bc_open_to_buy</th>\n",
       "      <td>60639</td>\n",
       "    </tr>\n",
       "    <tr>\n",
       "      <th>mths_since_recent_bc</th>\n",
       "      <td>59741</td>\n",
       "    </tr>\n",
       "    <tr>\n",
       "      <th>num_bc_sats</th>\n",
       "      <td>55841</td>\n",
       "    </tr>\n",
       "    <tr>\n",
       "      <th>num_sats</th>\n",
       "      <td>55841</td>\n",
       "    </tr>\n",
       "    <tr>\n",
       "      <th>total_bc_limit</th>\n",
       "      <td>47281</td>\n",
       "    </tr>\n",
       "    <tr>\n",
       "      <th>total_bal_ex_mort</th>\n",
       "      <td>47281</td>\n",
       "    </tr>\n",
       "    <tr>\n",
       "      <th>acc_open_past_24mths</th>\n",
       "      <td>47281</td>\n",
       "    </tr>\n",
       "    <tr>\n",
       "      <th>mort_acc</th>\n",
       "      <td>47281</td>\n",
       "    </tr>\n",
       "    <tr>\n",
       "      <th>title</th>\n",
       "      <td>15426</td>\n",
       "    </tr>\n",
       "    <tr>\n",
       "      <th>revol_util</th>\n",
       "      <td>810</td>\n",
       "    </tr>\n",
       "    <tr>\n",
       "      <th>pub_rec_bankruptcies</th>\n",
       "      <td>697</td>\n",
       "    </tr>\n",
       "    <tr>\n",
       "      <th>dti</th>\n",
       "      <td>312</td>\n",
       "    </tr>\n",
       "    <tr>\n",
       "      <th>collections_12_mths_ex_med</th>\n",
       "      <td>56</td>\n",
       "    </tr>\n",
       "    <tr>\n",
       "      <th>chargeoff_within_12_mths</th>\n",
       "      <td>56</td>\n",
       "    </tr>\n",
       "    <tr>\n",
       "      <th>last_credit_pull_d</th>\n",
       "      <td>54</td>\n",
       "    </tr>\n",
       "    <tr>\n",
       "      <th>tax_liens</th>\n",
       "      <td>39</td>\n",
       "    </tr>\n",
       "    <tr>\n",
       "      <th>zip_code</th>\n",
       "      <td>1</td>\n",
       "    </tr>\n",
       "    <tr>\n",
       "      <th>inq_last_6mths</th>\n",
       "      <td>1</td>\n",
       "    </tr>\n",
       "  </tbody>\n",
       "</table>\n",
       "</div>"
      ],
      "text/plain": [
       "                               NAs\n",
       "mths_since_recent_inq       169549\n",
       "num_tl_120dpd_2m            115570\n",
       "mo_sin_old_il_acct          104295\n",
       "emp_title                    82579\n",
       "emp_length                   75454\n",
       "pct_tl_nvr_dlq               67681\n",
       "avg_cur_bal                  67548\n",
       "mo_sin_rcnt_rev_tl_op        67528\n",
       "mo_sin_old_rev_tl_op         67528\n",
       "num_rev_accts                67528\n",
       "num_op_rev_tl                67527\n",
       "num_actv_rev_tl              67527\n",
       "num_bc_tl                    67527\n",
       "num_il_tl                    67527\n",
       "num_actv_bc_tl               67527\n",
       "num_rev_tl_bal_gt_0          67527\n",
       "num_tl_30dpd                 67527\n",
       "num_tl_90g_dpd_24m           67527\n",
       "num_tl_op_past_12m           67527\n",
       "tot_hi_cred_lim              67527\n",
       "num_accts_ever_120_pd        67527\n",
       "total_il_high_credit_limit   67527\n",
       "tot_coll_amt                 67527\n",
       "mo_sin_rcnt_tl               67527\n",
       "tot_cur_bal                  67527\n",
       "bc_util                      61386\n",
       "percent_bc_gt_75             61047\n",
       "bc_open_to_buy               60639\n",
       "mths_since_recent_bc         59741\n",
       "num_bc_sats                  55841\n",
       "num_sats                     55841\n",
       "total_bc_limit               47281\n",
       "total_bal_ex_mort            47281\n",
       "acc_open_past_24mths         47281\n",
       "mort_acc                     47281\n",
       "title                        15426\n",
       "revol_util                     810\n",
       "pub_rec_bankruptcies           697\n",
       "dti                            312\n",
       "collections_12_mths_ex_med      56\n",
       "chargeoff_within_12_mths        56\n",
       "last_credit_pull_d              54\n",
       "tax_liens                       39\n",
       "zip_code                         1\n",
       "inq_last_6mths                   1"
      ]
     },
     "execution_count": 75,
     "metadata": {},
     "output_type": "execute_result"
    }
   ],
   "source": [
    "nans.sort_values('NAs',ascending = False)"
   ]
  },
  {
   "cell_type": "code",
   "execution_count": 82,
   "metadata": {},
   "outputs": [
    {
     "data": {
      "text/plain": [
       "0"
      ]
     },
     "execution_count": 82,
     "metadata": {},
     "output_type": "execute_result"
    }
   ],
   "source": [
    "df.isna().sum().sum()"
   ]
  },
  {
   "cell_type": "code",
   "execution_count": 65,
   "metadata": {},
   "outputs": [],
   "source": [
    "# now remove all rows with any no-value cells in them\n",
    "df = df.dropna(axis = 0, how = 'any')"
   ]
  },
  {
   "cell_type": "code",
   "execution_count": 66,
   "metadata": {},
   "outputs": [
    {
     "data": {
      "text/plain": [
       "(956732, 74)"
      ]
     },
     "execution_count": 66,
     "metadata": {},
     "output_type": "execute_result"
    }
   ],
   "source": [
    "df.shape"
   ]
  },
  {
   "cell_type": "code",
   "execution_count": 67,
   "metadata": {},
   "outputs": [],
   "source": [
    "#export to csv\n",
    "df.to_csv('Data_no_NAN.csv')"
   ]
  },
  {
   "cell_type": "markdown",
   "metadata": {},
   "source": [
    "Exported this to CSV as loading the full data again and again was becoming cumbersome. After this, I only work with the new CSV."
   ]
  },
  {
   "cell_type": "markdown",
   "metadata": {},
   "source": [
    "## Loading the Data\n"
   ]
  },
  {
   "cell_type": "code",
   "execution_count": 40,
   "metadata": {},
   "outputs": [],
   "source": [
    "# Read in the cleaned csv\n",
    "import pandas as pd\n",
    "final = pd.read_csv('Data_no_NAN.csv')\n",
    "\n",
    "pd.set_option('display.max_columns', None)"
   ]
  },
  {
   "cell_type": "code",
   "execution_count": 42,
   "metadata": {},
   "outputs": [],
   "source": [
    "final = final[final.purpose != 'educational']"
   ]
  },
  {
   "cell_type": "code",
   "execution_count": 43,
   "metadata": {},
   "outputs": [
    {
     "data": {
      "text/plain": [
       "(956731, 75)"
      ]
     },
     "execution_count": 43,
     "metadata": {},
     "output_type": "execute_result"
    }
   ],
   "source": [
    "# check shape\n",
    "final.shape"
   ]
  },
  {
   "cell_type": "markdown",
   "metadata": {},
   "source": [
    "## Feature Selection Process"
   ]
  },
  {
   "cell_type": "code",
   "execution_count": 44,
   "metadata": {},
   "outputs": [],
   "source": [
    "# set the data up to do the train-test split to calculate mutual info scores\n",
    "from sklearn.model_selection import train_test_split\n",
    "\n",
    "\n",
    "df_y = final['loan_status']\n",
    "df_x = final.drop(['loan_status'],axis = 1)\n",
    "\n",
    "X = df_x\n",
    "y = df_y"
   ]
  },
  {
   "cell_type": "code",
   "execution_count": 45,
   "metadata": {},
   "outputs": [],
   "source": [
    "# train-test split\n",
    "X_train, X_test, y_train, y_test = train_test_split(X, y, test_size=0.4, stratify = y)"
   ]
  },
  {
   "cell_type": "code",
   "execution_count": 6,
   "metadata": {},
   "outputs": [
    {
     "data": {
      "text/plain": [
       "[]"
      ]
     },
     "execution_count": 6,
     "metadata": {},
     "output_type": "execute_result"
    },
    {
     "data": {
      "image/png": "[encoded data removed]",
      "text/plain": [
       "<Figure size 1152x1152 with 1 Axes>"
      ]
     },
     "metadata": {
      "needs_background": "light"
     },
     "output_type": "display_data"
    }
   ],
   "source": [
    "# take a look at the mutual info scores to select which features will be part of the model\n",
    "from sklearn.metrics.cluster import adjusted_mutual_info_score\n",
    "from sklearn.metrics import mutual_info_score\n",
    "import matplotlib.pyplot as plt\n",
    "\n",
    "adjusted_mutual_info_scores = []\n",
    "\n",
    "for feature in X_train.columns:\n",
    "    # Calculate the mutual info score\n",
    "    m_info = adjusted_mutual_info_score(X_train[feature], y_train)\n",
    "    # Append it to our list\n",
    "    adjusted_mutual_info_scores.append(m_info)\n",
    "\n",
    "plt.figure(figsize = (16,16))\n",
    "plt.bar(X_train.columns, adjusted_mutual_info_scores)\n",
    "plt.ylabel('Mutual info shared with Target')\n",
    "plt.xticks(rotation=90)\n",
    "plt.plot()"
   ]
  },
  {
   "cell_type": "code",
   "execution_count": 46,
   "metadata": {},
   "outputs": [],
   "source": [
    "#Select the top 35 features in terms of MIS\n",
    "MIS = pd.DataFrame({'Features' : X_train.columns, 'Info Scores' : adjusted_mutual_info_scores}, dtype = float)\n",
    "MIS = MIS.sort_values('Info Scores', ascending = False)\n",
    "MIS_35 = pd.DataFrame(MIS.head(35))\n",
    "MIS_35 = MIS_35.set_index('Features')\n"
   ]
  },
  {
   "cell_type": "code",
   "execution_count": 47,
   "metadata": {},
   "outputs": [],
   "source": [
    "cols = MIS_35.index"
   ]
  },
  {
   "cell_type": "code",
   "execution_count": 48,
   "metadata": {},
   "outputs": [
    {
     "data": {
      "text/plain": [
       "(35,)"
      ]
     },
     "execution_count": 48,
     "metadata": {},
     "output_type": "execute_result"
    }
   ],
   "source": [
    "cols.shape"
   ]
  },
  {
   "cell_type": "code",
   "execution_count": 49,
   "metadata": {},
   "outputs": [],
   "source": [
    "final = final[cols]"
   ]
  },
  {
   "cell_type": "code",
   "execution_count": 50,
   "metadata": {},
   "outputs": [
    {
     "data": {
      "text/plain": [
       "(24,)"
      ]
     },
     "execution_count": 50,
     "metadata": {},
     "output_type": "execute_result"
    }
   ],
   "source": [
    "num_cols = final._get_numeric_data().columns\n",
    "num_cols.shape\n"
   ]
  },
  {
   "cell_type": "code",
   "execution_count": 51,
   "metadata": {},
   "outputs": [
    {
     "data": {
      "text/plain": [
       "['purpose',\n",
       " 'verification_status',\n",
       " 'issue_d',\n",
       " 'emp_title',\n",
       " 'term',\n",
       " 'zip_code',\n",
       " 'home_ownership',\n",
       " 'grade',\n",
       " 'addr_state',\n",
       " 'last_credit_pull_d',\n",
       " 'sub_grade']"
      ]
     },
     "execution_count": 51,
     "metadata": {},
     "output_type": "execute_result"
    }
   ],
   "source": [
    "#Finding the categorical columns in the top 35\n",
    "cat_cols = list(set(cols) - set(num_cols))\n",
    "cat_cols"
   ]
  },
  {
   "cell_type": "code",
   "execution_count": 36,
   "metadata": {},
   "outputs": [
    {
     "data": {
      "text/plain": [
       "(956732, 35)"
      ]
     },
     "execution_count": 36,
     "metadata": {},
     "output_type": "execute_result"
    }
   ],
   "source": [
    "final.shape"
   ]
  },
  {
   "cell_type": "code",
   "execution_count": 52,
   "metadata": {},
   "outputs": [
    {
     "name": "stdout",
     "output_type": "stream",
     "text": [
      "purpose ['debt_consolidation' 'credit_card' 'other' 'house' 'car'\n",
      " 'home_improvement' 'moving' 'medical' 'major_purchase' 'vacation'\n",
      " 'small_business' 'renewable_energy' 'wedding']\n",
      "verification_status ['Source Verified' 'Verified' 'Not Verified']\n",
      "issue_d ['Dec-2018' 'Nov-2018' 'Oct-2018' 'Sep-2018' 'Aug-2018' 'Jul-2018'\n",
      " 'Jun-2018' 'May-2018' 'Apr-2018' 'Mar-2018' 'Feb-2018' 'Jan-2018'\n",
      " 'Sep-2016' 'Aug-2016' 'Jul-2016' 'Jun-2016' 'May-2016' 'Apr-2016'\n",
      " 'Mar-2016' 'Feb-2016' 'Jan-2016' 'Dec-2016' 'Nov-2016' 'Oct-2016'\n",
      " 'Dec-2015' 'Nov-2015' 'Oct-2015' 'Sep-2015' 'Aug-2015' 'Jul-2015'\n",
      " 'Jun-2015' 'May-2015' 'Apr-2015' 'Mar-2015' 'Feb-2015' 'Jan-2015'\n",
      " 'Mar-2017' 'Feb-2017' 'Jan-2017' 'Sep-2017' 'Aug-2017' 'Jul-2017'\n",
      " 'Jun-2017' 'May-2017' 'Apr-2017' 'Dec-2013' 'Nov-2013' 'Oct-2013'\n",
      " 'Sep-2013' 'Aug-2013' 'Jul-2013' 'Jun-2013' 'May-2013' 'Apr-2013'\n",
      " 'Mar-2013' 'Feb-2013' 'Jan-2013' 'Dec-2012' 'Nov-2012' 'Oct-2012'\n",
      " 'Sep-2012' 'Aug-2012' 'Dec-2014' 'Nov-2014' 'Oct-2014' 'Sep-2014'\n",
      " 'Aug-2014' 'Jul-2014' 'Jun-2014' 'May-2014' 'Apr-2014' 'Mar-2014'\n",
      " 'Feb-2014' 'Jan-2014' 'Dec-2017' 'Nov-2017' 'Oct-2017']\n",
      "emp_title ['Supervisor ' 'Assistant to the Treasurer (Payroll)' 'Teacher' ...\n",
      " 'Office Manager / Exec. Assistant' 'Onsite Operations Manager'\n",
      " 'Sr. Principal IT Archtiect']\n",
      "term [' 36 months' ' 60 months']\n",
      "zip_code ['917xx' '456xx' '982xx' '786xx' '020xx' '981xx' '194xx' '760xx' '481xx'\n",
      " '435xx' '836xx' '920xx' '775xx' '850xx' '145xx' '712xx' '028xx' '605xx'\n",
      " '370xx' '600xx' '750xx' '551xx' '958xx' '871xx' '232xx' '272xx' '751xx'\n",
      " '320xx' '801xx' '791xx' '427xx' '740xx' '066xx' '141xx' '781xx' '480xx'\n",
      " '805xx' '952xx' '945xx' '328xx' '330xx' '038xx' '021xx' '168xx' '460xx'\n",
      " '756xx' '993xx' '349xx' '347xx' '988xx' '100xx' '230xx' '900xx' '373xx'\n",
      " '940xx' '487xx' '706xx' '107xx' '327xx' '033xx' '464xx' '234xx' '906xx'\n",
      " '951xx' '338xx' '073xx' '303xx' '984xx' '290xx' '482xx' '238xx' '604xx'\n",
      " '060xx' '852xx' '973xx' '191xx' '606xx' '452xx' '686xx' '913xx' '660xx'\n",
      " '430xx' '492xx' '802xx' '923xx' '930xx' '122xx' '611xx' '117xx' '352xx'\n",
      " '280xx' '010xx' '731xx' '957xx' '967xx' '997xx' '083xx' '368xx' '310xx'\n",
      " '891xx' '631xx' '752xx' '114xx' '080xx' '727xx' '863xx' '939xx' '560xx'\n",
      " '087xx' '402xx' '925xx' '919xx' '070xx' '730xx' '074xx' '054xx' '701xx'\n",
      " '567xx' '337xx' '928xx' '908xx' '601xx' '231xx' '121xx' '212xx' '125xx'\n",
      " '325xx' '980xx' '017xx' '064xx' '335xx' '018xx' '297xx' '992xx' '065xx'\n",
      " '354xx' '773xx' '640xx' '797xx' '483xx' '902xx' '391xx' '985xx' '936xx'\n",
      " '926xx' '118xx' '975xx' '380xx' '326xx' '284xx' '544xx' '113xx' '853xx'\n",
      " '559xx' '270xx' '322xx' '187xx' '953xx' '166xx' '657xx' '182xx' '431xx'\n",
      " '467xx' '333xx' '300xx' '329xx' '240xx' '846xx' '334xx' '207xx' '190xx'\n",
      " '471xx' '770xx' '341xx' '079xx' '441xx' '662xx' '432xx' '130xx' '622xx'\n",
      " '104xx' '553xx' '898xx' '233xx' '120xx' '112xx' '450xx' '151xx' '385xx'\n",
      " '530xx' '225xx' '658xx' '315xx' '890xx' '294xx' '088xx' '493xx' '785xx'\n",
      " '763xx' '473xx' '972xx' '816xx' '950xx' '531xx' '472xx' '339xx' '995xx'\n",
      " '086xx' '838xx' '356xx' '184xx' '282xx' '302xx' '721xx' '463xx' '082xx'\n",
      " '613xx' '937xx' '067xx' '907xx' '479xx' '394xx' '983xx' '301xx' '162xx'\n",
      " '539xx' '275xx' '319xx' '780xx' '346xx' '461xx' '200xx' '085xx' '371xx'\n",
      " '491xx' '626xx' '630xx' '173xx' '170xx' '490xx' '253xx' '276xx' '800xx'\n",
      " '933xx' '331xx' '851xx' '590xx' '841xx' '541xx' '412xx' '220xx' '336xx'\n",
      " '434xx' '563xx' '996xx' '136xx' '746xx' '475xx' '296xx' '779xx' '227xx'\n",
      " '255xx' '754xx' '217xx' '921xx' '321xx' '489xx' '546xx' '700xx' '351xx'\n",
      " '870xx' '146xx' '201xx' '989xx' '222xx' '941xx' '782xx' '034xx' '071xx'\n",
      " '062xx' '537xx' '774xx' '856xx' '935xx' '075xx' '705xx' '808xx' '027xx'\n",
      " '030xx' '443xx' '152xx' '278xx' '633xx' '317xx' '499xx' '208xx' '804xx'\n",
      " '803xx' '210xx' '554xx' '974xx' '761xx' '197xx' '211xx' '193xx' '221xx'\n",
      " '451xx' '961xx' '956xx' '180xx' '594xx' '787xx' '295xx' '400xx' '442xx'\n",
      " '927xx' '707xx' '077xx' '023xx' '293xx' '176xx' '174xx' '757xx' '498xx'\n",
      " '666xx' '179xx' '549xx' '806xx' '410xx' '195xx' '968xx' '061xx' '799xx'\n",
      " '581xx' '124xx' '762xx' '714xx' '924xx' '448xx' '584xx' '840xx' '224xx'\n",
      " '031xx' '645xx' '922xx' '134xx' '159xx' '186xx' '144xx' '875xx' '946xx'\n",
      " '912xx' '970xx' '708xx' '855xx' '685xx' '558xx' '680xx' '245xx' '420xx'\n",
      " '540xx' '116xx' '306xx' '026xx' '571xx' '271xx' '462xx' '833xx' '142xx'\n",
      " '395xx' '076xx' '591xx' '810xx' '494xx' '015xx' '140xx' '561xx' '895xx'\n",
      " '880xx' '268xx' '844xx' '046xx' '743xx' '287xx' '954xx' '934xx' '468xx'\n",
      " '175xx' '894xx' '809xx' '986xx' '612xx' '877xx' '019xx' '236xx' '864xx'\n",
      " '454xx' '794xx' '042xx' '405xx' '068xx' '105xx' '628xx' '959xx' '016xx'\n",
      " '677xx' '652xx' '283xx' '837xx' '206xx' '977xx' '183xx' '376xx' '198xx'\n",
      " '154xx' '147xx' '847xx' '138xx' '178xx' '444xx' '624xx' '035xx' '357xx'\n",
      " '496xx' '014xx' '040xx' '160xx' '106xx' '199xx' '620xx' '372xx' '313xx'\n",
      " '641xx' '286xx' '914xx' '672xx' '254xx' '103xx' '149xx' '960xx' '324xx'\n",
      " '535xx' '342xx' '653xx' '827xx' '814xx' '565xx' '258xx' '381xx' '078xx'\n",
      " '013xx' '281xx' '291xx' '465xx' '991xx' '793xx' '916xx' '115xx' '979xx'\n",
      " '784xx' '637xx' '123xx' '795xx' '279xx' '308xx' '029xx' '615xx' '759xx'\n",
      " '724xx' '223xx' '229xx' '052xx' '720xx' '585xx' '729xx' '383xx' '318xx'\n",
      " '241xx' '486xx' '599xx' '133xx' '860xx' '758xx' '903xx' '143xx' '932xx'\n",
      " '789xx' '109xx' '765xx' '273xx' '421xx' '574xx' '148xx' '128xx' '292xx'\n",
      " '235xx' '548xx' '910xx' '181xx' '048xx' '532xx' '704xx' '150xx' '488xx'\n",
      " '344xx' '012xx' '741xx' '815xx' '586xx' '609xx' '722xx' '403xx' '651xx'\n",
      " '209xx' '171xx' '882xx' '728xx' '857xx' '716xx' '247xx' '365xx' '274xx'\n",
      " '453xx' '971xx' '155xx' '156xx' '550xx' '675xx' '625xx' '239xx' '711xx'\n",
      " '557xx' '495xx' '665xx' '289xx' '664xx' '277xx' '379xx' '049xx' '769xx'\n",
      " '564xx' '767xx' '081xx' '948xx' '362xx' '534xx' '834xx' '447xx' '189xx'\n",
      " '497xx' '132xx' '025xx' '610xx' '485xx' '667xx' '360xx' '776xx' '110xx'\n",
      " '215xx' '734xx' '439xx' '440xx' '778xx' '748xx' '358xx' '393xx' '603xx'\n",
      " '911xx' '397xx' '299xx' '990xx' '618xx' '747xx' '474xx' '683xx' '111xx'\n",
      " '063xx' '636xx' '949xx' '466xx' '185xx' '196xx' '305xx' '824xx' '484xx'\n",
      " '249xx' '226xx' '172xx' '129xx' '119xx' '904xx' '820xx' '790xx' '650xx'\n",
      " '401xx' '163xx' '538xx' '158xx' '575xx' '656xx' '398xx' '655xx' '668xx'\n",
      " '623xx' '307xx' '446xx' '807xx' '688xx' '469xx' '629xx' '458xx' '374xx'\n",
      " '897xx' '265xx' '764xx' '766xx' '681xx' '378xx' '639xx' '218xx' '169xx'\n",
      " '363xx' '547xx' '423xx' '135xx' '678xx' '556xx' '032xx' '359xx' '905xx'\n",
      " '323xx' '737xx' '735xx' '161xx' '723xx' '404xx' '039xx' '024xx' '366xx'\n",
      " '436xx' '607xx' '298xx' '703xx' '177xx' '056xx' '414xx' '718xx' '826xx'\n",
      " '879xx' '679xx' '392xx' '069xx' '011xx' '617xx' '312xx' '978xx' '671xx'\n",
      " '470xx' '588xx' '644xx' '157xx' '843xx' '646xx' '634xx' '597xx' '377xx'\n",
      " '261xx' '050xx' '433xx' '976xx' '562xx' '361xx' '874xx' '796xx' '413xx'\n",
      " '139xx' '364xx' '676xx' '350xx' '476xx' '219xx' '285xx' '943xx' '108xx'\n",
      " '745xx' '580xx' '772xx' '367xx' '931xx' '783xx' '832xx' '478xx' '713xx'\n",
      " '684xx' '570xx' '692xx' '244xx' '137xx' '648xx' '457xx' '596xx' '396xx'\n",
      " '216xx' '388xx' '314xx' '072xx' '309xx' '386xx' '755xx' '449xx' '545xx'\n",
      " '813xx' '126xx' '598xx' '041xx' '811xx' '251xx' '788xx' '608xx' '693xx'\n",
      " '389xx' '674xx' '382xx' '153xx' '577xx' '101xx' '228xx' '812xx' '593xx'\n",
      " '944xx' '661xx' '587xx' '051xx' '915xx' '426xx' '242xx' '918xx' '627xx'\n",
      " '717xx' '738xx' '411xx' '127xx' '828xx' '829xx' '687xx' '131xx' '252xx'\n",
      " '057xx' '250xx' '045xx' '437xx' '614xx' '690xx' '883xx' '602xx' '859xx'\n",
      " '455xx' '263xx' '736xx' '881xx' '316xx' '654xx' '583xx' '044xx' '845xx'\n",
      " '422xx' '670xx' '037xx' '822xx' '884xx' '616xx' '243xx' '053xx' '725xx'\n",
      " '638xx' '424xx' '260xx' '825xx' '043xx' '407xx' '647xx' '264xx' '477xx'\n",
      " '390xx' '058xx' '304xx' '619xx' '999xx' '749xx' '542xx' '691xx' '673xx'\n",
      " '387xx' '257xx' '262xx' '592xx' '726xx' '167xx' '689xx' '572xx' '089xx'\n",
      " '635xx' '288xx' '582xx' '237xx' '744xx' '188xx' '543xx' '102xx' '092xx'\n",
      " '777xx' '094xx' '998xx' '425xx' '739xx' '406xx' '266xx' '384xx' '165xx'\n",
      " '719xx' '710xx' '947xx' '893xx' '214xx' '831xx' '963xx' '259xx' '955xx'\n",
      " '821xx' '445xx' '798xx' '164xx' '022xx' '267xx' '256xx' '873xx' '438xx'\n",
      " '246xx' '084xx' '355xx' '823xx' '595xx' '994xx' '573xx' '768xx' '830xx'\n",
      " '792xx' '348xx' '090xx' '047xx' '669xx' '415xx' '566xx' '865xx' '409xx'\n",
      " '742xx' '036xx' '408xx' '621xx' '096xx' '878xx' '345xx' '343xx' '552xx'\n",
      " '097xx' '569xx' '203xx' '417xx' '416xx' '753xx' '835xx' '091xx' '698xx'\n",
      " '962xx' '418xx' '576xx' '311xx' '500xx' '502xx' '369xx' '248xx' '555xx'\n",
      " '059xx' '861xx' '008xx' '098xx' '332xx' '702xx' '007xx' '510xx' '942xx'\n",
      " '528xx' '966xx' '901xx' '965xx' '009xx' '872xx' '987xx' '506xx' '854xx'\n",
      " '204xx' '525xx' '819xx' '509xx' '522xx' '269xx' '892xx' '929xx' '504xx'\n",
      " '709xx' '969xx' '849xx' '694xx' '501xx' '520xx' '817xx' '771xx' '527xx'\n",
      " '568xx' '862xx' '507xx' '964xx' '340xx' '643xx' '663xx' '513xx' '429xx'\n",
      " '523xx' '938xx' '888xx' '353xx' '524xx' '889xx' '909xx' '516xx' '511xx'\n",
      " '896xx' '205xx']\n",
      "home_ownership ['MORTGAGE' 'RENT' 'OWN' 'ANY' 'NONE' 'OTHER']\n",
      "grade ['D' 'C' 'A' 'B' 'E' 'G' 'F']\n",
      "addr_state ['CA' 'OH' 'WA' 'TX' 'MA' 'PA' 'MI' 'ID' 'AZ' 'NY' 'LA' 'RI' 'IL' 'TN'\n",
      " 'MN' 'NM' 'VA' 'NC' 'FL' 'CO' 'KY' 'OK' 'CT' 'NH' 'IN' 'NJ' 'GA' 'SC'\n",
      " 'OR' 'NE' 'KS' 'AL' 'HI' 'AK' 'NV' 'MO' 'AR' 'VT' 'MD' 'MS' 'WI' 'UT'\n",
      " 'DC' 'WV' 'ND' 'DE' 'MT' 'SD' 'ME' 'WY' 'IA']\n",
      "last_credit_pull_d ['Jan-2019' 'Feb-2019' 'Dec-2018' 'Nov-2018' 'Oct-2018' 'Sep-2018'\n",
      " 'Aug-2018' 'Jul-2018' 'Jun-2018' 'May-2018' 'Apr-2018' 'Mar-2018'\n",
      " 'Feb-2018' 'Jan-2018' 'Dec-2017' 'Nov-2017' 'Aug-2017' 'Jul-2017'\n",
      " 'Jun-2017' 'Mar-2017' 'Sep-2016' 'May-2017' 'Jan-2017' 'Feb-2017'\n",
      " 'Oct-2017' 'Oct-2016' 'Sep-2017' 'Apr-2017' 'Dec-2016' 'Nov-2016'\n",
      " 'Aug-2016' 'Jul-2016' 'Jun-2016' 'May-2016' 'Apr-2016' 'Mar-2016'\n",
      " 'Mar-2019' 'Feb-2016' 'Jan-2016' 'Dec-2015' 'Nov-2015' 'Oct-2015'\n",
      " 'Sep-2015' 'Aug-2015' 'Jul-2015' 'Jun-2015' 'May-2015' 'Apr-2015'\n",
      " 'Mar-2015' 'Feb-2015' 'Jan-2015' 'Dec-2014' 'Aug-2014' 'Mar-2014'\n",
      " 'Sep-2014' 'May-2014' 'Jan-2014' 'Jul-2014' 'Feb-2014' 'Nov-2014'\n",
      " 'Jun-2014' 'Apr-2014' 'Oct-2014' 'Nov-2013' 'Dec-2013' 'Oct-2013'\n",
      " 'Sep-2013' 'Aug-2013' 'Jun-2013' 'Jul-2013' 'May-2013' 'Apr-2013'\n",
      " 'Mar-2013' 'Jan-2013' 'Dec-2012' 'Feb-2013' 'Nov-2012' 'Oct-2012'\n",
      " 'Sep-2012' 'Aug-2012']\n",
      "sub_grade ['D5' 'C4' 'A3' 'B3' 'E5' 'D1' 'C1' 'A4' 'E1' 'B5' 'E4' 'B1' 'B4' 'B2'\n",
      " 'D2' 'A5' 'C2' 'C5' 'A2' 'D3' 'C3' 'D4' 'A1' 'E3' 'E2' 'G2' 'F1' 'F2'\n",
      " 'F4' 'F3' 'G1' 'F5' 'G3' 'G4' 'G5']\n"
     ]
    }
   ],
   "source": [
    "for i in cat_cols:\n",
    "    print(i, final[i].unique())"
   ]
  },
  {
   "cell_type": "code",
   "execution_count": 53,
   "metadata": {},
   "outputs": [
    {
     "data": {
      "text/plain": [
       "debt_consolidation    565023\n",
       "credit_card           208787\n",
       "home_improvement       63071\n",
       "other                  52116\n",
       "major_purchase         19687\n",
       "medical                10523\n",
       "small_business          9428\n",
       "car                     9127\n",
       "moving                  6373\n",
       "vacation                6207\n",
       "house                   5094\n",
       "wedding                  697\n",
       "renewable_energy         598\n",
       "Name: purpose, dtype: int64"
      ]
     },
     "execution_count": 53,
     "metadata": {},
     "output_type": "execute_result"
    }
   ],
   "source": [
    "final['purpose'].value_counts()"
   ]
  },
  {
   "cell_type": "code",
   "execution_count": 54,
   "metadata": {},
   "outputs": [
    {
     "data": {
      "text/plain": [
       "(956731, 30)"
      ]
     },
     "execution_count": 54,
     "metadata": {},
     "output_type": "execute_result"
    }
   ],
   "source": [
    "# remove un-manageable categorical data points\n",
    "final.drop(columns = ['last_credit_pull_d','issue_d','zip_code','emp_title','addr_state'], inplace = True)\n",
    "final.shape\n"
   ]
  },
  {
   "cell_type": "code",
   "execution_count": 55,
   "metadata": {},
   "outputs": [
    {
     "data": {
      "text/plain": [
       "Index(['term', 'grade', 'sub_grade', 'int_rate', 'verification_status',\n",
       "       'installment', 'home_ownership', 'mort_acc', 'acc_open_past_24mths',\n",
       "       'num_tl_op_past_12m', 'loan_amnt', 'funded_amnt', 'inq_last_6mths',\n",
       "       'funded_amnt_inv', 'purpose', 'percent_bc_gt_75', 'num_actv_rev_tl',\n",
       "       'num_rev_tl_bal_gt_0', 'dti', 'pub_rec', 'mo_sin_rcnt_tl',\n",
       "       'mths_since_recent_inq', 'mo_sin_rcnt_rev_tl_op',\n",
       "       'pub_rec_bankruptcies', 'annual_inc', 'num_actv_bc_tl',\n",
       "       'total_bc_limit', 'mo_sin_old_rev_tl_op', 'mths_since_recent_bc',\n",
       "       'bc_util'],\n",
       "      dtype='object')"
      ]
     },
     "execution_count": 55,
     "metadata": {},
     "output_type": "execute_result"
    }
   ],
   "source": [
    "final.columns"
   ]
  },
  {
   "cell_type": "code",
   "execution_count": 78,
   "metadata": {},
   "outputs": [
    {
     "data": {
      "text/plain": [
       "(74, 2)"
      ]
     },
     "execution_count": 78,
     "metadata": {},
     "output_type": "execute_result"
    }
   ],
   "source": [
    "MIS.shape\n"
   ]
  },
  {
   "cell_type": "code",
   "execution_count": 9,
   "metadata": {},
   "outputs": [],
   "source": [
    "# Select the columns with highest mutual information scores\n",
    "#col_list =['loan_status','anjnual_inc','loan_amnt','term','pub_rec','chargeoff_within_12_mths', 'int_rate', 'installment','grade', 'home_ownership', 'verification_status','purpose','dti','inq_last_6mths','acc_open_past_24mths','mort_acc','num_actv_rev_tl','num_rev_tl_bal_gt_0','num_tl_op_past_12m','percent_bc_gt_75','tot_hi_cred_lim','total_il_high_credit_limit']"
   ]
  },
  {
   "cell_type": "code",
   "execution_count": 80,
   "metadata": {},
   "outputs": [],
   "source": [
    "# include only the columns selected\n",
    "#final = final[num_cols]\n"
   ]
  },
  {
   "cell_type": "markdown",
   "metadata": {},
   "source": [
    "Since assigning positive label to one class was still leading to confusion, I decided to convert the dependent variable to a binary 0 and 1 for the two classes."
   ]
  },
  {
   "cell_type": "code",
   "execution_count": 56,
   "metadata": {},
   "outputs": [
    {
     "data": {
      "text/plain": [
       "array(['Fully Paid', 'Fully Paid', 'Fully Paid', ..., 'Fully Paid',\n",
       "       'Fully Paid', 'Fully Paid'], dtype=object)"
      ]
     },
     "execution_count": 56,
     "metadata": {},
     "output_type": "execute_result"
    }
   ],
   "source": [
    "df_y.values"
   ]
  },
  {
   "cell_type": "code",
   "execution_count": 57,
   "metadata": {},
   "outputs": [],
   "source": [
    "import numpy as np\n",
    "# convert y variable to 0/1 binary\n",
    "df_y = np.where(df_y.values=='Charged Off',1,0)"
   ]
  },
  {
   "cell_type": "code",
   "execution_count": 58,
   "metadata": {},
   "outputs": [
    {
     "data": {
      "text/plain": [
       "(956731, 30)"
      ]
     },
     "execution_count": 58,
     "metadata": {},
     "output_type": "execute_result"
    }
   ],
   "source": [
    "# check final shape of data\n",
    "final.shape\n",
    "\n"
   ]
  },
  {
   "cell_type": "code",
   "execution_count": 59,
   "metadata": {},
   "outputs": [
    {
     "name": "stdout",
     "output_type": "stream",
     "text": [
      "(956731,)\n",
      "(956731, 74)\n"
     ]
    }
   ],
   "source": [
    "print(df_y.shape)\n",
    "print(df_x.shape)\n"
   ]
  },
  {
   "cell_type": "code",
   "execution_count": 60,
   "metadata": {},
   "outputs": [],
   "source": [
    "# re-do after changes\n",
    "from sklearn.model_selection import train_test_split\n",
    "\n",
    "\n",
    "df_x = final\n",
    "\n",
    "X = df_x\n",
    "y = df_y"
   ]
  },
  {
   "cell_type": "code",
   "execution_count": 61,
   "metadata": {},
   "outputs": [],
   "source": [
    "# do the train-test split\n",
    "X_train, X_test, y_train, y_test = train_test_split(X, y, test_size=0.4, stratify = y)"
   ]
  },
  {
   "cell_type": "code",
   "execution_count": 62,
   "metadata": {},
   "outputs": [],
   "source": [
    "# One-hot encode categorical variables\n",
    "X_train = pd.get_dummies(X_train)\n",
    "X_test = pd.get_dummies(X_test)\n"
   ]
  },
  {
   "cell_type": "code",
   "execution_count": 63,
   "metadata": {},
   "outputs": [
    {
     "data": {
      "text/html": [
       "<div>\n",
       "<style scoped>\n",
       "    .dataframe tbody tr th:only-of-type {\n",
       "        vertical-align: middle;\n",
       "    }\n",
       "\n",
       "    .dataframe tbody tr th {\n",
       "        vertical-align: top;\n",
       "    }\n",
       "\n",
       "    .dataframe thead th {\n",
       "        text-align: right;\n",
       "    }\n",
       "</style>\n",
       "<table border=\"1\" class=\"dataframe\">\n",
       "  <thead>\n",
       "    <tr style=\"text-align: right;\">\n",
       "      <th></th>\n",
       "      <th>int_rate</th>\n",
       "      <th>installment</th>\n",
       "      <th>mort_acc</th>\n",
       "      <th>acc_open_past_24mths</th>\n",
       "      <th>num_tl_op_past_12m</th>\n",
       "      <th>loan_amnt</th>\n",
       "      <th>funded_amnt</th>\n",
       "      <th>inq_last_6mths</th>\n",
       "      <th>funded_amnt_inv</th>\n",
       "      <th>percent_bc_gt_75</th>\n",
       "      <th>num_actv_rev_tl</th>\n",
       "      <th>num_rev_tl_bal_gt_0</th>\n",
       "      <th>dti</th>\n",
       "      <th>pub_rec</th>\n",
       "      <th>mo_sin_rcnt_tl</th>\n",
       "      <th>mths_since_recent_inq</th>\n",
       "      <th>mo_sin_rcnt_rev_tl_op</th>\n",
       "      <th>pub_rec_bankruptcies</th>\n",
       "      <th>annual_inc</th>\n",
       "      <th>num_actv_bc_tl</th>\n",
       "      <th>total_bc_limit</th>\n",
       "      <th>mo_sin_old_rev_tl_op</th>\n",
       "      <th>mths_since_recent_bc</th>\n",
       "      <th>bc_util</th>\n",
       "      <th>term_ 36 months</th>\n",
       "      <th>term_ 60 months</th>\n",
       "      <th>grade_A</th>\n",
       "      <th>grade_B</th>\n",
       "      <th>grade_C</th>\n",
       "      <th>grade_D</th>\n",
       "      <th>grade_E</th>\n",
       "      <th>grade_F</th>\n",
       "      <th>grade_G</th>\n",
       "      <th>sub_grade_A1</th>\n",
       "      <th>sub_grade_A2</th>\n",
       "      <th>sub_grade_A3</th>\n",
       "      <th>sub_grade_A4</th>\n",
       "      <th>sub_grade_A5</th>\n",
       "      <th>sub_grade_B1</th>\n",
       "      <th>sub_grade_B2</th>\n",
       "      <th>sub_grade_B3</th>\n",
       "      <th>sub_grade_B4</th>\n",
       "      <th>sub_grade_B5</th>\n",
       "      <th>sub_grade_C1</th>\n",
       "      <th>sub_grade_C2</th>\n",
       "      <th>sub_grade_C3</th>\n",
       "      <th>sub_grade_C4</th>\n",
       "      <th>sub_grade_C5</th>\n",
       "      <th>sub_grade_D1</th>\n",
       "      <th>sub_grade_D2</th>\n",
       "      <th>sub_grade_D3</th>\n",
       "      <th>sub_grade_D4</th>\n",
       "      <th>sub_grade_D5</th>\n",
       "      <th>sub_grade_E1</th>\n",
       "      <th>sub_grade_E2</th>\n",
       "      <th>sub_grade_E3</th>\n",
       "      <th>sub_grade_E4</th>\n",
       "      <th>sub_grade_E5</th>\n",
       "      <th>sub_grade_F1</th>\n",
       "      <th>sub_grade_F2</th>\n",
       "      <th>sub_grade_F3</th>\n",
       "      <th>sub_grade_F4</th>\n",
       "      <th>sub_grade_F5</th>\n",
       "      <th>sub_grade_G1</th>\n",
       "      <th>sub_grade_G2</th>\n",
       "      <th>sub_grade_G3</th>\n",
       "      <th>sub_grade_G4</th>\n",
       "      <th>sub_grade_G5</th>\n",
       "      <th>verification_status_Not Verified</th>\n",
       "      <th>verification_status_Source Verified</th>\n",
       "      <th>verification_status_Verified</th>\n",
       "      <th>home_ownership_ANY</th>\n",
       "      <th>home_ownership_MORTGAGE</th>\n",
       "      <th>home_ownership_NONE</th>\n",
       "      <th>home_ownership_OTHER</th>\n",
       "      <th>home_ownership_OWN</th>\n",
       "      <th>home_ownership_RENT</th>\n",
       "      <th>purpose_car</th>\n",
       "      <th>purpose_credit_card</th>\n",
       "      <th>purpose_debt_consolidation</th>\n",
       "      <th>purpose_home_improvement</th>\n",
       "      <th>purpose_house</th>\n",
       "      <th>purpose_major_purchase</th>\n",
       "      <th>purpose_medical</th>\n",
       "      <th>purpose_moving</th>\n",
       "      <th>purpose_other</th>\n",
       "      <th>purpose_renewable_energy</th>\n",
       "      <th>purpose_small_business</th>\n",
       "      <th>purpose_vacation</th>\n",
       "      <th>purpose_wedding</th>\n",
       "    </tr>\n",
       "  </thead>\n",
       "  <tbody>\n",
       "    <tr>\n",
       "      <th>812819</th>\n",
       "      <td>13.98</td>\n",
       "      <td>170.84</td>\n",
       "      <td>0</td>\n",
       "      <td>5</td>\n",
       "      <td>2</td>\n",
       "      <td>5000</td>\n",
       "      <td>5000</td>\n",
       "      <td>2</td>\n",
       "      <td>5000.0</td>\n",
       "      <td>50.0</td>\n",
       "      <td>9</td>\n",
       "      <td>9</td>\n",
       "      <td>21.99</td>\n",
       "      <td>0</td>\n",
       "      <td>7</td>\n",
       "      <td>0</td>\n",
       "      <td>9</td>\n",
       "      <td>0</td>\n",
       "      <td>32000.0</td>\n",
       "      <td>4</td>\n",
       "      <td>7800</td>\n",
       "      <td>188</td>\n",
       "      <td>9</td>\n",
       "      <td>65.3</td>\n",
       "      <td>1</td>\n",
       "      <td>0</td>\n",
       "      <td>0</td>\n",
       "      <td>0</td>\n",
       "      <td>1</td>\n",
       "      <td>0</td>\n",
       "      <td>0</td>\n",
       "      <td>0</td>\n",
       "      <td>0</td>\n",
       "      <td>0</td>\n",
       "      <td>0</td>\n",
       "      <td>0</td>\n",
       "      <td>0</td>\n",
       "      <td>0</td>\n",
       "      <td>0</td>\n",
       "      <td>0</td>\n",
       "      <td>0</td>\n",
       "      <td>0</td>\n",
       "      <td>0</td>\n",
       "      <td>0</td>\n",
       "      <td>0</td>\n",
       "      <td>1</td>\n",
       "      <td>0</td>\n",
       "      <td>0</td>\n",
       "      <td>0</td>\n",
       "      <td>0</td>\n",
       "      <td>0</td>\n",
       "      <td>0</td>\n",
       "      <td>0</td>\n",
       "      <td>0</td>\n",
       "      <td>0</td>\n",
       "      <td>0</td>\n",
       "      <td>0</td>\n",
       "      <td>0</td>\n",
       "      <td>0</td>\n",
       "      <td>0</td>\n",
       "      <td>0</td>\n",
       "      <td>0</td>\n",
       "      <td>0</td>\n",
       "      <td>0</td>\n",
       "      <td>0</td>\n",
       "      <td>0</td>\n",
       "      <td>0</td>\n",
       "      <td>0</td>\n",
       "      <td>1</td>\n",
       "      <td>0</td>\n",
       "      <td>0</td>\n",
       "      <td>0</td>\n",
       "      <td>0</td>\n",
       "      <td>0</td>\n",
       "      <td>0</td>\n",
       "      <td>0</td>\n",
       "      <td>1</td>\n",
       "      <td>0</td>\n",
       "      <td>0</td>\n",
       "      <td>1</td>\n",
       "      <td>0</td>\n",
       "      <td>0</td>\n",
       "      <td>0</td>\n",
       "      <td>0</td>\n",
       "      <td>0</td>\n",
       "      <td>0</td>\n",
       "      <td>0</td>\n",
       "      <td>0</td>\n",
       "      <td>0</td>\n",
       "      <td>0</td>\n",
       "    </tr>\n",
       "    <tr>\n",
       "      <th>900687</th>\n",
       "      <td>16.59</td>\n",
       "      <td>708.99</td>\n",
       "      <td>3</td>\n",
       "      <td>3</td>\n",
       "      <td>2</td>\n",
       "      <td>20000</td>\n",
       "      <td>20000</td>\n",
       "      <td>2</td>\n",
       "      <td>20000.0</td>\n",
       "      <td>100.0</td>\n",
       "      <td>5</td>\n",
       "      <td>5</td>\n",
       "      <td>17.67</td>\n",
       "      <td>0</td>\n",
       "      <td>1</td>\n",
       "      <td>1</td>\n",
       "      <td>1</td>\n",
       "      <td>0</td>\n",
       "      <td>90000.0</td>\n",
       "      <td>4</td>\n",
       "      <td>11100</td>\n",
       "      <td>103</td>\n",
       "      <td>28</td>\n",
       "      <td>93.5</td>\n",
       "      <td>1</td>\n",
       "      <td>0</td>\n",
       "      <td>0</td>\n",
       "      <td>0</td>\n",
       "      <td>0</td>\n",
       "      <td>1</td>\n",
       "      <td>0</td>\n",
       "      <td>0</td>\n",
       "      <td>0</td>\n",
       "      <td>0</td>\n",
       "      <td>0</td>\n",
       "      <td>0</td>\n",
       "      <td>0</td>\n",
       "      <td>0</td>\n",
       "      <td>0</td>\n",
       "      <td>0</td>\n",
       "      <td>0</td>\n",
       "      <td>0</td>\n",
       "      <td>0</td>\n",
       "      <td>0</td>\n",
       "      <td>0</td>\n",
       "      <td>0</td>\n",
       "      <td>0</td>\n",
       "      <td>0</td>\n",
       "      <td>1</td>\n",
       "      <td>0</td>\n",
       "      <td>0</td>\n",
       "      <td>0</td>\n",
       "      <td>0</td>\n",
       "      <td>0</td>\n",
       "      <td>0</td>\n",
       "      <td>0</td>\n",
       "      <td>0</td>\n",
       "      <td>0</td>\n",
       "      <td>0</td>\n",
       "      <td>0</td>\n",
       "      <td>0</td>\n",
       "      <td>0</td>\n",
       "      <td>0</td>\n",
       "      <td>0</td>\n",
       "      <td>0</td>\n",
       "      <td>0</td>\n",
       "      <td>0</td>\n",
       "      <td>0</td>\n",
       "      <td>0</td>\n",
       "      <td>1</td>\n",
       "      <td>0</td>\n",
       "      <td>0</td>\n",
       "      <td>1</td>\n",
       "      <td>0</td>\n",
       "      <td>0</td>\n",
       "      <td>0</td>\n",
       "      <td>0</td>\n",
       "      <td>0</td>\n",
       "      <td>0</td>\n",
       "      <td>0</td>\n",
       "      <td>0</td>\n",
       "      <td>0</td>\n",
       "      <td>0</td>\n",
       "      <td>0</td>\n",
       "      <td>0</td>\n",
       "      <td>1</td>\n",
       "      <td>0</td>\n",
       "      <td>0</td>\n",
       "      <td>0</td>\n",
       "      <td>0</td>\n",
       "    </tr>\n",
       "    <tr>\n",
       "      <th>401414</th>\n",
       "      <td>19.19</td>\n",
       "      <td>546.95</td>\n",
       "      <td>0</td>\n",
       "      <td>6</td>\n",
       "      <td>3</td>\n",
       "      <td>21000</td>\n",
       "      <td>21000</td>\n",
       "      <td>2</td>\n",
       "      <td>20925.0</td>\n",
       "      <td>0.0</td>\n",
       "      <td>2</td>\n",
       "      <td>2</td>\n",
       "      <td>36.13</td>\n",
       "      <td>0</td>\n",
       "      <td>1</td>\n",
       "      <td>0</td>\n",
       "      <td>20</td>\n",
       "      <td>0</td>\n",
       "      <td>84000.0</td>\n",
       "      <td>1</td>\n",
       "      <td>2400</td>\n",
       "      <td>84</td>\n",
       "      <td>20</td>\n",
       "      <td>56.2</td>\n",
       "      <td>0</td>\n",
       "      <td>1</td>\n",
       "      <td>0</td>\n",
       "      <td>0</td>\n",
       "      <td>0</td>\n",
       "      <td>0</td>\n",
       "      <td>1</td>\n",
       "      <td>0</td>\n",
       "      <td>0</td>\n",
       "      <td>0</td>\n",
       "      <td>0</td>\n",
       "      <td>0</td>\n",
       "      <td>0</td>\n",
       "      <td>0</td>\n",
       "      <td>0</td>\n",
       "      <td>0</td>\n",
       "      <td>0</td>\n",
       "      <td>0</td>\n",
       "      <td>0</td>\n",
       "      <td>0</td>\n",
       "      <td>0</td>\n",
       "      <td>0</td>\n",
       "      <td>0</td>\n",
       "      <td>0</td>\n",
       "      <td>0</td>\n",
       "      <td>0</td>\n",
       "      <td>0</td>\n",
       "      <td>0</td>\n",
       "      <td>0</td>\n",
       "      <td>0</td>\n",
       "      <td>0</td>\n",
       "      <td>1</td>\n",
       "      <td>0</td>\n",
       "      <td>0</td>\n",
       "      <td>0</td>\n",
       "      <td>0</td>\n",
       "      <td>0</td>\n",
       "      <td>0</td>\n",
       "      <td>0</td>\n",
       "      <td>0</td>\n",
       "      <td>0</td>\n",
       "      <td>0</td>\n",
       "      <td>0</td>\n",
       "      <td>0</td>\n",
       "      <td>0</td>\n",
       "      <td>1</td>\n",
       "      <td>0</td>\n",
       "      <td>0</td>\n",
       "      <td>0</td>\n",
       "      <td>0</td>\n",
       "      <td>0</td>\n",
       "      <td>0</td>\n",
       "      <td>1</td>\n",
       "      <td>0</td>\n",
       "      <td>1</td>\n",
       "      <td>0</td>\n",
       "      <td>0</td>\n",
       "      <td>0</td>\n",
       "      <td>0</td>\n",
       "      <td>0</td>\n",
       "      <td>0</td>\n",
       "      <td>0</td>\n",
       "      <td>0</td>\n",
       "      <td>0</td>\n",
       "      <td>0</td>\n",
       "      <td>0</td>\n",
       "    </tr>\n",
       "    <tr>\n",
       "      <th>311767</th>\n",
       "      <td>13.99</td>\n",
       "      <td>164.03</td>\n",
       "      <td>0</td>\n",
       "      <td>7</td>\n",
       "      <td>4</td>\n",
       "      <td>4800</td>\n",
       "      <td>4800</td>\n",
       "      <td>1</td>\n",
       "      <td>4800.0</td>\n",
       "      <td>0.0</td>\n",
       "      <td>9</td>\n",
       "      <td>9</td>\n",
       "      <td>20.08</td>\n",
       "      <td>2</td>\n",
       "      <td>2</td>\n",
       "      <td>2</td>\n",
       "      <td>2</td>\n",
       "      <td>1</td>\n",
       "      <td>48000.0</td>\n",
       "      <td>5</td>\n",
       "      <td>25000</td>\n",
       "      <td>48</td>\n",
       "      <td>2</td>\n",
       "      <td>38.1</td>\n",
       "      <td>1</td>\n",
       "      <td>0</td>\n",
       "      <td>0</td>\n",
       "      <td>0</td>\n",
       "      <td>1</td>\n",
       "      <td>0</td>\n",
       "      <td>0</td>\n",
       "      <td>0</td>\n",
       "      <td>0</td>\n",
       "      <td>0</td>\n",
       "      <td>0</td>\n",
       "      <td>0</td>\n",
       "      <td>0</td>\n",
       "      <td>0</td>\n",
       "      <td>0</td>\n",
       "      <td>0</td>\n",
       "      <td>0</td>\n",
       "      <td>0</td>\n",
       "      <td>0</td>\n",
       "      <td>0</td>\n",
       "      <td>0</td>\n",
       "      <td>0</td>\n",
       "      <td>1</td>\n",
       "      <td>0</td>\n",
       "      <td>0</td>\n",
       "      <td>0</td>\n",
       "      <td>0</td>\n",
       "      <td>0</td>\n",
       "      <td>0</td>\n",
       "      <td>0</td>\n",
       "      <td>0</td>\n",
       "      <td>0</td>\n",
       "      <td>0</td>\n",
       "      <td>0</td>\n",
       "      <td>0</td>\n",
       "      <td>0</td>\n",
       "      <td>0</td>\n",
       "      <td>0</td>\n",
       "      <td>0</td>\n",
       "      <td>0</td>\n",
       "      <td>0</td>\n",
       "      <td>0</td>\n",
       "      <td>0</td>\n",
       "      <td>0</td>\n",
       "      <td>0</td>\n",
       "      <td>1</td>\n",
       "      <td>0</td>\n",
       "      <td>0</td>\n",
       "      <td>1</td>\n",
       "      <td>0</td>\n",
       "      <td>0</td>\n",
       "      <td>0</td>\n",
       "      <td>0</td>\n",
       "      <td>0</td>\n",
       "      <td>0</td>\n",
       "      <td>0</td>\n",
       "      <td>0</td>\n",
       "      <td>0</td>\n",
       "      <td>0</td>\n",
       "      <td>0</td>\n",
       "      <td>0</td>\n",
       "      <td>1</td>\n",
       "      <td>0</td>\n",
       "      <td>0</td>\n",
       "      <td>0</td>\n",
       "      <td>0</td>\n",
       "    </tr>\n",
       "    <tr>\n",
       "      <th>346576</th>\n",
       "      <td>7.89</td>\n",
       "      <td>469.29</td>\n",
       "      <td>4</td>\n",
       "      <td>4</td>\n",
       "      <td>1</td>\n",
       "      <td>15000</td>\n",
       "      <td>15000</td>\n",
       "      <td>0</td>\n",
       "      <td>15000.0</td>\n",
       "      <td>20.0</td>\n",
       "      <td>4</td>\n",
       "      <td>4</td>\n",
       "      <td>17.63</td>\n",
       "      <td>0</td>\n",
       "      <td>2</td>\n",
       "      <td>8</td>\n",
       "      <td>19</td>\n",
       "      <td>0</td>\n",
       "      <td>85000.0</td>\n",
       "      <td>4</td>\n",
       "      <td>41200</td>\n",
       "      <td>181</td>\n",
       "      <td>19</td>\n",
       "      <td>40.0</td>\n",
       "      <td>1</td>\n",
       "      <td>0</td>\n",
       "      <td>1</td>\n",
       "      <td>0</td>\n",
       "      <td>0</td>\n",
       "      <td>0</td>\n",
       "      <td>0</td>\n",
       "      <td>0</td>\n",
       "      <td>0</td>\n",
       "      <td>0</td>\n",
       "      <td>0</td>\n",
       "      <td>0</td>\n",
       "      <td>0</td>\n",
       "      <td>1</td>\n",
       "      <td>0</td>\n",
       "      <td>0</td>\n",
       "      <td>0</td>\n",
       "      <td>0</td>\n",
       "      <td>0</td>\n",
       "      <td>0</td>\n",
       "      <td>0</td>\n",
       "      <td>0</td>\n",
       "      <td>0</td>\n",
       "      <td>0</td>\n",
       "      <td>0</td>\n",
       "      <td>0</td>\n",
       "      <td>0</td>\n",
       "      <td>0</td>\n",
       "      <td>0</td>\n",
       "      <td>0</td>\n",
       "      <td>0</td>\n",
       "      <td>0</td>\n",
       "      <td>0</td>\n",
       "      <td>0</td>\n",
       "      <td>0</td>\n",
       "      <td>0</td>\n",
       "      <td>0</td>\n",
       "      <td>0</td>\n",
       "      <td>0</td>\n",
       "      <td>0</td>\n",
       "      <td>0</td>\n",
       "      <td>0</td>\n",
       "      <td>0</td>\n",
       "      <td>0</td>\n",
       "      <td>1</td>\n",
       "      <td>0</td>\n",
       "      <td>0</td>\n",
       "      <td>0</td>\n",
       "      <td>1</td>\n",
       "      <td>0</td>\n",
       "      <td>0</td>\n",
       "      <td>0</td>\n",
       "      <td>0</td>\n",
       "      <td>0</td>\n",
       "      <td>0</td>\n",
       "      <td>1</td>\n",
       "      <td>0</td>\n",
       "      <td>0</td>\n",
       "      <td>0</td>\n",
       "      <td>0</td>\n",
       "      <td>0</td>\n",
       "      <td>0</td>\n",
       "      <td>0</td>\n",
       "      <td>0</td>\n",
       "      <td>0</td>\n",
       "      <td>0</td>\n",
       "    </tr>\n",
       "  </tbody>\n",
       "</table>\n",
       "</div>"
      ],
      "text/plain": [
       "        int_rate  installment  mort_acc  acc_open_past_24mths  \\\n",
       "812819     13.98       170.84         0                     5   \n",
       "900687     16.59       708.99         3                     3   \n",
       "401414     19.19       546.95         0                     6   \n",
       "311767     13.99       164.03         0                     7   \n",
       "346576      7.89       469.29         4                     4   \n",
       "\n",
       "        num_tl_op_past_12m  loan_amnt  funded_amnt  inq_last_6mths  \\\n",
       "812819                   2       5000         5000               2   \n",
       "900687                   2      20000        20000               2   \n",
       "401414                   3      21000        21000               2   \n",
       "311767                   4       4800         4800               1   \n",
       "346576                   1      15000        15000               0   \n",
       "\n",
       "        funded_amnt_inv  percent_bc_gt_75  num_actv_rev_tl  \\\n",
       "812819           5000.0              50.0                9   \n",
       "900687          20000.0             100.0                5   \n",
       "401414          20925.0               0.0                2   \n",
       "311767           4800.0               0.0                9   \n",
       "346576          15000.0              20.0                4   \n",
       "\n",
       "        num_rev_tl_bal_gt_0    dti  pub_rec  mo_sin_rcnt_tl  \\\n",
       "812819                    9  21.99        0               7   \n",
       "900687                    5  17.67        0               1   \n",
       "401414                    2  36.13        0               1   \n",
       "311767                    9  20.08        2               2   \n",
       "346576                    4  17.63        0               2   \n",
       "\n",
       "        mths_since_recent_inq  mo_sin_rcnt_rev_tl_op  pub_rec_bankruptcies  \\\n",
       "812819                      0                      9                     0   \n",
       "900687                      1                      1                     0   \n",
       "401414                      0                     20                     0   \n",
       "311767                      2                      2                     1   \n",
       "346576                      8                     19                     0   \n",
       "\n",
       "        annual_inc  num_actv_bc_tl  total_bc_limit  mo_sin_old_rev_tl_op  \\\n",
       "812819     32000.0               4            7800                   188   \n",
       "900687     90000.0               4           11100                   103   \n",
       "401414     84000.0               1            2400                    84   \n",
       "311767     48000.0               5           25000                    48   \n",
       "346576     85000.0               4           41200                   181   \n",
       "\n",
       "        mths_since_recent_bc  bc_util  term_ 36 months  term_ 60 months  \\\n",
       "812819                     9     65.3                1                0   \n",
       "900687                    28     93.5                1                0   \n",
       "401414                    20     56.2                0                1   \n",
       "311767                     2     38.1                1                0   \n",
       "346576                    19     40.0                1                0   \n",
       "\n",
       "        grade_A  grade_B  grade_C  grade_D  grade_E  grade_F  grade_G  \\\n",
       "812819        0        0        1        0        0        0        0   \n",
       "900687        0        0        0        1        0        0        0   \n",
       "401414        0        0        0        0        1        0        0   \n",
       "311767        0        0        1        0        0        0        0   \n",
       "346576        1        0        0        0        0        0        0   \n",
       "\n",
       "        sub_grade_A1  sub_grade_A2  sub_grade_A3  sub_grade_A4  sub_grade_A5  \\\n",
       "812819             0             0             0             0             0   \n",
       "900687             0             0             0             0             0   \n",
       "401414             0             0             0             0             0   \n",
       "311767             0             0             0             0             0   \n",
       "346576             0             0             0             0             1   \n",
       "\n",
       "        sub_grade_B1  sub_grade_B2  sub_grade_B3  sub_grade_B4  sub_grade_B5  \\\n",
       "812819             0             0             0             0             0   \n",
       "900687             0             0             0             0             0   \n",
       "401414             0             0             0             0             0   \n",
       "311767             0             0             0             0             0   \n",
       "346576             0             0             0             0             0   \n",
       "\n",
       "        sub_grade_C1  sub_grade_C2  sub_grade_C3  sub_grade_C4  sub_grade_C5  \\\n",
       "812819             0             0             1             0             0   \n",
       "900687             0             0             0             0             0   \n",
       "401414             0             0             0             0             0   \n",
       "311767             0             0             0             1             0   \n",
       "346576             0             0             0             0             0   \n",
       "\n",
       "        sub_grade_D1  sub_grade_D2  sub_grade_D3  sub_grade_D4  sub_grade_D5  \\\n",
       "812819             0             0             0             0             0   \n",
       "900687             1             0             0             0             0   \n",
       "401414             0             0             0             0             0   \n",
       "311767             0             0             0             0             0   \n",
       "346576             0             0             0             0             0   \n",
       "\n",
       "        sub_grade_E1  sub_grade_E2  sub_grade_E3  sub_grade_E4  sub_grade_E5  \\\n",
       "812819             0             0             0             0             0   \n",
       "900687             0             0             0             0             0   \n",
       "401414             0             0             1             0             0   \n",
       "311767             0             0             0             0             0   \n",
       "346576             0             0             0             0             0   \n",
       "\n",
       "        sub_grade_F1  sub_grade_F2  sub_grade_F3  sub_grade_F4  sub_grade_F5  \\\n",
       "812819             0             0             0             0             0   \n",
       "900687             0             0             0             0             0   \n",
       "401414             0             0             0             0             0   \n",
       "311767             0             0             0             0             0   \n",
       "346576             0             0             0             0             0   \n",
       "\n",
       "        sub_grade_G1  sub_grade_G2  sub_grade_G3  sub_grade_G4  sub_grade_G5  \\\n",
       "812819             0             0             0             0             0   \n",
       "900687             0             0             0             0             0   \n",
       "401414             0             0             0             0             0   \n",
       "311767             0             0             0             0             0   \n",
       "346576             0             0             0             0             0   \n",
       "\n",
       "        verification_status_Not Verified  verification_status_Source Verified  \\\n",
       "812819                                 1                                    0   \n",
       "900687                                 0                                    1   \n",
       "401414                                 0                                    1   \n",
       "311767                                 0                                    1   \n",
       "346576                                 1                                    0   \n",
       "\n",
       "        verification_status_Verified  home_ownership_ANY  \\\n",
       "812819                             0                   0   \n",
       "900687                             0                   0   \n",
       "401414                             0                   0   \n",
       "311767                             0                   0   \n",
       "346576                             0                   0   \n",
       "\n",
       "        home_ownership_MORTGAGE  home_ownership_NONE  home_ownership_OTHER  \\\n",
       "812819                        0                    0                     0   \n",
       "900687                        1                    0                     0   \n",
       "401414                        0                    0                     0   \n",
       "311767                        1                    0                     0   \n",
       "346576                        1                    0                     0   \n",
       "\n",
       "        home_ownership_OWN  home_ownership_RENT  purpose_car  \\\n",
       "812819                   0                    1            0   \n",
       "900687                   0                    0            0   \n",
       "401414                   0                    1            0   \n",
       "311767                   0                    0            0   \n",
       "346576                   0                    0            0   \n",
       "\n",
       "        purpose_credit_card  purpose_debt_consolidation  \\\n",
       "812819                    0                           1   \n",
       "900687                    0                           0   \n",
       "401414                    1                           0   \n",
       "311767                    0                           0   \n",
       "346576                    0                           1   \n",
       "\n",
       "        purpose_home_improvement  purpose_house  purpose_major_purchase  \\\n",
       "812819                         0              0                       0   \n",
       "900687                         0              0                       0   \n",
       "401414                         0              0                       0   \n",
       "311767                         0              0                       0   \n",
       "346576                         0              0                       0   \n",
       "\n",
       "        purpose_medical  purpose_moving  purpose_other  \\\n",
       "812819                0               0              0   \n",
       "900687                0               0              1   \n",
       "401414                0               0              0   \n",
       "311767                0               0              1   \n",
       "346576                0               0              0   \n",
       "\n",
       "        purpose_renewable_energy  purpose_small_business  purpose_vacation  \\\n",
       "812819                         0                       0                 0   \n",
       "900687                         0                       0                 0   \n",
       "401414                         0                       0                 0   \n",
       "311767                         0                       0                 0   \n",
       "346576                         0                       0                 0   \n",
       "\n",
       "        purpose_wedding  \n",
       "812819                0  \n",
       "900687                0  \n",
       "401414                0  \n",
       "311767                0  \n",
       "346576                0  "
      ]
     },
     "execution_count": 63,
     "metadata": {},
     "output_type": "execute_result"
    }
   ],
   "source": [
    "# Take a look at the data\n",
    "X_test.head()\n",
    "\n"
   ]
  },
  {
   "cell_type": "markdown",
   "metadata": {},
   "source": [
    "## Let's now scale data"
   ]
  },
  {
   "cell_type": "code",
   "execution_count": 64,
   "metadata": {},
   "outputs": [
    {
     "name": "stdout",
     "output_type": "stream",
     "text": [
      "(574038, 90)\n",
      "(382693, 90)\n"
     ]
    }
   ],
   "source": [
    "print(X_train.shape)\n",
    "print(X_test.shape)"
   ]
  },
  {
   "cell_type": "code",
   "execution_count": 65,
   "metadata": {},
   "outputs": [
    {
     "name": "stderr",
     "output_type": "stream",
     "text": [
      "/Users/farhanahmed/anaconda3/lib/python3.7/site-packages/sklearn/preprocessing/data.py:645: DataConversionWarning: Data with input dtype uint8, int64, float64 were all converted to float64 by StandardScaler.\n",
      "  return self.partial_fit(X, y)\n",
      "/Users/farhanahmed/anaconda3/lib/python3.7/site-packages/ipykernel_launcher.py:6: DataConversionWarning: Data with input dtype uint8, int64, float64 were all converted to float64 by StandardScaler.\n",
      "  \n",
      "/Users/farhanahmed/anaconda3/lib/python3.7/site-packages/ipykernel_launcher.py:7: DataConversionWarning: Data with input dtype uint8, int64, float64 were all converted to float64 by StandardScaler.\n",
      "  import sys\n"
     ]
    }
   ],
   "source": [
    "from sklearn import preprocessing\n",
    "scaler = preprocessing.StandardScaler()\n",
    "# Instantiate\n",
    "scaler.fit(X_train)\n",
    "# Transform the data\n",
    "X_train_scaled = scaler.transform(X_train)\n",
    "X_test_scaled = scaler.transform(X_test)"
   ]
  },
  {
   "cell_type": "markdown",
   "metadata": {},
   "source": [
    "For evaluation purposes, we will not look at just accuracy because data imbalance means the data is already almost 80% of one class. We will try to achieve the highest possible recall so predicting as many of the charged-off class with the highest f1 score."
   ]
  },
  {
   "cell_type": "markdown",
   "metadata": {},
   "source": [
    "## Logistic Model"
   ]
  },
  {
   "cell_type": "markdown",
   "metadata": {},
   "source": [
    "Let's use cross-validation to optimize our hyperparameter for the Logistic regression C. "
   ]
  },
  {
   "cell_type": "code",
   "execution_count": 66,
   "metadata": {},
   "outputs": [
    {
     "data": {
      "image/png": "[encoded data removed]",
      "text/plain": [
       "<Figure size 432x288 with 1 Axes>"
      ]
     },
     "metadata": {
      "needs_background": "light"
     },
     "output_type": "display_data"
    }
   ],
   "source": [
    "import matplotlib.pyplot as plt\n",
    "import numpy as np\n",
    "from sklearn import linear_model\n",
    "from sklearn.linear_model import LogisticRegression\n",
    "from sklearn.metrics import confusion_matrix\n",
    "from sklearn.metrics import accuracy_score, f1_score, precision_score, recall_score, classification_report, confusion_matrix\n",
    "from sklearn.model_selection import cross_val_score\n",
    "import warnings\n",
    "warnings.filterwarnings('ignore')\n",
    "\n",
    "# Lets plot out different parameters with 5-fold cross validation\n",
    "accuracy_score_train = []\n",
    "accuracy_score_test = []\n",
    "validation_score_list = []\n",
    "sample_range = [.00000001,.0000001,.000001,.00001,.0001,0.001,0.01,0.1,1,10,100]\n",
    "\n",
    "for c in sample_range:\n",
    "    # Instantiate\n",
    "    LR_model = LogisticRegression(C=c, class_weight = 'balanced')\n",
    "    validation_score = np.mean(cross_val_score(LR_model, X_train_scaled, y_train, cv = 5))\n",
    "    validation_score_list.append(validation_score)\n",
    "      \n",
    "\n",
    "%matplotlib inline\n",
    "plt.plot(np.log10(sample_range), validation_score_list,label=\"Validation Score\",marker='o')\n",
    "plt.legend()\n",
    "plt.xlabel('Regularization Parameter: C')\n",
    "plt.ylabel('Cross-Validation Score (Average Scores)')\n",
    "plt.show();\n",
    "\n",
    "    \n",
    "    "
   ]
  },
  {
   "cell_type": "markdown",
   "metadata": {},
   "source": [
    "## Let's try Decision Trees and see if they give better f1 scores"
   ]
  },
  {
   "cell_type": "code",
   "execution_count": null,
   "metadata": {},
   "outputs": [],
   "source": [
    "import numpy as np\n",
    "from sklearn.tree import DecisionTreeClassifier\n",
    "    \n",
    "for i in np.arange(1,50,10):\n",
    "    # Instantiate\n",
    "    my_tree = DecisionTreeClassifier(max_depth = i, class_weight = 'balanced')\n",
    "\n",
    "    # Fit\n",
    "    my_tree.fit(X_train_scaled, y_train)\n",
    "\n",
    "    # predict\n",
    "    pred_train = my_tree.predict(X_train_scaled)\n",
    "    pred_test = my_tree.predict(X_test_scaled)\n",
    "\n",
    "    # Score\n",
    "    Train_score = my_tree.score(X_train_scaled, y_train)\n",
    "    Accuracy = my_tree.score(X_test_scaled, y_test)\n",
    "    recall = recall_score(y_test, pred_test)\n",
    "    precision = precision_score(y_test, pred_test)\n",
    "    f1score = f1_score(y_test, pred_test)\n",
    "    cmat = confusion_matrix(y_test, pred_test)\n",
    "    \n",
    "    \n",
    "    print('C =', i)\n",
    "    print('Accuracy =', Accuracy)\n",
    "    print('Recall =', recall)\n",
    "    print('Precision =', precision)\n",
    "    print('f1 score =', f1score)\n",
    "    print('Confusion matrix:\\n', cmat)\n",
    "    print('\\n')\n",
    "    \n",
    "\n",
    "\n"
   ]
  },
  {
   "cell_type": "markdown",
   "metadata": {},
   "source": [
    "## Let's see if a Random Forest does better"
   ]
  },
  {
   "cell_type": "code",
   "execution_count": null,
   "metadata": {},
   "outputs": [],
   "source": [
    "from sklearn.ensemble import RandomForestClassifier\n",
    "\n",
    "for i in np.arange(1,60,10):\n",
    "    my_random_forest = RandomForestClassifier(n_estimators=i, class_weight = 'balanced')\n",
    "    my_random_forest.fit(X_train_scaled, y_train)\n",
    "\n",
    " # Score\n",
    "    Train_score = my_random_forest.score(X_train_scaled, y_train)\n",
    "    Accuracy = my_random_forest.score(X_test_scaled, y_test)\n",
    "    recall = recall_score(y_test, pred_test)\n",
    "    precision = precision_score(y_test, pred_test)\n",
    "    f1score = f1_score(y_test, pred_test)\n",
    "    cmat = confusion_matrix(y_test, pred_test)\n",
    "    \n",
    "    \n",
    "    print('n_estimators =', i)\n",
    "    print('Accuracy =', Accuracy)\n",
    "    print('Recall =', recall)\n",
    "    print('Precision =', precision)\n",
    "    print('f1 score =', f1score)\n",
    "    print('Confusion matrix:\\n', cmat)\n",
    "    print('\\n')\n",
    "    \n",
    "\n"
   ]
  },
  {
   "cell_type": "markdown",
   "metadata": {},
   "source": [
    "Both random forest and decision trees give lower f1 scores that logistical regressions. I decided to go with a regularization of 0.01 as it gives me the highest f1 scores but also a high accuracy. I used class weights as balanced to account for class imbalance."
   ]
  },
  {
   "cell_type": "code",
   "execution_count": null,
   "metadata": {},
   "outputs": [],
   "source": [
    "# check for value counts of y labels to determine data class imbalance\n",
    "import numpy as np\n",
    "np.unique(y_test, return_counts=True)"
   ]
  },
  {
   "cell_type": "markdown",
   "metadata": {},
   "source": [
    "### Final Model"
   ]
  },
  {
   "cell_type": "code",
   "execution_count": 68,
   "metadata": {
    "scrolled": true
   },
   "outputs": [
    {
     "name": "stdout",
     "output_type": "stream",
     "text": [
      "C = 100\n",
      "Accuracy = 0.6421073811122754\n",
      "Recall = 0.6808092124117447\n",
      "Precision = 0.31727809716918703\n",
      "f1 score = 0.43283959103727293\n",
      "Confusion matrix:\n",
      " [[193467 112460]\n",
      " [ 24503  52263]]\n",
      "\n",
      "\n"
     ]
    }
   ],
   "source": [
    "import numpy as np\n",
    "from sklearn import metrics\n",
    "# Instantiate using balanced class weights to account for class-imbalance\n",
    "LR_model = LogisticRegression(C=0.1, class_weight = 'balanced')\n",
    "\n",
    "# Fit\n",
    "LR_model.fit(X_train_scaled, y_train)\n",
    "    \n",
    "# predict\n",
    "pred_train = LR_model.predict(X_train_scaled)\n",
    "pred_test = LR_model.predict(X_test_scaled)\n",
    "\n",
    "# Score\n",
    "Train_score = LR_model.score(X_train_scaled, y_train)\n",
    "Accuracy = LR_model.score(X_test_scaled, y_test)\n",
    "recall = recall_score(y_test, pred_test)\n",
    "precision = precision_score(y_test, pred_test)\n",
    "f1score = f1_score(y_test, pred_test)\n",
    "cmat = confusion_matrix(y_test, pred_test)\n",
    "\n",
    "print('C =', c)\n",
    "print('Accuracy =', Accuracy)\n",
    "print('Recall =', recall)\n",
    "print('Precision =', precision)\n",
    "print('f1 score =', f1score)\n",
    "print('Confusion matrix:\\n', cmat)\n",
    "print('\\n')\n",
    "\n",
    "\n",
    "    "
   ]
  },
  {
   "cell_type": "code",
   "execution_count": 69,
   "metadata": {},
   "outputs": [],
   "source": [
    "# Calculate Probability for ROC curve\n",
    "pred_test_proba = LR_model.predict_proba(X_test_scaled)[:,1]\n"
   ]
  },
  {
   "cell_type": "code",
   "execution_count": 70,
   "metadata": {},
   "outputs": [
    {
     "data": {
      "text/plain": [
       "(382693,)"
      ]
     },
     "execution_count": 70,
     "metadata": {},
     "output_type": "execute_result"
    }
   ],
   "source": [
    "pred_test_proba.shape"
   ]
  },
  {
   "cell_type": "code",
   "execution_count": 71,
   "metadata": {},
   "outputs": [
    {
     "data": {
      "text/plain": [
       "(382693,)"
      ]
     },
     "execution_count": 71,
     "metadata": {},
     "output_type": "execute_result"
    }
   ],
   "source": [
    "pred_test.shape"
   ]
  },
  {
   "cell_type": "code",
   "execution_count": 72,
   "metadata": {},
   "outputs": [
    {
     "data": {
      "text/plain": [
       "(382693,)"
      ]
     },
     "execution_count": 72,
     "metadata": {},
     "output_type": "execute_result"
    }
   ],
   "source": [
    "y_test.shape"
   ]
  },
  {
   "cell_type": "markdown",
   "metadata": {},
   "source": [
    "### Challenges and improvements\n",
    "\n",
    "- While I tried SMOTE in some previous iterations (not doumented here) I didn't test random forest and decision trees with class_weights given time constraints. I would like to see the difference in results if the model has a similar function.\n",
    "\n",
    "- Add more features into the model to see if the f1 score can be boosted overall across different types of models. \n",
    "\n",
    "  "
   ]
  },
  {
   "cell_type": "code",
   "execution_count": 73,
   "metadata": {},
   "outputs": [
    {
     "data": {
      "image/png": "[encoded data removed]",
      "text/plain": [
       "<Figure size 432x288 with 1 Axes>"
      ]
     },
     "metadata": {
      "needs_background": "light"
     },
     "output_type": "display_data"
    },
    {
     "name": "stdout",
     "output_type": "stream",
     "text": [
      "AUC score: 0.717\n"
     ]
    }
   ],
   "source": [
    "# model evaluation\n",
    "from sklearn.metrics import roc_curve, auc    \n",
    "\n",
    "fpr, tpr, _ = roc_curve(y_test, pred_test_proba)\n",
    "roc_auc = auc(fpr, tpr)\n",
    "\n",
    "plt.figure()\n",
    "lw = 2\n",
    "plt.plot(fpr, tpr, color='darkorange',\n",
    "         lw=lw, label='AUC = %0.2f' % roc_auc)\n",
    "plt.plot([0, 1], [0, 1], color='navy', lw=lw, linestyle='--')\n",
    "plt.xlabel('False Positive Rate')\n",
    "plt.ylabel('True Positive Rate')\n",
    "plt.title('ROC and AUC')\n",
    "plt.legend(loc=\"best\")\n",
    "plt.show()\n",
    "print(\"AUC score: %3.3f\" % roc_auc)"
   ]
  },
  {
   "cell_type": "code",
   "execution_count": null,
   "metadata": {},
   "outputs": [],
   "source": [
    "columns = (list(X_train))"
   ]
  },
  {
   "cell_type": "code",
   "execution_count": null,
   "metadata": {},
   "outputs": [],
   "source": [
    "a = (LR_model.coef_)\n"
   ]
  },
  {
   "cell_type": "code",
   "execution_count": null,
   "metadata": {
    "scrolled": false
   },
   "outputs": [],
   "source": [
    "# print out column names as columns and coefficients as values\n",
    "col3= df = pd.DataFrame(a,columns=columns)\n",
    "col3.head()"
   ]
  },
  {
   "cell_type": "code",
   "execution_count": null,
   "metadata": {},
   "outputs": [],
   "source": [
    "#export to csv\n",
    "col3.to_csv('C:/Users/Farhan/Documents/Capstone/coefficients.csv')"
   ]
  }
 ],
 "metadata": {
  "kernelspec": {
   "display_name": "Python 3",
   "language": "python",
   "name": "python3"
  },
  "language_info": {
   "codemirror_mode": {
    "name": "ipython",
    "version": 3
   },
   "file_extension": ".py",
   "mimetype": "text/x-python",
   "name": "python",
   "nbconvert_exporter": "python",
   "pygments_lexer": "ipython3",
   "version": "3.7.3"
  }
 },
 "nbformat": 4,
 "nbformat_minor": 2
}
