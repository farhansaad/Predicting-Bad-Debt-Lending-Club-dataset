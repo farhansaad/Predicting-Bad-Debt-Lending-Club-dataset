{
 "cells": [
  {
   "cell_type": "markdown",
   "metadata": {},
   "source": [
    "## Initial Cleaning Steps"
   ]
  },
  {
   "cell_type": "markdown",
   "metadata": {},
   "source": [
    "I read this data in as string because it was difficult to do so otherwise"
   ]
  },
  {
   "cell_type": "code",
   "execution_count": 40,
   "metadata": {},
   "outputs": [],
   "source": [
    "# import data csv\n",
    "import pandas as pd\n",
    "df = pd.read_csv(\"loan.csv\", delimiter = \",\",index_col=False, dtype = \"str\")"
   ]
  },
  {
   "cell_type": "code",
   "execution_count": 58,
   "metadata": {},
   "outputs": [],
   "source": [
    "import warnings\n",
    "warnings.filterwarnings(\"ignore\")"
   ]
  },
  {
   "cell_type": "code",
   "execution_count": 41,
   "metadata": {},
   "outputs": [
    {
     "data": {
      "text/plain": [
       "(2260668, 145)"
      ]
     },
     "execution_count": 41,
     "metadata": {},
     "output_type": "execute_result"
    }
   ],
   "source": [
    "#check shape to ensure data transferred as expected\n",
    "df.shape"
   ]
  },
  {
   "cell_type": "code",
   "execution_count": 42,
   "metadata": {},
   "outputs": [],
   "source": [
    "# remove any columns that have a huge no-value count \n",
    "df.dropna(thresh = 1500000, axis = 1, inplace = True)"
   ]
  },
  {
   "cell_type": "code",
   "execution_count": 43,
   "metadata": {},
   "outputs": [
    {
     "data": {
      "text/plain": [
       "(2260668, 87)"
      ]
     },
     "execution_count": 43,
     "metadata": {},
     "output_type": "execute_result"
    }
   ],
   "source": [
    "df.shape"
   ]
  },
  {
   "cell_type": "code",
   "execution_count": 14,
   "metadata": {},
   "outputs": [
    {
     "name": "stdout",
     "output_type": "stream",
     "text": [
      "Fully Paid                                             1041952\n",
      "Current                                                 919695\n",
      "Charged Off                                             261655\n",
      "Late (31-120 days)                                       21897\n",
      "In Grace Period                                           8952\n",
      "Late (16-30 days)                                         3737\n",
      "Does not meet the credit policy. Status:Fully Paid        1988\n",
      "Does not meet the credit policy. Status:Charged Off        761\n",
      "Default                                                     31\n",
      "Name: loan_status, dtype: int64\n"
     ]
    }
   ],
   "source": [
    "# check dependent variable counts\n",
    "print(df[\"loan_status\"].value_counts())"
   ]
  },
  {
   "cell_type": "code",
   "execution_count": 44,
   "metadata": {},
   "outputs": [],
   "source": [
    "# remove unwanted categories from dependent variable\n",
    "df = df[df.loan_status != \"Current\"]\n",
    "df = df[df.loan_status != \"Late (31-120 days)\"]\n",
    "df = df[df.loan_status != \"Late (16-30 days)\"]\n",
    "df = df[df.loan_status != \"In Grace Period\"]\n",
    "df = df[df.loan_status != \"Default\"]\n",
    "df = df[df.loan_status != \"Does not meet the credit policy. Status:Fully Paid\"]\n",
    "df = df[df.loan_status != \"Does not meet the credit policy. Status:Charged Off\"]\n"
   ]
  },
  {
   "cell_type": "code",
   "execution_count": 45,
   "metadata": {},
   "outputs": [
    {
     "data": {
      "text/plain": [
       "(1303607, 87)"
      ]
     },
     "execution_count": 45,
     "metadata": {},
     "output_type": "execute_result"
    }
   ],
   "source": [
    "df.shape"
   ]
  },
  {
   "cell_type": "code",
   "execution_count": 46,
   "metadata": {},
   "outputs": [
    {
     "data": {
      "text/plain": [
       "loan_amnt                          0\n",
       "funded_amnt                        0\n",
       "funded_amnt_inv                    0\n",
       "term                               0\n",
       "int_rate                           0\n",
       "installment                        0\n",
       "grade                              0\n",
       "sub_grade                          0\n",
       "emp_title                      82579\n",
       "emp_length                     75454\n",
       "home_ownership                     0\n",
       "annual_inc                         0\n",
       "verification_status                0\n",
       "issue_d                            0\n",
       "loan_status                        0\n",
       "pymnt_plan                         0\n",
       "purpose                            0\n",
       "title                          15426\n",
       "zip_code                           1\n",
       "addr_state                         0\n",
       "dti                              312\n",
       "delinq_2yrs                        0\n",
       "earliest_cr_line                   0\n",
       "inq_last_6mths                     1\n",
       "open_acc                           0\n",
       "pub_rec                            0\n",
       "revol_bal                          0\n",
       "revol_util                       810\n",
       "total_acc                          0\n",
       "initial_list_status                0\n",
       "                               ...  \n",
       "mo_sin_rcnt_rev_tl_op          67528\n",
       "mo_sin_rcnt_tl                 67527\n",
       "mort_acc                       47281\n",
       "mths_since_recent_bc           59741\n",
       "mths_since_recent_inq         169549\n",
       "num_accts_ever_120_pd          67527\n",
       "num_actv_bc_tl                 67527\n",
       "num_actv_rev_tl                67527\n",
       "num_bc_sats                    55841\n",
       "num_bc_tl                      67527\n",
       "num_il_tl                      67527\n",
       "num_op_rev_tl                  67527\n",
       "num_rev_accts                  67528\n",
       "num_rev_tl_bal_gt_0            67527\n",
       "num_sats                       55841\n",
       "num_tl_120dpd_2m              115570\n",
       "num_tl_30dpd                   67527\n",
       "num_tl_90g_dpd_24m             67527\n",
       "num_tl_op_past_12m             67527\n",
       "pct_tl_nvr_dlq                 67681\n",
       "percent_bc_gt_75               61047\n",
       "pub_rec_bankruptcies             697\n",
       "tax_liens                         39\n",
       "tot_hi_cred_lim                67527\n",
       "total_bal_ex_mort              47281\n",
       "total_bc_limit                 47281\n",
       "total_il_high_credit_limit     67527\n",
       "hardship_flag                      0\n",
       "disbursement_method                0\n",
       "debt_settlement_flag               0\n",
       "Length: 87, dtype: int64"
      ]
     },
     "execution_count": 46,
     "metadata": {},
     "output_type": "execute_result"
    }
   ],
   "source": [
    "df.isna().sum()"
   ]
  },
  {
   "cell_type": "code",
   "execution_count": 36,
   "metadata": {},
   "outputs": [],
   "source": [
    "# remove any columns that have a huge no-value count \n",
    "df.dropna(thresh = 15, axis = 1, inplace = True)"
   ]
  },
  {
   "cell_type": "code",
   "execution_count": 47,
   "metadata": {},
   "outputs": [
    {
     "data": {
      "text/plain": [
       "2529023"
      ]
     },
     "execution_count": 47,
     "metadata": {},
     "output_type": "execute_result"
    }
   ],
   "source": [
    "df.isna().sum().sum()"
   ]
  },
  {
   "cell_type": "code",
   "execution_count": 48,
   "metadata": {},
   "outputs": [],
   "source": [
    "# now remove all rows with any no-value cells in them\n",
    "df = df.dropna(axis = 0, how = 'any')"
   ]
  },
  {
   "cell_type": "code",
   "execution_count": 49,
   "metadata": {},
   "outputs": [
    {
     "data": {
      "text/plain": [
       "(955257, 87)"
      ]
     },
     "execution_count": 49,
     "metadata": {},
     "output_type": "execute_result"
    }
   ],
   "source": [
    "df.shape"
   ]
  },
  {
   "cell_type": "code",
   "execution_count": 50,
   "metadata": {},
   "outputs": [],
   "source": [
    "#export to csv\n",
    "df.to_csv('Data_no_NAN.csv')"
   ]
  },
  {
   "cell_type": "markdown",
   "metadata": {},
   "source": [
    "Exported this to CSV as loading the full data again and again was becoming cumbersome. After this, I only work with the new CSV."
   ]
  },
  {
   "cell_type": "markdown",
   "metadata": {},
   "source": [
    "## Secondary Steps"
   ]
  },
  {
   "cell_type": "code",
   "execution_count": 51,
   "metadata": {},
   "outputs": [],
   "source": [
    "# Read in the cleaned csv\n",
    "import pandas as pd\n",
    "final = pd.read_csv('Data_no_NAN.csv')"
   ]
  },
  {
   "cell_type": "code",
   "execution_count": 52,
   "metadata": {},
   "outputs": [
    {
     "data": {
      "text/plain": [
       "(955257, 88)"
      ]
     },
     "execution_count": 52,
     "metadata": {},
     "output_type": "execute_result"
    }
   ],
   "source": [
    "# check shape\n",
    "final.shape"
   ]
  },
  {
   "cell_type": "markdown",
   "metadata": {},
   "source": [
    "I removed certain columns from the analysis because this was information a lender would not have while giving a loan and so it was giving the model very high predictive powers."
   ]
  },
  {
   "cell_type": "code",
   "execution_count": 53,
   "metadata": {},
   "outputs": [],
   "source": [
    "# Remove columns that represent information not necessary or not information available to lender while giving the loan\n",
    "final = final.drop(['debt_settlement_flag','out_prncp','last_pymnt_d','last_pymnt_amnt','out_prncp_inv','total_rec_int','total_rec_late_fee','recoveries','collection_recovery_fee','total_rec_prncp','total_rev_hi_lim','total_rec_int'],axis = 1)"
   ]
  },
  {
   "cell_type": "code",
   "execution_count": 54,
   "metadata": {},
   "outputs": [],
   "source": [
    "# set the data up to do the train-test split to calculate mutual info scores\n",
    "from sklearn.model_selection import train_test_split\n",
    "\n",
    "\n",
    "df_y = final['loan_status']\n",
    "df_x = final.drop(['loan_status'],axis = 1)\n",
    "\n",
    "X = df_x\n",
    "y = df_y"
   ]
  },
  {
   "cell_type": "code",
   "execution_count": 55,
   "metadata": {},
   "outputs": [],
   "source": [
    "# train-test split\n",
    "X_train, X_test, y_train, y_test = train_test_split(X, y, test_size=0.4, stratify = y)"
   ]
  },
  {
   "cell_type": "code",
   "execution_count": 57,
   "metadata": {},
   "outputs": [
    {
     "data": {
      "text/plain": [
       "[]"
      ]
     },
     "execution_count": 57,
     "metadata": {},
     "output_type": "execute_result"
    },
    {
     "data": {
      "image/png": "[encoded data removed]",
      "text/plain": [
       "<Figure size 1152x1152 with 1 Axes>"
      ]
     },
     "metadata": {
      "needs_background": "light"
     },
     "output_type": "display_data"
    }
   ],
   "source": [
    "# take a look at the mutual info scores to select which features will be part of the model\n",
    "from sklearn.metrics import adjusted_mutual_info_score\n",
    "import matplotlib.pyplot as plt\n",
    "\n",
    "mutual_info_scores = []\n",
    "\n",
    "for feature in X_train.columns:\n",
    "    # Calculate the mutual info score\n",
    "    m_info = adjusted_mutual_info_score(X_train[feature], y_train)\n",
    "    # Append it to our list\n",
    "    mutual_info_scores.append(m_info)\n",
    "\n",
    "plt.figure(figsize = (16,16))\n",
    "plt.bar(X_train.columns, mutual_info_scores)\n",
    "plt.ylabel('Mutual info shared with Target')\n",
    "plt.xticks(rotation=90)\n",
    "plt.plot()"
   ]
  },
  {
   "cell_type": "code",
   "execution_count": 59,
   "metadata": {},
   "outputs": [],
   "source": [
    "# Select the columns with highest mutual information scores\n",
    "col_list =['loan_status','annual_inc','loan_amnt','term','pub_rec','chargeoff_within_12_mths', 'int_rate', 'installment','grade', 'home_ownership', 'verification_status','purpose','dti','inq_last_6mths','acc_open_past_24mths','mort_acc','num_actv_rev_tl','num_rev_tl_bal_gt_0','num_tl_op_past_12m','percent_bc_gt_75','tot_hi_cred_lim','total_il_high_credit_limit']"
   ]
  },
  {
   "cell_type": "code",
   "execution_count": 60,
   "metadata": {},
   "outputs": [],
   "source": [
    "# include only the columns selected\n",
    "final = final[col_list]\n",
    "final = final[final.purpose != 'educational']"
   ]
  },
  {
   "cell_type": "markdown",
   "metadata": {},
   "source": [
    "Since assigning positive label to one class was still leading to confusion, I decided to convert the dependent variable to a binary 0 and 1 for the two classes."
   ]
  },
  {
   "cell_type": "code",
   "execution_count": 62,
   "metadata": {},
   "outputs": [],
   "source": [
    "import numpy as np\n",
    "# convert y variable to 0/1 binary\n",
    "final['status'] = np.where(final['loan_status']=='Charged Off',1,0)"
   ]
  },
  {
   "cell_type": "code",
   "execution_count": null,
   "metadata": {},
   "outputs": [],
   "source": [
    "# check final shape of data\n",
    "final.shape"
   ]
  },
  {
   "cell_type": "code",
   "execution_count": 64,
   "metadata": {},
   "outputs": [],
   "source": [
    "# re-do after changes\n",
    "from sklearn.model_selection import train_test_split\n",
    "\n",
    "\n",
    "df_y = final['status']\n",
    "df_x = final.drop(['loan_status','status'],axis = 1)\n",
    "\n",
    "X = df_x\n",
    "y = df_y"
   ]
  },
  {
   "cell_type": "code",
   "execution_count": 65,
   "metadata": {},
   "outputs": [],
   "source": [
    "# do the train-test split\n",
    "X_train, X_test, y_train, y_test = train_test_split(X, y, test_size=0.4, stratify = y)"
   ]
  },
  {
   "cell_type": "code",
   "execution_count": 66,
   "metadata": {},
   "outputs": [],
   "source": [
    "# One-hot encode categorical variables\n",
    "X_train = pd.get_dummies(X_train)\n",
    "X_test = pd.get_dummies(X_test)\n"
   ]
  },
  {
   "cell_type": "code",
   "execution_count": 67,
   "metadata": {},
   "outputs": [
    {
     "data": {
      "text/html": [
       "<div>\n",
       "<style scoped>\n",
       "    .dataframe tbody tr th:only-of-type {\n",
       "        vertical-align: middle;\n",
       "    }\n",
       "\n",
       "    .dataframe tbody tr th {\n",
       "        vertical-align: top;\n",
       "    }\n",
       "\n",
       "    .dataframe thead th {\n",
       "        text-align: right;\n",
       "    }\n",
       "</style>\n",
       "<table border=\"1\" class=\"dataframe\">\n",
       "  <thead>\n",
       "    <tr style=\"text-align: right;\">\n",
       "      <th></th>\n",
       "      <th>annual_inc</th>\n",
       "      <th>loan_amnt</th>\n",
       "      <th>pub_rec</th>\n",
       "      <th>chargeoff_within_12_mths</th>\n",
       "      <th>int_rate</th>\n",
       "      <th>installment</th>\n",
       "      <th>dti</th>\n",
       "      <th>inq_last_6mths</th>\n",
       "      <th>acc_open_past_24mths</th>\n",
       "      <th>mort_acc</th>\n",
       "      <th>...</th>\n",
       "      <th>purpose_home_improvement</th>\n",
       "      <th>purpose_house</th>\n",
       "      <th>purpose_major_purchase</th>\n",
       "      <th>purpose_medical</th>\n",
       "      <th>purpose_moving</th>\n",
       "      <th>purpose_other</th>\n",
       "      <th>purpose_renewable_energy</th>\n",
       "      <th>purpose_small_business</th>\n",
       "      <th>purpose_vacation</th>\n",
       "      <th>purpose_wedding</th>\n",
       "    </tr>\n",
       "  </thead>\n",
       "  <tbody>\n",
       "    <tr>\n",
       "      <th>576011</th>\n",
       "      <td>65000.0</td>\n",
       "      <td>24000</td>\n",
       "      <td>0</td>\n",
       "      <td>0</td>\n",
       "      <td>18.06</td>\n",
       "      <td>610.23</td>\n",
       "      <td>13.81</td>\n",
       "      <td>0</td>\n",
       "      <td>2</td>\n",
       "      <td>0</td>\n",
       "      <td>...</td>\n",
       "      <td>0</td>\n",
       "      <td>0</td>\n",
       "      <td>0</td>\n",
       "      <td>0</td>\n",
       "      <td>0</td>\n",
       "      <td>0</td>\n",
       "      <td>0</td>\n",
       "      <td>0</td>\n",
       "      <td>0</td>\n",
       "      <td>0</td>\n",
       "    </tr>\n",
       "    <tr>\n",
       "      <th>811494</th>\n",
       "      <td>41200.0</td>\n",
       "      <td>12000</td>\n",
       "      <td>1</td>\n",
       "      <td>0</td>\n",
       "      <td>12.49</td>\n",
       "      <td>401.39</td>\n",
       "      <td>28.11</td>\n",
       "      <td>1</td>\n",
       "      <td>6</td>\n",
       "      <td>4</td>\n",
       "      <td>...</td>\n",
       "      <td>0</td>\n",
       "      <td>0</td>\n",
       "      <td>0</td>\n",
       "      <td>0</td>\n",
       "      <td>0</td>\n",
       "      <td>0</td>\n",
       "      <td>0</td>\n",
       "      <td>0</td>\n",
       "      <td>0</td>\n",
       "      <td>0</td>\n",
       "    </tr>\n",
       "    <tr>\n",
       "      <th>263650</th>\n",
       "      <td>72000.0</td>\n",
       "      <td>13000</td>\n",
       "      <td>0</td>\n",
       "      <td>0</td>\n",
       "      <td>13.18</td>\n",
       "      <td>296.99</td>\n",
       "      <td>23.80</td>\n",
       "      <td>1</td>\n",
       "      <td>7</td>\n",
       "      <td>4</td>\n",
       "      <td>...</td>\n",
       "      <td>0</td>\n",
       "      <td>0</td>\n",
       "      <td>0</td>\n",
       "      <td>0</td>\n",
       "      <td>0</td>\n",
       "      <td>0</td>\n",
       "      <td>0</td>\n",
       "      <td>0</td>\n",
       "      <td>0</td>\n",
       "      <td>0</td>\n",
       "    </tr>\n",
       "    <tr>\n",
       "      <th>815916</th>\n",
       "      <td>50000.0</td>\n",
       "      <td>5500</td>\n",
       "      <td>0</td>\n",
       "      <td>0</td>\n",
       "      <td>6.49</td>\n",
       "      <td>168.55</td>\n",
       "      <td>4.42</td>\n",
       "      <td>2</td>\n",
       "      <td>2</td>\n",
       "      <td>0</td>\n",
       "      <td>...</td>\n",
       "      <td>0</td>\n",
       "      <td>0</td>\n",
       "      <td>0</td>\n",
       "      <td>0</td>\n",
       "      <td>0</td>\n",
       "      <td>0</td>\n",
       "      <td>0</td>\n",
       "      <td>0</td>\n",
       "      <td>0</td>\n",
       "      <td>0</td>\n",
       "    </tr>\n",
       "    <tr>\n",
       "      <th>424370</th>\n",
       "      <td>60000.0</td>\n",
       "      <td>30000</td>\n",
       "      <td>0</td>\n",
       "      <td>0</td>\n",
       "      <td>9.17</td>\n",
       "      <td>956.37</td>\n",
       "      <td>15.86</td>\n",
       "      <td>1</td>\n",
       "      <td>1</td>\n",
       "      <td>1</td>\n",
       "      <td>...</td>\n",
       "      <td>0</td>\n",
       "      <td>0</td>\n",
       "      <td>0</td>\n",
       "      <td>0</td>\n",
       "      <td>0</td>\n",
       "      <td>0</td>\n",
       "      <td>0</td>\n",
       "      <td>0</td>\n",
       "      <td>0</td>\n",
       "      <td>0</td>\n",
       "    </tr>\n",
       "  </tbody>\n",
       "</table>\n",
       "<p>5 rows × 47 columns</p>\n",
       "</div>"
      ],
      "text/plain": [
       "        annual_inc  loan_amnt  pub_rec  chargeoff_within_12_mths  int_rate  \\\n",
       "576011     65000.0      24000        0                         0     18.06   \n",
       "811494     41200.0      12000        1                         0     12.49   \n",
       "263650     72000.0      13000        0                         0     13.18   \n",
       "815916     50000.0       5500        0                         0      6.49   \n",
       "424370     60000.0      30000        0                         0      9.17   \n",
       "\n",
       "        installment    dti  inq_last_6mths  acc_open_past_24mths  mort_acc  \\\n",
       "576011       610.23  13.81               0                     2         0   \n",
       "811494       401.39  28.11               1                     6         4   \n",
       "263650       296.99  23.80               1                     7         4   \n",
       "815916       168.55   4.42               2                     2         0   \n",
       "424370       956.37  15.86               1                     1         1   \n",
       "\n",
       "        ...  purpose_home_improvement  purpose_house  purpose_major_purchase  \\\n",
       "576011  ...                         0              0                       0   \n",
       "811494  ...                         0              0                       0   \n",
       "263650  ...                         0              0                       0   \n",
       "815916  ...                         0              0                       0   \n",
       "424370  ...                         0              0                       0   \n",
       "\n",
       "        purpose_medical  purpose_moving  purpose_other  \\\n",
       "576011                0               0              0   \n",
       "811494                0               0              0   \n",
       "263650                0               0              0   \n",
       "815916                0               0              0   \n",
       "424370                0               0              0   \n",
       "\n",
       "        purpose_renewable_energy  purpose_small_business  purpose_vacation  \\\n",
       "576011                         0                       0                 0   \n",
       "811494                         0                       0                 0   \n",
       "263650                         0                       0                 0   \n",
       "815916                         0                       0                 0   \n",
       "424370                         0                       0                 0   \n",
       "\n",
       "        purpose_wedding  \n",
       "576011                0  \n",
       "811494                0  \n",
       "263650                0  \n",
       "815916                0  \n",
       "424370                0  \n",
       "\n",
       "[5 rows x 47 columns]"
      ]
     },
     "execution_count": 67,
     "metadata": {},
     "output_type": "execute_result"
    }
   ],
   "source": [
    "# Take a look at the data\n",
    "X_test.head()"
   ]
  },
  {
   "cell_type": "markdown",
   "metadata": {},
   "source": [
    "## Let's now scale data"
   ]
  },
  {
   "cell_type": "code",
   "execution_count": 68,
   "metadata": {},
   "outputs": [],
   "source": [
    "from sklearn import preprocessing\n",
    "scaler = preprocessing.StandardScaler()\n",
    "# Instantiate\n",
    "scaler.fit(X_train)\n",
    "# Transform the data\n",
    "X_train_scaled = scaler.transform(X_train)\n",
    "X_test_scaled = scaler.transform(X_test)"
   ]
  },
  {
   "cell_type": "markdown",
   "metadata": {},
   "source": [
    "For evaluation purposes, we will not look at just accuracy because data imbalance means the data is already almost 80% of one class. We will try to achieve the highest possible recall so predicting as many of the charged-off class with the highest f1 score."
   ]
  },
  {
   "cell_type": "markdown",
   "metadata": {},
   "source": [
    "## Logistic Model"
   ]
  },
  {
   "cell_type": "code",
   "execution_count": 70,
   "metadata": {},
   "outputs": [
    {
     "name": "stdout",
     "output_type": "stream",
     "text": [
      "C = 1e-08\n",
      "Accuracy = 0.619134107819096\n",
      "Recall = 0.7053140096618358\n",
      "Precision = 0.3038742152593179\n",
      "f1 score = 0.4247507767228226\n",
      "Confusion matrix:\n",
      " [[182845 123082]\n",
      " [ 22448  53728]]\n",
      "\n",
      "\n",
      "C = 1e-07\n",
      "Accuracy = 0.6192021522992491\n",
      "Recall = 0.705825981936568\n",
      "Precision = 0.30400538272777644\n",
      "f1 score = 0.42497174337451293\n",
      "Confusion matrix:\n",
      " [[182832 123095]\n",
      " [ 22409  53767]]\n",
      "\n",
      "\n",
      "C = 1e-06\n",
      "Accuracy = 0.6202934810770918\n",
      "Recall = 0.7062591892459568\n",
      "Precision = 0.30479686818385254\n",
      "f1 score = 0.42582325169082696\n",
      "Confusion matrix:\n",
      " [[183216 122711]\n",
      " [ 22376  53800]]\n",
      "\n",
      "\n",
      "C = 1e-05\n",
      "Accuracy = 0.6306519446327299\n",
      "Recall = 0.6937880697332494\n",
      "Precision = 0.30969276836621684\n",
      "f1 score = 0.4282316907656718\n",
      "Confusion matrix:\n",
      " [[188124 117803]\n",
      " [ 23326  52850]]\n",
      "\n",
      "\n",
      "C = 0.0001\n",
      "Accuracy = 0.6416542136544335\n",
      "Recall = 0.6774180844360429\n",
      "Precision = 0.3147388002805648\n",
      "f1 score = 0.4297904060700201\n",
      "Confusion matrix:\n",
      " [[193575 112352]\n",
      " [ 24573  51603]]\n",
      "\n",
      "\n",
      "C = 0.001\n",
      "Accuracy = 0.644171859420104\n",
      "Recall = 0.6738211510186936\n",
      "Precision = 0.3159777155344886\n",
      "f1 score = 0.4302136023233496\n",
      "Confusion matrix:\n",
      " [[194811 111116]\n",
      " [ 24847  51329]]\n",
      "\n",
      "\n",
      "C = 0.01\n",
      "Accuracy = 0.644705746879768\n",
      "Recall = 0.672416509136736\n",
      "Precision = 0.31613249643577923\n",
      "f1 score = 0.43007015024999684\n",
      "Confusion matrix:\n",
      " [[195122 110805]\n",
      " [ 24954  51222]]\n",
      "\n",
      "\n",
      "C = 0.1\n",
      "Accuracy = 0.6447999623138264\n",
      "Recall = 0.6723114891829448\n",
      "Precision = 0.3161845963883315\n",
      "f1 score = 0.43009687131273855\n",
      "Confusion matrix:\n",
      " [[195166 110761]\n",
      " [ 24962  51214]]\n",
      "\n",
      "\n"
     ]
    },
    {
     "data": {
      "image/png": "[encoded data removed]",
      "text/plain": [
       "<Figure size 432x288 with 1 Axes>"
      ]
     },
     "metadata": {
      "needs_background": "light"
     },
     "output_type": "display_data"
    }
   ],
   "source": [
    "import matplotlib.pyplot as plt\n",
    "from sklearn import linear_model\n",
    "from sklearn.linear_model import LogisticRegression\n",
    "from sklearn.metrics import confusion_matrix\n",
    "from sklearn.metrics import accuracy_score, f1_score, precision_score, recall_score, classification_report, confusion_matrix\n",
    "from sklearn.model_selection import cross_val_score\n",
    "import warnings\n",
    "warnings.filterwarnings('ignore')\n",
    "\n",
    "# Lets plot out different parameters with 5-fold cross validation\n",
    "accuracy_score_train = []\n",
    "accuracy_score_test = []\n",
    "validation_score_list = []\n",
    "sample_range = [.00000001,.0000001,.000001,.00001,.0001,0.001,0.01,0.1]\n",
    "\n",
    "for c in sample_range:\n",
    "    # Instantiate\n",
    "    LR_model = LogisticRegression(C=c, class_weight = 'balanced')\n",
    "    validation_score = np.mean(cross_val_score(LR_model, X_train, y_train, cv = 5))\n",
    "    validation_score_list.append(validation_score)\n",
    "    \n",
    "    # Fit\n",
    "    LR_model.fit(X_train_scaled, y_train)\n",
    "    \n",
    "    # predict\n",
    "    pred_train = LR_model.predict(X_train_scaled)\n",
    "    pred_test = LR_model.predict(X_test_scaled)\n",
    "\n",
    "    #Score\n",
    "    Train_score = LR_model.score(X_train_scaled, y_train)\n",
    "    Accuracy = LR_model.score(X_test_scaled, y_test)\n",
    "    recall = recall_score(y_test, pred_test)\n",
    "    precision = precision_score(y_test, pred_test)\n",
    "    f1score = f1_score(y_test, pred_test)\n",
    "    cmat = confusion_matrix(y_test, pred_test)\n",
    "    \n",
    "    \n",
    "    print('C =', c)\n",
    "    print('Accuracy =', Accuracy)\n",
    "    print('Recall =', recall)\n",
    "    print('Precision =', precision)\n",
    "    print('f1 score =', f1score)\n",
    "    print('Confusion matrix:\\n', cmat)\n",
    "    print('\\n')\n",
    "    \n",
    "\n",
    "%matplotlib inline\n",
    "plt.scatter(np.log10(sample_range), validation_score_list,label=\"Validation Score\",marker='o')\n",
    "plt.legend()\n",
    "plt.xlabel('Regularization Parameter: C')\n",
    "plt.ylabel('Cross-Validation Score (Average Scores)')\n",
    "plt.show();\n",
    "\n",
    "    \n",
    "    "
   ]
  },
  {
   "cell_type": "markdown",
   "metadata": {},
   "source": [
    "## Let's try Decision Trees and see if they give better f1 scores"
   ]
  },
  {
   "cell_type": "code",
   "execution_count": null,
   "metadata": {},
   "outputs": [],
   "source": [
    "import numpy as np\n",
    "from sklearn.tree import DecisionTreeClassifier\n",
    "    \n",
    "for i in np.arange(1,50,10):\n",
    "    # Instantiate\n",
    "    my_tree = DecisionTreeClassifier(max_depth = i, class_weight = 'balanced')\n",
    "\n",
    "    # Fit\n",
    "    my_tree.fit(X_train_scaled, y_train)\n",
    "\n",
    "    # predict\n",
    "    pred_train = my_tree.predict(X_train_scaled)\n",
    "    pred_test = my_tree.predict(X_test_scaled)\n",
    "\n",
    "    # Score\n",
    "    Train_score = my_tree.score(X_train_scaled, y_train)\n",
    "    Accuracy = my_tree.score(X_test_scaled, y_test)\n",
    "    recall = recall_score(y_test, pred_test)\n",
    "    precision = precision_score(y_test, pred_test)\n",
    "    f1score = f1_score(y_test, pred_test)\n",
    "    cmat = confusion_matrix(y_test, pred_test)\n",
    "    \n",
    "    \n",
    "    print('C =', i)\n",
    "    print('Accuracy =', Accuracy)\n",
    "    print('Recall =', recall)\n",
    "    print('Precision =', precision)\n",
    "    print('f1 score =', f1score)\n",
    "    print('Confusion matrix:\\n', cmat)\n",
    "    print('\\n')\n",
    "    \n",
    "\n",
    "\n"
   ]
  },
  {
   "cell_type": "markdown",
   "metadata": {},
   "source": [
    "## Let's see if a Random Forest does better"
   ]
  },
  {
   "cell_type": "code",
   "execution_count": null,
   "metadata": {},
   "outputs": [],
   "source": [
    "from sklearn.ensemble import RandomForestClassifier\n",
    "\n",
    "for i in np.arange(1,60,10):\n",
    "    my_random_forest = RandomForestClassifier(n_estimators=i, class_weight = 'balanced')\n",
    "    my_random_forest.fit(X_train_scaled, y_train)\n",
    "\n",
    " # Score\n",
    "    Train_score = my_random_forest.score(X_train_scaled, y_train)\n",
    "    Accuracy = my_random_forest.score(X_test_scaled, y_test)\n",
    "    recall = recall_score(y_test, pred_test)\n",
    "    precision = precision_score(y_test, pred_test)\n",
    "    f1score = f1_score(y_test, pred_test)\n",
    "    cmat = confusion_matrix(y_test, pred_test)\n",
    "    \n",
    "    \n",
    "    print('n_estimators =', i)\n",
    "    print('Accuracy =', Accuracy)\n",
    "    print('Recall =', recall)\n",
    "    print('Precision =', precision)\n",
    "    print('f1 score =', f1score)\n",
    "    print('Confusion matrix:\\n', cmat)\n",
    "    print('\\n')\n",
    "    \n",
    "\n"
   ]
  },
  {
   "cell_type": "markdown",
   "metadata": {},
   "source": [
    "Both random forest and decision trees give lower f1 scores that logistical regressions. I decided to go with a regularization of 0.01 as it gives me the highest f1 scores but also a high accuracy. I used class weights as balanced to account for class imbalance."
   ]
  },
  {
   "cell_type": "code",
   "execution_count": 71,
   "metadata": {},
   "outputs": [
    {
     "data": {
      "text/plain": [
       "(array([0, 1]), array([305927,  76176]))"
      ]
     },
     "execution_count": 71,
     "metadata": {},
     "output_type": "execute_result"
    }
   ],
   "source": [
    "# check for value counts of y labels to determine data class imbalance\n",
    "import numpy as np\n",
    "np.unique(y_test, return_counts=True)"
   ]
  },
  {
   "cell_type": "markdown",
   "metadata": {},
   "source": [
    "### Final Model"
   ]
  },
  {
   "cell_type": "code",
   "execution_count": 75,
   "metadata": {
    "scrolled": true
   },
   "outputs": [
    {
     "name": "stdout",
     "output_type": "stream",
     "text": [
      "C = 0.1\n",
      "Accuracy = 0.644705746879768\n",
      "Recall = 0.672416509136736\n",
      "Precision = 0.31613249643577923\n",
      "f1 score = 0.43007015024999684\n",
      "Confusion matrix:\n",
      " [[195122 110805]\n",
      " [ 24954  51222]]\n",
      "\n",
      "\n"
     ]
    }
   ],
   "source": [
    "import numpy as np\n",
    "from sklearn import metrics\n",
    "# Instantiate using balanced class weights to account for class-imbalance\n",
    "LR_model = LogisticRegression(C=0.01, class_weight = 'balanced')\n",
    "\n",
    "# Fit\n",
    "LR_model.fit(X_train_scaled, y_train)\n",
    "    \n",
    "# predict\n",
    "pred_train = LR_model.predict(X_train_scaled)\n",
    "pred_test = LR_model.predict(X_test_scaled)\n",
    "\n",
    "# Score\n",
    "Train_score = LR_model.score(X_train_scaled, y_train)\n",
    "Accuracy = LR_model.score(X_test_scaled, y_test)\n",
    "recall = recall_score(y_test, pred_test)\n",
    "precision = precision_score(y_test, pred_test)\n",
    "f1score = f1_score(y_test, pred_test)\n",
    "cmat = confusion_matrix(y_test, pred_test)\n",
    "\n",
    "print('C =', c)\n",
    "print('Accuracy =', Accuracy)\n",
    "print('Recall =', recall)\n",
    "print('Precision =', precision)\n",
    "print('f1 score =', f1score)\n",
    "print('Confusion matrix:\\n', cmat)\n",
    "print('\\n')\n",
    "\n",
    "\n",
    "    "
   ]
  },
  {
   "cell_type": "code",
   "execution_count": 87,
   "metadata": {},
   "outputs": [],
   "source": [
    "# Calculate Probability for ROC curve\n",
    "pred_test_proba = LR_model.predict_proba(X_test_scaled)[:,1]\n"
   ]
  },
  {
   "cell_type": "code",
   "execution_count": 88,
   "metadata": {},
   "outputs": [
    {
     "data": {
      "text/plain": [
       "(382103,)"
      ]
     },
     "execution_count": 88,
     "metadata": {},
     "output_type": "execute_result"
    }
   ],
   "source": [
    "pred_test_proba.shape"
   ]
  },
  {
   "cell_type": "code",
   "execution_count": 86,
   "metadata": {},
   "outputs": [
    {
     "data": {
      "text/plain": [
       "(382103,)"
      ]
     },
     "execution_count": 86,
     "metadata": {},
     "output_type": "execute_result"
    }
   ],
   "source": [
    "pred_test.shape"
   ]
  },
  {
   "cell_type": "code",
   "execution_count": 81,
   "metadata": {},
   "outputs": [
    {
     "data": {
      "text/plain": [
       "(382103,)"
      ]
     },
     "execution_count": 81,
     "metadata": {},
     "output_type": "execute_result"
    }
   ],
   "source": [
    "y_test.shape"
   ]
  },
  {
   "cell_type": "markdown",
   "metadata": {},
   "source": [
    "### Challenges and improvements\n",
    "\n",
    "- While I tried SMOTE in some previous iterations (not doumented here) I didn't test random forest and decision trees with class_weights given time constraints. I would like to see the difference in results if the model has a similar function.\n",
    "\n",
    "- Add more features into the model to see if the f1 score can be boosted overall across different types of models. \n",
    "\n",
    "  "
   ]
  },
  {
   "cell_type": "code",
   "execution_count": 89,
   "metadata": {},
   "outputs": [
    {
     "data": {
      "image/png": "[encoded data removed]",
      "text/plain": [
       "<Figure size 432x288 with 1 Axes>"
      ]
     },
     "metadata": {
      "needs_background": "light"
     },
     "output_type": "display_data"
    },
    {
     "name": "stdout",
     "output_type": "stream",
     "text": [
      "AUC score: 0.714\n"
     ]
    }
   ],
   "source": [
    "# model evaluation\n",
    "from sklearn.metrics import roc_curve, auc    \n",
    "\n",
    "fpr, tpr, _ = roc_curve(y_test, pred_test_proba)\n",
    "roc_auc = auc(fpr, tpr)\n",
    "\n",
    "plt.figure()\n",
    "lw = 2\n",
    "plt.plot(fpr, tpr, color='darkorange',\n",
    "         lw=lw, label='AUC = %0.2f' % roc_auc)\n",
    "plt.plot([0, 1], [0, 1], color='navy', lw=lw, linestyle='--')\n",
    "plt.xlabel('False Positive Rate')\n",
    "plt.ylabel('True Positive Rate')\n",
    "plt.title('ROC and AUC')\n",
    "plt.legend(loc=\"best\")\n",
    "plt.show()\n",
    "print(\"AUC score: %3.3f\" % roc_auc)"
   ]
  },
  {
   "cell_type": "code",
   "execution_count": 90,
   "metadata": {},
   "outputs": [],
   "source": [
    "columns = (list(X_train))"
   ]
  },
  {
   "cell_type": "code",
   "execution_count": 91,
   "metadata": {},
   "outputs": [],
   "source": [
    "a = (LR_model.coef_)\n"
   ]
  },
  {
   "cell_type": "code",
   "execution_count": 92,
   "metadata": {
    "scrolled": false
   },
   "outputs": [
    {
     "data": {
      "text/html": [
       "<div>\n",
       "<style scoped>\n",
       "    .dataframe tbody tr th:only-of-type {\n",
       "        vertical-align: middle;\n",
       "    }\n",
       "\n",
       "    .dataframe tbody tr th {\n",
       "        vertical-align: top;\n",
       "    }\n",
       "\n",
       "    .dataframe thead th {\n",
       "        text-align: right;\n",
       "    }\n",
       "</style>\n",
       "<table border=\"1\" class=\"dataframe\">\n",
       "  <thead>\n",
       "    <tr style=\"text-align: right;\">\n",
       "      <th></th>\n",
       "      <th>annual_inc</th>\n",
       "      <th>loan_amnt</th>\n",
       "      <th>pub_rec</th>\n",
       "      <th>chargeoff_within_12_mths</th>\n",
       "      <th>int_rate</th>\n",
       "      <th>installment</th>\n",
       "      <th>dti</th>\n",
       "      <th>inq_last_6mths</th>\n",
       "      <th>acc_open_past_24mths</th>\n",
       "      <th>mort_acc</th>\n",
       "      <th>...</th>\n",
       "      <th>purpose_home_improvement</th>\n",
       "      <th>purpose_house</th>\n",
       "      <th>purpose_major_purchase</th>\n",
       "      <th>purpose_medical</th>\n",
       "      <th>purpose_moving</th>\n",
       "      <th>purpose_other</th>\n",
       "      <th>purpose_renewable_energy</th>\n",
       "      <th>purpose_small_business</th>\n",
       "      <th>purpose_vacation</th>\n",
       "      <th>purpose_wedding</th>\n",
       "    </tr>\n",
       "  </thead>\n",
       "  <tbody>\n",
       "    <tr>\n",
       "      <th>0</th>\n",
       "      <td>-0.036677</td>\n",
       "      <td>-0.139909</td>\n",
       "      <td>0.030879</td>\n",
       "      <td>0.004337</td>\n",
       "      <td>0.100536</td>\n",
       "      <td>0.233188</td>\n",
       "      <td>0.146025</td>\n",
       "      <td>0.026538</td>\n",
       "      <td>0.124581</td>\n",
       "      <td>-0.106154</td>\n",
       "      <td>...</td>\n",
       "      <td>0.025029</td>\n",
       "      <td>-0.004345</td>\n",
       "      <td>0.011003</td>\n",
       "      <td>0.013278</td>\n",
       "      <td>0.010526</td>\n",
       "      <td>0.009631</td>\n",
       "      <td>-0.001179</td>\n",
       "      <td>0.044031</td>\n",
       "      <td>0.011005</td>\n",
       "      <td>-0.014944</td>\n",
       "    </tr>\n",
       "  </tbody>\n",
       "</table>\n",
       "<p>1 rows × 47 columns</p>\n",
       "</div>"
      ],
      "text/plain": [
       "   annual_inc  loan_amnt   pub_rec  chargeoff_within_12_mths  int_rate  \\\n",
       "0   -0.036677  -0.139909  0.030879                  0.004337  0.100536   \n",
       "\n",
       "   installment       dti  inq_last_6mths  acc_open_past_24mths  mort_acc  ...  \\\n",
       "0     0.233188  0.146025        0.026538              0.124581 -0.106154  ...   \n",
       "\n",
       "   purpose_home_improvement  purpose_house  purpose_major_purchase  \\\n",
       "0                  0.025029      -0.004345                0.011003   \n",
       "\n",
       "   purpose_medical  purpose_moving  purpose_other  purpose_renewable_energy  \\\n",
       "0         0.013278        0.010526       0.009631                 -0.001179   \n",
       "\n",
       "   purpose_small_business  purpose_vacation  purpose_wedding  \n",
       "0                0.044031          0.011005        -0.014944  \n",
       "\n",
       "[1 rows x 47 columns]"
      ]
     },
     "execution_count": 92,
     "metadata": {},
     "output_type": "execute_result"
    }
   ],
   "source": [
    "# print out column names as columns and coefficients as values\n",
    "col3= df = pd.DataFrame(a,columns=columns)\n",
    "col3.head()"
   ]
  },
  {
   "cell_type": "code",
   "execution_count": null,
   "metadata": {},
   "outputs": [],
   "source": [
    "#export to csv\n",
    "col3.to_csv('C:/Users/Farhan/Documents/Capstone/coefficients.csv')"
   ]
  }
 ],
 "metadata": {
  "kernelspec": {
   "display_name": "Python 3",
   "language": "python",
   "name": "python3"
  },
  "language_info": {
   "codemirror_mode": {
    "name": "ipython",
    "version": 3
   },
   "file_extension": ".py",
   "mimetype": "text/x-python",
   "name": "python",
   "nbconvert_exporter": "python",
   "pygments_lexer": "ipython3",
   "version": "3.7.3"
  }
 },
 "nbformat": 4,
 "nbformat_minor": 2
}
